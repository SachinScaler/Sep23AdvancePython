{
  "nbformat": 4,
  "nbformat_minor": 0,
  "metadata": {
    "colab": {
      "provenance": [],
      "authorship_tag": "ABX9TyOwBQYhJzWRhZ+k4YTdfWms",
      "include_colab_link": true
    },
    "kernelspec": {
      "name": "python3",
      "display_name": "Python 3"
    },
    "language_info": {
      "name": "python"
    }
  },
  "cells": [
    {
      "cell_type": "markdown",
      "metadata": {
        "id": "view-in-github",
        "colab_type": "text"
      },
      "source": [
        "<a href=\"https://colab.research.google.com/github/SachinScaler/Sep23AdvancePython/blob/main/Problem_Solving_1.ipynb\" target=\"_parent\"><img src=\"https://colab.research.google.com/assets/colab-badge.svg\" alt=\"Open In Colab\"/></a>"
      ]
    },
    {
      "cell_type": "code",
      "execution_count": 3,
      "metadata": {
        "colab": {
          "base_uri": "https://localhost:8080/"
        },
        "id": "GFFUC0kWk_Gy",
        "outputId": "ac2da07d-6fce-472f-96c9-0b4ac7498b95"
      },
      "outputs": [
        {
          "output_type": "execute_result",
          "data": {
            "text/plain": [
              "True"
            ]
          },
          "metadata": {},
          "execution_count": 3
        }
      ],
      "source": [
        "type([])==list"
      ]
    },
    {
      "cell_type": "code",
      "source": [
        "isinstance([], list) #oop: Ineheritance"
      ],
      "metadata": {
        "colab": {
          "base_uri": "https://localhost:8080/"
        },
        "id": "3i6MZ_7U7VLm",
        "outputId": "ac4a4515-445c-4d29-b52c-16816765efad"
      },
      "execution_count": 2,
      "outputs": [
        {
          "output_type": "execute_result",
          "data": {
            "text/plain": [
              "True"
            ]
          },
          "metadata": {},
          "execution_count": 2
        }
      ]
    },
    {
      "cell_type": "code",
      "source": [
        "list1 = [1 ,2 ,3, 4, 5]\n",
        "\n",
        "new_list=[]\n",
        "for element in list1:\n",
        "    new_list.append(element**2)\n",
        "new_list"
      ],
      "metadata": {
        "colab": {
          "base_uri": "https://localhost:8080/"
        },
        "id": "eW-QWP6Y7YjF",
        "outputId": "e2bd9be3-9ded-4f3b-8bc1-71d15a3f3550"
      },
      "execution_count": 4,
      "outputs": [
        {
          "output_type": "execute_result",
          "data": {
            "text/plain": [
              "[1, 4, 9, 16, 25]"
            ]
          },
          "metadata": {},
          "execution_count": 4
        }
      ]
    },
    {
      "cell_type": "code",
      "source": [
        "new_list = [element**2 for element in list1]\n",
        "new_list"
      ],
      "metadata": {
        "colab": {
          "base_uri": "https://localhost:8080/"
        },
        "id": "NzHXq1Of8Jkc",
        "outputId": "bc1a38bb-6e96-42ad-f390-58456ef4125f"
      },
      "execution_count": 5,
      "outputs": [
        {
          "output_type": "execute_result",
          "data": {
            "text/plain": [
              "[1, 4, 9, 16, 25]"
            ]
          },
          "metadata": {},
          "execution_count": 5
        }
      ]
    },
    {
      "cell_type": "markdown",
      "source": [
        "# filtering"
      ],
      "metadata": {
        "id": "LKVyz_ds9VyQ"
      }
    },
    {
      "cell_type": "code",
      "source": [
        "new_list=[]\n",
        "for element in list1:\n",
        "    if element%2==0:\n",
        "        new_list.append(element**2)\n",
        "new_list"
      ],
      "metadata": {
        "colab": {
          "base_uri": "https://localhost:8080/"
        },
        "id": "7opvHiYQ9Xtj",
        "outputId": "964a79b6-47a3-4d48-ada2-8b8470e3b26e"
      },
      "execution_count": 16,
      "outputs": [
        {
          "output_type": "execute_result",
          "data": {
            "text/plain": [
              "[4, 16]"
            ]
          },
          "metadata": {},
          "execution_count": 16
        }
      ]
    },
    {
      "cell_type": "code",
      "source": [
        "new_list = [element**2 for element in list1 if element%2==0]\n",
        "new_list"
      ],
      "metadata": {
        "id": "RCNoSFtv-tSV"
      },
      "execution_count": null,
      "outputs": []
    },
    {
      "cell_type": "code",
      "source": [
        "### Conditional output if\n",
        "list1 = [1 ,2 ,3, 4, 5]\n",
        "\n",
        "new_list=[]\n",
        "for element in list1:\n",
        "    if element%2==0:\n",
        "        new_list.append(element**3)\n",
        "    else:\n",
        "        new_list.append(element)\n",
        "new_list"
      ],
      "metadata": {
        "colab": {
          "base_uri": "https://localhost:8080/"
        },
        "id": "6HSk5k2a9h6y",
        "outputId": "a9e8e730-0d78-4832-84a2-016d91ce2de0"
      },
      "execution_count": 13,
      "outputs": [
        {
          "output_type": "execute_result",
          "data": {
            "text/plain": [
              "[1, 8, 3, 64, 5]"
            ]
          },
          "metadata": {},
          "execution_count": 13
        }
      ]
    },
    {
      "cell_type": "code",
      "source": [
        "new_list = [element**3 if element%2==0 else element for element in list1 ]\n",
        "new_list"
      ],
      "metadata": {
        "colab": {
          "base_uri": "https://localhost:8080/"
        },
        "id": "J6tj7EDK93-O",
        "outputId": "858a0f6a-82f2-43ac-ff43-509480b02143"
      },
      "execution_count": 15,
      "outputs": [
        {
          "output_type": "execute_result",
          "data": {
            "text/plain": [
              "[1, 8, 3, 64, 5]"
            ]
          },
          "metadata": {},
          "execution_count": 15
        }
      ]
    },
    {
      "cell_type": "code",
      "source": [
        "new_list=[]\n",
        "for element in list1:\n",
        "    if element%2==0:\n",
        "        new_list.append(element**2)\n",
        "    elif element%3==0:\n",
        "        new_list.append(element**3)\n",
        "    else:\n",
        "        new_list.append(element)\n",
        "\n",
        "\n",
        "new_list"
      ],
      "metadata": {
        "colab": {
          "base_uri": "https://localhost:8080/"
        },
        "id": "2e_9d86B94FX",
        "outputId": "297c2dda-95bf-4617-d9e5-ae9a79b5ef16"
      },
      "execution_count": 17,
      "outputs": [
        {
          "output_type": "execute_result",
          "data": {
            "text/plain": [
              "[1, 4, 27, 16, 5]"
            ]
          },
          "metadata": {},
          "execution_count": 17
        }
      ]
    },
    {
      "cell_type": "code",
      "source": [
        "new_list = [element**2 if element%2==0 else element**3 if  element%3==0  else element for element in list1 ]\n",
        "new_list"
      ],
      "metadata": {
        "colab": {
          "base_uri": "https://localhost:8080/"
        },
        "id": "rhDycM7Z_dJf",
        "outputId": "1cc50965-269c-4c7f-c929-8e1278d3f216"
      },
      "execution_count": 19,
      "outputs": [
        {
          "output_type": "execute_result",
          "data": {
            "text/plain": [
              "[1, 4, 27, 16, 5]"
            ]
          },
          "metadata": {},
          "execution_count": 19
        }
      ]
    },
    {
      "cell_type": "code",
      "source": [
        "new_list = {element**2 for element in list1}\n",
        "new_list"
      ],
      "metadata": {
        "colab": {
          "base_uri": "https://localhost:8080/"
        },
        "id": "dGUihGvW8lOt",
        "outputId": "d2c2c884-ce88-452c-f29a-8a27d6bf14cf"
      },
      "execution_count": 6,
      "outputs": [
        {
          "output_type": "execute_result",
          "data": {
            "text/plain": [
              "{1, 4, 9, 16, 25}"
            ]
          },
          "metadata": {},
          "execution_count": 6
        }
      ]
    },
    {
      "cell_type": "code",
      "source": [
        "new_list = {element:element**2 for element in list1}\n",
        "new_list"
      ],
      "metadata": {
        "colab": {
          "base_uri": "https://localhost:8080/"
        },
        "id": "N97CFqzB8R28",
        "outputId": "8ac26fd1-b942-4a6d-9da5-79439462ca49"
      },
      "execution_count": 7,
      "outputs": [
        {
          "output_type": "execute_result",
          "data": {
            "text/plain": [
              "{1: 1, 2: 4, 3: 9, 4: 16, 5: 25}"
            ]
          },
          "metadata": {},
          "execution_count": 7
        }
      ]
    },
    {
      "cell_type": "code",
      "source": [
        "new_list = (element**2 for element in list1)\n",
        "new_list"
      ],
      "metadata": {
        "colab": {
          "base_uri": "https://localhost:8080/"
        },
        "id": "j12d9GtK8sO3",
        "outputId": "66580696-0c6c-4ccc-861a-132986b11f5b"
      },
      "execution_count": 9,
      "outputs": [
        {
          "output_type": "execute_result",
          "data": {
            "text/plain": [
              "<generator object <genexpr> at 0x7c5f3456d770>"
            ]
          },
          "metadata": {},
          "execution_count": 9
        }
      ]
    },
    {
      "cell_type": "code",
      "source": [
        "for i in new_list:\n",
        "    print(i)"
      ],
      "metadata": {
        "colab": {
          "base_uri": "https://localhost:8080/"
        },
        "id": "5eIZOTf-8zxP",
        "outputId": "6c743753-158a-4f27-ccef-4ab980c49885"
      },
      "execution_count": 11,
      "outputs": [
        {
          "output_type": "stream",
          "name": "stdout",
          "text": [
            "1\n",
            "4\n",
            "9\n",
            "16\n",
            "25\n"
          ]
        }
      ]
    },
    {
      "cell_type": "code",
      "source": [
        "list1 = [ 1,2,3,4,0]\n",
        "# 1 and 2 and 3 and 4 and 0\n",
        "all(list1)"
      ],
      "metadata": {
        "colab": {
          "base_uri": "https://localhost:8080/"
        },
        "id": "V7Dw_rwsAymp",
        "outputId": "055c2efc-329e-4dba-d546-6b65dab3b3aa"
      },
      "execution_count": 20,
      "outputs": [
        {
          "output_type": "execute_result",
          "data": {
            "text/plain": [
              "False"
            ]
          },
          "metadata": {},
          "execution_count": 20
        }
      ]
    },
    {
      "cell_type": "code",
      "source": [
        "list1 = [[],\"\",0]\n",
        "# 1 or 2 or 3 or 4 or 0-> True\n",
        "any(list1)"
      ],
      "metadata": {
        "colab": {
          "base_uri": "https://localhost:8080/"
        },
        "id": "QNfrf9pFBFOK",
        "outputId": "de7f3814-d5e7-4b65-c535-fa7ddeba3125"
      },
      "execution_count": 22,
      "outputs": [
        {
          "output_type": "execute_result",
          "data": {
            "text/plain": [
              "False"
            ]
          },
          "metadata": {},
          "execution_count": 22
        }
      ]
    },
    {
      "cell_type": "code",
      "source": [
        "# def func():\n",
        "#     return value\n",
        "\n",
        "# def func():\n",
        "#     yield value"
      ],
      "metadata": {
        "id": "k8jWOfzd85aw"
      },
      "execution_count": null,
      "outputs": []
    },
    {
      "cell_type": "code",
      "source": [
        "##Functional Programming 2\n",
        "### Higher Order Function:\n",
        " #### Decorator"
      ],
      "metadata": {
        "id": "1sidC6-2BprP"
      },
      "execution_count": 23,
      "outputs": []
    },
    {
      "cell_type": "code",
      "source": [
        "arr = [[1,2,3],[10,11,12],[4,5,6],[13,14,15],[10,1,2]]\n",
        "print(max (arr, key=sum ) )"
      ],
      "metadata": {
        "id": "dDNy-ZK-B2t2"
      },
      "execution_count": null,
      "outputs": []
    },
    {
      "cell_type": "code",
      "source": [
        "arr = [[1,2,3],\n",
        "        [10,-1,12],\n",
        "         [4,5,6],\n",
        "          [13,14,15],\n",
        "           [10,1,2]]\n",
        "print(sorted(arr))"
      ],
      "metadata": {
        "colab": {
          "base_uri": "https://localhost:8080/"
        },
        "id": "z-w2UKpDB98o",
        "outputId": "7c767963-4929-47b9-9c04-29cdb23fcda2"
      },
      "execution_count": 25,
      "outputs": [
        {
          "output_type": "stream",
          "name": "stdout",
          "text": [
            "[[1, 2, 3], [4, 5, 6], [10, -1, 12], [10, 1, 2], [13, 14, 15]]\n"
          ]
        }
      ]
    },
    {
      "cell_type": "code",
      "source": [
        "def myfunc(list1):\n",
        "    return list1[1]\n",
        "print(sorted(arr, key=myfunc, reverse =False))"
      ],
      "metadata": {
        "colab": {
          "base_uri": "https://localhost:8080/"
        },
        "id": "9S1grypgCDzb",
        "outputId": "ddfd0854-24b7-4157-90e5-b75ac429a551"
      },
      "execution_count": 27,
      "outputs": [
        {
          "output_type": "stream",
          "name": "stdout",
          "text": [
            "[[10, -1, 12], [10, 1, 2], [1, 2, 3], [4, 5, 6], [13, 14, 15]]\n"
          ]
        }
      ]
    },
    {
      "cell_type": "code",
      "source": [
        "print(sorted(arr, key=lambda list1:list1[1]))"
      ],
      "metadata": {
        "colab": {
          "base_uri": "https://localhost:8080/"
        },
        "id": "0_3SDVzIC6lK",
        "outputId": "b6927e65-8a4e-4d3b-de0e-66f6390367c0"
      },
      "execution_count": 29,
      "outputs": [
        {
          "output_type": "stream",
          "name": "stdout",
          "text": [
            "[[10, -1, 12], [10, 1, 2], [1, 2, 3], [4, 5, 6], [13, 14, 15]]\n"
          ]
        }
      ]
    },
    {
      "cell_type": "code",
      "source": [
        "print(sorted(arr, key=sum))"
      ],
      "metadata": {
        "colab": {
          "base_uri": "https://localhost:8080/"
        },
        "id": "EPKPRuC1DQ1q",
        "outputId": "563cdc0c-a724-40b3-c52a-100155eadefb"
      },
      "execution_count": 32,
      "outputs": [
        {
          "output_type": "stream",
          "name": "stdout",
          "text": [
            "[[1, 2, 3], [10, 1, 2], [4, 5, 6], [10, -1, 12], [13, 14, 15]]\n"
          ]
        }
      ]
    },
    {
      "cell_type": "code",
      "source": [
        "sum([1,2,3])"
      ],
      "metadata": {
        "colab": {
          "base_uri": "https://localhost:8080/"
        },
        "id": "U5TRxy8SDhEj",
        "outputId": "2236200a-3cff-443f-a801-ccad7a84618a"
      },
      "execution_count": 31,
      "outputs": [
        {
          "output_type": "execute_result",
          "data": {
            "text/plain": [
              "6"
            ]
          },
          "metadata": {},
          "execution_count": 31
        }
      ]
    },
    {
      "cell_type": "code",
      "source": [
        "\n",
        "result = sum(n for _, n in list1)"
      ],
      "metadata": {
        "id": "2hg3t2Y9DiQ2"
      },
      "execution_count": null,
      "outputs": []
    },
    {
      "cell_type": "code",
      "source": [
        "a,b= 1,2"
      ],
      "metadata": {
        "id": "wBRlLqojD73F"
      },
      "execution_count": 33,
      "outputs": []
    },
    {
      "cell_type": "code",
      "source": [
        "list1 = [[1,2], [12,13],[22,23]]\n",
        "for _,n in list1:\n",
        "    print(n)"
      ],
      "metadata": {
        "colab": {
          "base_uri": "https://localhost:8080/"
        },
        "id": "ik6a3vW2D9Pl",
        "outputId": "8cfb650a-52cf-43fd-b675-3e7d11b6f231"
      },
      "execution_count": 36,
      "outputs": [
        {
          "output_type": "stream",
          "name": "stdout",
          "text": [
            "2\n",
            "13\n",
            "23\n"
          ]
        }
      ]
    },
    {
      "cell_type": "code",
      "source": [],
      "metadata": {
        "id": "5IZM67DHENBf"
      },
      "execution_count": null,
      "outputs": []
    }
  ]
}