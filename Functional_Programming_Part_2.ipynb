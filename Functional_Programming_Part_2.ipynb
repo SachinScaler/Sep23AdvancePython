{
  "nbformat": 4,
  "nbformat_minor": 0,
  "metadata": {
    "colab": {
      "provenance": [],
      "authorship_tag": "ABX9TyP5eOaLpEAFXBLjMNIB/W23",
      "include_colab_link": true
    },
    "kernelspec": {
      "name": "python3",
      "display_name": "Python 3"
    },
    "language_info": {
      "name": "python"
    }
  },
  "cells": [
    {
      "cell_type": "markdown",
      "metadata": {
        "id": "view-in-github",
        "colab_type": "text"
      },
      "source": [
        "<a href=\"https://colab.research.google.com/github/SachinScaler/Sep23AdvancePython/blob/main/Functional_Programming_Part_2.ipynb\" target=\"_parent\"><img src=\"https://colab.research.google.com/assets/colab-badge.svg\" alt=\"Open In Colab\"/></a>"
      ]
    },
    {
      "cell_type": "code",
      "execution_count": 2,
      "metadata": {
        "colab": {
          "base_uri": "https://localhost:8080/"
        },
        "id": "pVhAGDGJCWRy",
        "outputId": "122ede1b-4df1-4cd7-8d06-e55a0c061b96"
      },
      "outputs": [
        {
          "output_type": "stream",
          "name": "stdout",
          "text": [
            "<map object at 0x78832fe76380>\n"
          ]
        }
      ],
      "source": [
        "tuple1 = (1,2,3,4,5)\n",
        "out = (map(lambda x:x**2,tuple1))\n",
        "print(out)"
      ]
    },
    {
      "cell_type": "code",
      "source": [
        "next(out) # runtime"
      ],
      "metadata": {
        "colab": {
          "base_uri": "https://localhost:8080/"
        },
        "id": "8kFv5NVdMPi0",
        "outputId": "f7b82450-877f-4c96-a40b-df912ed422ca"
      },
      "execution_count": 3,
      "outputs": [
        {
          "output_type": "execute_result",
          "data": {
            "text/plain": [
              "1"
            ]
          },
          "metadata": {},
          "execution_count": 3
        }
      ]
    },
    {
      "cell_type": "code",
      "source": [
        "next(out)"
      ],
      "metadata": {
        "colab": {
          "base_uri": "https://localhost:8080/"
        },
        "id": "qg9n4KvZMfwt",
        "outputId": "65f5b403-dcd6-4491-c863-e63a0679b978"
      },
      "execution_count": 4,
      "outputs": [
        {
          "output_type": "execute_result",
          "data": {
            "text/plain": [
              "4"
            ]
          },
          "metadata": {},
          "execution_count": 4
        }
      ]
    },
    {
      "cell_type": "code",
      "source": [
        "next(out)"
      ],
      "metadata": {
        "colab": {
          "base_uri": "https://localhost:8080/"
        },
        "id": "EnAQ3_cYMvzV",
        "outputId": "6927e75a-1b9a-4a4f-871d-3739f30fb7d5"
      },
      "execution_count": 5,
      "outputs": [
        {
          "output_type": "execute_result",
          "data": {
            "text/plain": [
              "9"
            ]
          },
          "metadata": {},
          "execution_count": 5
        }
      ]
    },
    {
      "cell_type": "code",
      "source": [
        "next(out)"
      ],
      "metadata": {
        "colab": {
          "base_uri": "https://localhost:8080/"
        },
        "id": "Gv8lSl48Mw6K",
        "outputId": "f58c7a29-f493-4c14-c912-4dbe642e867f"
      },
      "execution_count": 6,
      "outputs": [
        {
          "output_type": "execute_result",
          "data": {
            "text/plain": [
              "16"
            ]
          },
          "metadata": {},
          "execution_count": 6
        }
      ]
    },
    {
      "cell_type": "code",
      "source": [
        "next(out)"
      ],
      "metadata": {
        "colab": {
          "base_uri": "https://localhost:8080/"
        },
        "id": "KtFjMc2XMyEB",
        "outputId": "c70bcba3-61fc-4d5c-ae42-ac4ba09e2fe9"
      },
      "execution_count": 7,
      "outputs": [
        {
          "output_type": "execute_result",
          "data": {
            "text/plain": [
              "25"
            ]
          },
          "metadata": {},
          "execution_count": 7
        }
      ]
    },
    {
      "cell_type": "code",
      "source": [
        "next(out)"
      ],
      "metadata": {
        "colab": {
          "base_uri": "https://localhost:8080/",
          "height": 192
        },
        "id": "P9qPPwgoM1Uc",
        "outputId": "fc6df656-d5b9-4bb5-86d1-b3e0bb3eb44b"
      },
      "execution_count": 8,
      "outputs": [
        {
          "output_type": "error",
          "ename": "StopIteration",
          "evalue": "ignored",
          "traceback": [
            "\u001b[0;31m---------------------------------------------------------------------------\u001b[0m",
            "\u001b[0;31mStopIteration\u001b[0m                             Traceback (most recent call last)",
            "\u001b[0;32m<ipython-input-8-f3a70d1f0e09>\u001b[0m in \u001b[0;36m<cell line: 1>\u001b[0;34m()\u001b[0m\n\u001b[0;32m----> 1\u001b[0;31m \u001b[0mnext\u001b[0m\u001b[0;34m(\u001b[0m\u001b[0mout\u001b[0m\u001b[0;34m)\u001b[0m\u001b[0;34m\u001b[0m\u001b[0;34m\u001b[0m\u001b[0m\n\u001b[0m",
            "\u001b[0;31mStopIteration\u001b[0m: "
          ]
        }
      ]
    },
    {
      "cell_type": "code",
      "source": [
        "out = list((map(lambda x:x**2,tuple1)))\n",
        "print(out)"
      ],
      "metadata": {
        "colab": {
          "base_uri": "https://localhost:8080/"
        },
        "id": "e4pOlpqfM30f",
        "outputId": "53918639-4390-4e05-ac2f-c59412635953"
      },
      "execution_count": 9,
      "outputs": [
        {
          "output_type": "stream",
          "name": "stdout",
          "text": [
            "[1, 4, 9, 16, 25]\n"
          ]
        }
      ]
    },
    {
      "cell_type": "code",
      "source": [
        "out = tuple((map(lambda x:x**2,tuple1)))\n",
        "print(out)"
      ],
      "metadata": {
        "colab": {
          "base_uri": "https://localhost:8080/"
        },
        "id": "cmPS5dZTNEix",
        "outputId": "f45de4a4-4d43-4490-9b75-c59c61c6b9e9"
      },
      "execution_count": 10,
      "outputs": [
        {
          "output_type": "stream",
          "name": "stdout",
          "text": [
            "(1, 4, 9, 16, 25)\n"
          ]
        }
      ]
    },
    {
      "cell_type": "code",
      "source": [
        "out = set((map(lambda x:x**2,tuple1)))\n",
        "print(out)"
      ],
      "metadata": {
        "colab": {
          "base_uri": "https://localhost:8080/"
        },
        "id": "2WOiYI3eNGIQ",
        "outputId": "b8f733a3-6486-488c-c6f7-d6d3bd4f6fee"
      },
      "execution_count": 11,
      "outputs": [
        {
          "output_type": "stream",
          "name": "stdout",
          "text": [
            "{1, 4, 9, 16, 25}\n"
          ]
        }
      ]
    },
    {
      "cell_type": "markdown",
      "source": [
        "Filter"
      ],
      "metadata": {
        "id": "-iLq63elP6vl"
      }
    },
    {
      "cell_type": "code",
      "source": [
        "set1 = {1,2,3,4,5}\n",
        "out = filter(lambda x:x%2==0,set1)\n",
        "print(out)"
      ],
      "metadata": {
        "colab": {
          "base_uri": "https://localhost:8080/"
        },
        "id": "co4SfkBLNHBe",
        "outputId": "dc652082-e798-429f-9efe-c103616da687"
      },
      "execution_count": 12,
      "outputs": [
        {
          "output_type": "stream",
          "name": "stdout",
          "text": [
            "<filter object at 0x78832fe80f40>\n"
          ]
        }
      ]
    },
    {
      "cell_type": "code",
      "source": [
        "print(list(out))"
      ],
      "metadata": {
        "colab": {
          "base_uri": "https://localhost:8080/"
        },
        "id": "sfwTb2gmQFve",
        "outputId": "d7cff7f3-f31a-49e0-e3ff-ab2b9e3aee3a"
      },
      "execution_count": 13,
      "outputs": [
        {
          "output_type": "stream",
          "name": "stdout",
          "text": [
            "[2, 4]\n"
          ]
        }
      ]
    },
    {
      "cell_type": "code",
      "source": [
        "str1 = \"sachin\"\n",
        "out = \"\".join((filter(lambda x:x in 'aeiou',str1)))\n",
        "print(out)"
      ],
      "metadata": {
        "colab": {
          "base_uri": "https://localhost:8080/"
        },
        "id": "0FjZaGPoQL0Z",
        "outputId": "d37417d5-3a7d-4c9f-c03b-7e857b196403"
      },
      "execution_count": 18,
      "outputs": [
        {
          "output_type": "stream",
          "name": "stdout",
          "text": [
            "ai\n"
          ]
        }
      ]
    },
    {
      "cell_type": "code",
      "source": [
        "set1 = {1,2,3,4,5}\n",
        "out = set(filter(lambda x:x-2,set1)) #true,false,true,true, true\n",
        "print(out)"
      ],
      "metadata": {
        "colab": {
          "base_uri": "https://localhost:8080/"
        },
        "id": "xh6QSHoGQbkI",
        "outputId": "ebf0f3e5-5580-486b-8e9b-0c2ac3a57415"
      },
      "execution_count": 22,
      "outputs": [
        {
          "output_type": "stream",
          "name": "stdout",
          "text": [
            "{1, 3, 4, 5}\n"
          ]
        }
      ]
    },
    {
      "cell_type": "markdown",
      "source": [
        "Zip"
      ],
      "metadata": {
        "id": "XmILPBtaTAjy"
      }
    },
    {
      "cell_type": "code",
      "source": [
        "list1 = [1,2,3,4,5]\n",
        "tup1 = (\"a\",\"b\",\"c\",\"d\",\"e\")\n",
        "\n",
        "out = set(zip(list1, tup1))\n",
        "print(out)"
      ],
      "metadata": {
        "colab": {
          "base_uri": "https://localhost:8080/"
        },
        "id": "Kn_6ThlJRFpo",
        "outputId": "f9e8b0b1-7715-477f-d49a-ff09c8637c45"
      },
      "execution_count": 26,
      "outputs": [
        {
          "output_type": "stream",
          "name": "stdout",
          "text": [
            "{(4, 'd'), (2, 'b'), (5, 'e'), (3, 'c'), (1, 'a')}\n"
          ]
        }
      ]
    },
    {
      "cell_type": "code",
      "source": [
        "list1 = [1]\n",
        "iter1 = range(1,10000)\n",
        "\n",
        "out = list(zip(list1, iter1))\n",
        "print(out)"
      ],
      "metadata": {
        "colab": {
          "base_uri": "https://localhost:8080/"
        },
        "id": "2gtg3rNKTQpo",
        "outputId": "a5580695-8aa6-427e-e6f2-e30c3945d5e3"
      },
      "execution_count": 30,
      "outputs": [
        {
          "output_type": "stream",
          "name": "stdout",
          "text": [
            "[(1, 1)]\n"
          ]
        }
      ]
    },
    {
      "cell_type": "code",
      "source": [
        "list1 = [\"A\", \"B\", \"C\"] # length 3\n",
        "list2 = [1,2,3,4] # length 4\n",
        "list3 = [\"!\", \"@\", \"#\", \"$\", \"%\"] # length 5\n",
        "list(zip(list1,list2 ,list3))"
      ],
      "metadata": {
        "colab": {
          "base_uri": "https://localhost:8080/"
        },
        "id": "85xyoK4bUAg8",
        "outputId": "bc6de7ad-97d8-4765-b88f-7236931eb60f"
      },
      "execution_count": 31,
      "outputs": [
        {
          "output_type": "execute_result",
          "data": {
            "text/plain": [
              "[('A', 1, '!'), ('B', 2, '@'), ('C', 3, '#')]"
            ]
          },
          "metadata": {},
          "execution_count": 31
        }
      ]
    },
    {
      "cell_type": "code",
      "source": [],
      "metadata": {
        "id": "UMuY75XNVbNG"
      },
      "execution_count": null,
      "outputs": []
    },
    {
      "cell_type": "markdown",
      "source": [
        "```\n",
        "\n",
        "Lambda Functions is also called Anonymous\n",
        "\n",
        "Lambda Functions can't be stored in Variable\n",
        "\n",
        "Lambda function takes a set of inputs and returns one or more outputs\n",
        "\n",
        "Lambda function is a way to achieve Functional programming in python\n",
        "```"
      ],
      "metadata": {
        "id": "xfTh-NRfVVaS"
      }
    },
    {
      "cell_type": "code",
      "source": [
        "a,b=(lambda x,y: (x+y,x-y))(2,3)\n",
        "print(a)\n",
        "print(b)"
      ],
      "metadata": {
        "colab": {
          "base_uri": "https://localhost:8080/"
        },
        "id": "ss5vCkABU8kd",
        "outputId": "0cefada5-a89c-4fc4-f820-8a39b4f0bb68"
      },
      "execution_count": 34,
      "outputs": [
        {
          "output_type": "stream",
          "name": "stdout",
          "text": [
            "5\n",
            "-1\n"
          ]
        }
      ]
    },
    {
      "cell_type": "markdown",
      "source": [
        "Reduce"
      ],
      "metadata": {
        "id": "gsP3onN4Zzmg"
      }
    },
    {
      "cell_type": "code",
      "source": [
        "list1 = [\"s\",\"a\",\"c\",\"h\",\"i\",\"n\"]\n",
        "\"\".join(list1)"
      ],
      "metadata": {
        "colab": {
          "base_uri": "https://localhost:8080/",
          "height": 56
        },
        "id": "C2Y0jF3oV1vy",
        "outputId": "fff7f01b-a2a6-421b-d0b2-683166e0646a"
      },
      "execution_count": 35,
      "outputs": [
        {
          "output_type": "execute_result",
          "data": {
            "text/plain": [
              "'sachin'"
            ],
            "application/vnd.google.colaboratory.intrinsic+json": {
              "type": "string"
            }
          },
          "metadata": {},
          "execution_count": 35
        }
      ]
    },
    {
      "cell_type": "code",
      "source": [
        "from functools import reduce\n",
        "\n",
        "list1 = [\"s\",\"a\",\"c\",\"h\",\"i\",\"n\"]\n",
        "reduce(lambda x,y:x+y, list1)"
      ],
      "metadata": {
        "colab": {
          "base_uri": "https://localhost:8080/",
          "height": 56
        },
        "id": "M1hvgAPrZ_uy",
        "outputId": "bd2b3600-212f-4f83-9543-596e0df56cc0"
      },
      "execution_count": 37,
      "outputs": [
        {
          "output_type": "execute_result",
          "data": {
            "text/plain": [
              "'sachin'"
            ],
            "application/vnd.google.colaboratory.intrinsic+json": {
              "type": "string"
            }
          },
          "metadata": {},
          "execution_count": 37
        }
      ]
    },
    {
      "cell_type": "code",
      "source": [
        "list1 = [\"s\",\"a\",\"c\",\"h\",\"i\",\"n\"]\n",
        "reduce(lambda x,y:x+'a', list1)"
      ],
      "metadata": {
        "colab": {
          "base_uri": "https://localhost:8080/",
          "height": 56
        },
        "id": "nLyLP9aSaSAG",
        "outputId": "95845f43-bedb-46c4-f83a-f2a48bc7b66f"
      },
      "execution_count": 41,
      "outputs": [
        {
          "output_type": "execute_result",
          "data": {
            "text/plain": [
              "'saaaaa'"
            ],
            "application/vnd.google.colaboratory.intrinsic+json": {
              "type": "string"
            }
          },
          "metadata": {},
          "execution_count": 41
        }
      ]
    },
    {
      "cell_type": "code",
      "source": [
        "list1 = [1,2,3,4,5]\n",
        "reduce(lambda x,y:x+y, list1,100)"
      ],
      "metadata": {
        "colab": {
          "base_uri": "https://localhost:8080/"
        },
        "id": "WdE70yktamqO",
        "outputId": "87660108-891d-44dd-e54e-25ae1b2f781e"
      },
      "execution_count": 43,
      "outputs": [
        {
          "output_type": "execute_result",
          "data": {
            "text/plain": [
              "115"
            ]
          },
          "metadata": {},
          "execution_count": 43
        }
      ]
    },
    {
      "cell_type": "code",
      "source": [
        "from functools import reduce\n",
        "reduce(lambda x,y: x*y, [3, 1, 4],10)"
      ],
      "metadata": {
        "colab": {
          "base_uri": "https://localhost:8080/"
        },
        "id": "bWmWTvtMa3V4",
        "outputId": "332f0258-2376-4c03-facd-d764cb0a7ce3"
      },
      "execution_count": 45,
      "outputs": [
        {
          "output_type": "execute_result",
          "data": {
            "text/plain": [
              "120"
            ]
          },
          "metadata": {},
          "execution_count": 45
        }
      ]
    },
    {
      "cell_type": "markdown",
      "source": [],
      "metadata": {
        "id": "LbHMKWBLbteE"
      }
    },
    {
      "cell_type": "code",
      "source": [
        "n =5\n",
        "reduce(lambda x,y: x*y, range(1,n+1))"
      ],
      "metadata": {
        "colab": {
          "base_uri": "https://localhost:8080/"
        },
        "id": "gk27wA3nbTjU",
        "outputId": "2a371f26-77e4-4b14-ed2f-b1b6c14490e9"
      },
      "execution_count": 47,
      "outputs": [
        {
          "output_type": "execute_result",
          "data": {
            "text/plain": [
              "120"
            ]
          },
          "metadata": {},
          "execution_count": 47
        }
      ]
    },
    {
      "cell_type": "code",
      "source": [
        "lists = [1,2]\n",
        "res=list(map((lambda x:x*2),lists))\n",
        "res"
      ],
      "metadata": {
        "colab": {
          "base_uri": "https://localhost:8080/"
        },
        "id": "HF2Cv8KXbz3B",
        "outputId": "d11ba302-4a4b-45ca-a945-53a1d630d4a4"
      },
      "execution_count": 49,
      "outputs": [
        {
          "output_type": "execute_result",
          "data": {
            "text/plain": [
              "[2, 4]"
            ]
          },
          "metadata": {},
          "execution_count": 49
        }
      ]
    },
    {
      "cell_type": "code",
      "source": [
        "list1= [1,2]"
      ],
      "metadata": {
        "id": "zrE_NWh5cJ_o"
      },
      "execution_count": null,
      "outputs": []
    },
    {
      "cell_type": "markdown",
      "source": [
        "### args and kwargs"
      ],
      "metadata": {
        "id": "yaJhiUsLciYm"
      }
    },
    {
      "cell_type": "code",
      "source": [
        "def func(a,b,*args):\n",
        "    print(args) # arbitary arg: Tuple of any size\n",
        "    return a+b+sum(args)\n",
        "\n",
        "func(1,2,3,4,5,6)"
      ],
      "metadata": {
        "colab": {
          "base_uri": "https://localhost:8080/"
        },
        "id": "nnADkpYqcldH",
        "outputId": "4bb95561-c4c5-4629-8172-0c33bd96884d"
      },
      "execution_count": 60,
      "outputs": [
        {
          "output_type": "stream",
          "name": "stdout",
          "text": [
            "(3, 4, 5, 6)\n"
          ]
        },
        {
          "output_type": "execute_result",
          "data": {
            "text/plain": [
              "21"
            ]
          },
          "metadata": {},
          "execution_count": 60
        }
      ]
    },
    {
      "cell_type": "code",
      "source": [
        "def func(a,b,**kwargs):\n",
        "    print(kwargs) # arbitary kwargs: dict of any size\n",
        "    return kwargs\n",
        "\n",
        "func(1,2,c=3,d=4,e=5,f=6)"
      ],
      "metadata": {
        "colab": {
          "base_uri": "https://localhost:8080/"
        },
        "id": "-AZGybr_cq42",
        "outputId": "7af8aa66-545e-4746-ef4c-3870a1495318"
      },
      "execution_count": 62,
      "outputs": [
        {
          "output_type": "stream",
          "name": "stdout",
          "text": [
            "{'c': 3, 'd': 4, 'e': 5, 'f': 6}\n"
          ]
        },
        {
          "output_type": "execute_result",
          "data": {
            "text/plain": [
              "{'c': 3, 'd': 4, 'e': 5, 'f': 6}"
            ]
          },
          "metadata": {},
          "execution_count": 62
        }
      ]
    },
    {
      "cell_type": "code",
      "source": [
        "def func(name,rollno,*args,**kwargs):\n",
        "    print(a)\n",
        "    print(b)\n",
        "    print(args)\n",
        "\n",
        "    dict1= {\"name\":name,\"rollno\":rollno}\n",
        "\n",
        "    print(kwargs)# arbitary kwargs: dict of any size\n",
        "    dict1.update(kwargs)\n",
        "    return dict1\n",
        "\n",
        "func(1,2,\"A\",\"B\",age=3,pancard=4)"
      ],
      "metadata": {
        "colab": {
          "base_uri": "https://localhost:8080/"
        },
        "id": "z-RyXvI_dl2f",
        "outputId": "b93e92a2-8a0d-48c9-cf9c-b6d0ee925542"
      },
      "execution_count": 70,
      "outputs": [
        {
          "output_type": "stream",
          "name": "stdout",
          "text": [
            "5\n",
            "-1\n",
            "('A', 'B')\n",
            "{'age': 3, 'pancard': 4}\n"
          ]
        },
        {
          "output_type": "execute_result",
          "data": {
            "text/plain": [
              "{'name': 1, 'rollno': 2, 'age': 3, 'pancard': 4}"
            ]
          },
          "metadata": {},
          "execution_count": 70
        }
      ]
    },
    {
      "cell_type": "code",
      "source": [
        "def sample_func(x, y, *args, **kwargs):\n",
        "    return x, y, args, kwargs\n",
        "\n",
        "len(sample_func(1, 2, 3, 4, a=5, b=6))"
      ],
      "metadata": {
        "colab": {
          "base_uri": "https://localhost:8080/"
        },
        "id": "N1PPlZitd4M8",
        "outputId": "9dd55ef4-6cb1-459c-8bc0-41dbf2732f11"
      },
      "execution_count": 73,
      "outputs": [
        {
          "output_type": "execute_result",
          "data": {
            "text/plain": [
              "4"
            ]
          },
          "metadata": {},
          "execution_count": 73
        }
      ]
    },
    {
      "cell_type": "markdown",
      "source": [
        "HW:\n",
        "Convert given height to t-shirt size\n",
        "```\n",
        "\n",
        "If height <120 then S\n",
        "If height < 150 and height >=120 then M\n",
        "If height >= 150 then L\n",
        "\n",
        "Given input list heights\n",
        "```\n",
        "heights = [145,155,170, 180,140,90,105]"
      ],
      "metadata": {
        "id": "kaWwbX5wfzX7"
      }
    },
    {
      "cell_type": "code",
      "source": [
        "s = {1, 2, 5, 7, 2, 9}\n",
        "def f1(x):\n",
        "    return x<6\n",
        "\n",
        "m1 = filter(f1, s)\n",
        "print(list(m1))"
      ],
      "metadata": {
        "colab": {
          "base_uri": "https://localhost:8080/"
        },
        "id": "2TtdQPVFe-_x",
        "outputId": "8e191745-2c63-4ab4-ab6c-77f3803d280c"
      },
      "execution_count": 74,
      "outputs": [
        {
          "output_type": "stream",
          "name": "stdout",
          "text": [
            "[1, 2, 5]\n"
          ]
        }
      ]
    },
    {
      "cell_type": "code",
      "source": [
        "list1 = [1, 0, 1]\n",
        "list2 = [0, 0, 1]\n",
        "res = list(map(lambda x, y:  x == y, list1, list2))\n",
        "print(res)"
      ],
      "metadata": {
        "colab": {
          "base_uri": "https://localhost:8080/"
        },
        "id": "QTRdruQ4gzQy",
        "outputId": "ece187e1-870d-4408-9f02-07375c63e149"
      },
      "execution_count": 75,
      "outputs": [
        {
          "output_type": "stream",
          "name": "stdout",
          "text": [
            "[False, True, True]\n"
          ]
        }
      ]
    },
    {
      "cell_type": "code",
      "source": [
        "for i in range(len(list1)):\n",
        "    x=list1[i]\n",
        "    y=list2[i]\n",
        "    print(x,y)"
      ],
      "metadata": {
        "colab": {
          "base_uri": "https://localhost:8080/"
        },
        "id": "5iTWRZjshICw",
        "outputId": "52a6d81d-234a-473b-8601-1cb1dbfd21f1"
      },
      "execution_count": 79,
      "outputs": [
        {
          "output_type": "stream",
          "name": "stdout",
          "text": [
            "1 0\n",
            "0 0\n",
            "1 1\n"
          ]
        }
      ]
    },
    {
      "cell_type": "code",
      "source": [
        "list1 = [1, 0, 1]\n",
        "list2 = [0, 0, 1]\n",
        "res = list(map(lambda x, y:  x == y, list1, list2))\n",
        "res"
      ],
      "metadata": {
        "colab": {
          "base_uri": "https://localhost:8080/"
        },
        "id": "VkwyE1mDhc08",
        "outputId": "5ffb9e13-e644-49e1-f44d-11d2ea8cb246"
      },
      "execution_count": 81,
      "outputs": [
        {
          "output_type": "execute_result",
          "data": {
            "text/plain": [
              "[False, True, True]"
            ]
          },
          "metadata": {},
          "execution_count": 81
        }
      ]
    },
    {
      "cell_type": "markdown",
      "source": [
        "Gens vs Funcs/Yeild vs Return"
      ],
      "metadata": {
        "id": "Kph1DmNdiSoe"
      }
    },
    {
      "cell_type": "code",
      "source": [
        "# function: Doesn't preserve state\n",
        "def func1():\n",
        "    return 1 # only this is returned and funtion is terminated\n",
        "    return 2\n",
        "    return 3\n",
        "out=func1()\n",
        "print(out)"
      ],
      "metadata": {
        "colab": {
          "base_uri": "https://localhost:8080/"
        },
        "id": "ic6V0QIOhzLr",
        "outputId": "0eada8b0-1751-495d-b43d-c09dbb299ff9"
      },
      "execution_count": 84,
      "outputs": [
        {
          "output_type": "stream",
          "name": "stdout",
          "text": [
            "1\n"
          ]
        }
      ]
    },
    {
      "cell_type": "code",
      "source": [
        "out1=func1()\n",
        "print(out1)"
      ],
      "metadata": {
        "colab": {
          "base_uri": "https://localhost:8080/"
        },
        "id": "aXU0Zblli7vg",
        "outputId": "d325131f-9f50-42f7-8c5e-0b201039cb3c"
      },
      "execution_count": 85,
      "outputs": [
        {
          "output_type": "stream",
          "name": "stdout",
          "text": [
            "1\n"
          ]
        }
      ]
    },
    {
      "cell_type": "code",
      "source": [
        "\n",
        "# generator: Preserving the state\n",
        "def func2():\n",
        "    yield 1\n",
        "    yield 2\n",
        "    yield 3\n",
        "\n",
        "out=func2()\n",
        "print(out)"
      ],
      "metadata": {
        "colab": {
          "base_uri": "https://localhost:8080/"
        },
        "id": "6RF5mIfUib4n",
        "outputId": "233d4cb3-4cee-4721-a83d-f8b69f4f8ea7"
      },
      "execution_count": 86,
      "outputs": [
        {
          "output_type": "stream",
          "name": "stdout",
          "text": [
            "<generator object func2 at 0x7883228dc350>\n"
          ]
        }
      ]
    },
    {
      "cell_type": "code",
      "source": [
        "next(out)"
      ],
      "metadata": {
        "colab": {
          "base_uri": "https://localhost:8080/"
        },
        "id": "-uYvgzNajJJe",
        "outputId": "990dcfb0-a9d0-4865-c618-abc5f2db2934"
      },
      "execution_count": 87,
      "outputs": [
        {
          "output_type": "execute_result",
          "data": {
            "text/plain": [
              "1"
            ]
          },
          "metadata": {},
          "execution_count": 87
        }
      ]
    },
    {
      "cell_type": "code",
      "source": [
        "next(out)"
      ],
      "metadata": {
        "colab": {
          "base_uri": "https://localhost:8080/"
        },
        "id": "DNK0oxfLjLm_",
        "outputId": "9822c169-79a9-492d-e10c-ce8fc3b673b1"
      },
      "execution_count": 88,
      "outputs": [
        {
          "output_type": "execute_result",
          "data": {
            "text/plain": [
              "2"
            ]
          },
          "metadata": {},
          "execution_count": 88
        }
      ]
    },
    {
      "cell_type": "code",
      "source": [
        "next(out)"
      ],
      "metadata": {
        "colab": {
          "base_uri": "https://localhost:8080/"
        },
        "id": "mCOCAK1GjM4f",
        "outputId": "b77f9eb3-161d-4336-9d35-d8e57274eb0d"
      },
      "execution_count": 89,
      "outputs": [
        {
          "output_type": "execute_result",
          "data": {
            "text/plain": [
              "3"
            ]
          },
          "metadata": {},
          "execution_count": 89
        }
      ]
    },
    {
      "cell_type": "code",
      "source": [
        "next(out)"
      ],
      "metadata": {
        "colab": {
          "base_uri": "https://localhost:8080/",
          "height": 192
        },
        "id": "5v79lNOWjO1w",
        "outputId": "a944f168-7287-4517-8303-0fcf15b0b63f"
      },
      "execution_count": 90,
      "outputs": [
        {
          "output_type": "error",
          "ename": "StopIteration",
          "evalue": "ignored",
          "traceback": [
            "\u001b[0;31m---------------------------------------------------------------------------\u001b[0m",
            "\u001b[0;31mStopIteration\u001b[0m                             Traceback (most recent call last)",
            "\u001b[0;32m<ipython-input-90-d0edc0a57825>\u001b[0m in \u001b[0;36m<cell line: 1>\u001b[0;34m()\u001b[0m\n\u001b[0;32m----> 1\u001b[0;31m \u001b[0mnext\u001b[0m\u001b[0;34m(\u001b[0m\u001b[0mout\u001b[0m\u001b[0;34m)\u001b[0m\u001b[0;34m\u001b[0m\u001b[0;34m\u001b[0m\u001b[0m\n\u001b[0m",
            "\u001b[0;31mStopIteration\u001b[0m: "
          ]
        }
      ]
    },
    {
      "cell_type": "code",
      "source": [
        "def custom_map(list1, func):\n",
        "    for element in list1:\n",
        "        yield func(element)\n",
        "tuple1=(1,2,3,4,5)\n",
        "out = custom_map(tuple1,lambda x:x**2)\n",
        "print(tuple(out))"
      ],
      "metadata": {
        "colab": {
          "base_uri": "https://localhost:8080/"
        },
        "id": "DQoR1MPejRe3",
        "outputId": "0f5723ec-3893-44eb-ba9b-4c1de6ea1b9c"
      },
      "execution_count": 93,
      "outputs": [
        {
          "output_type": "stream",
          "name": "stdout",
          "text": [
            "(1, 4, 9, 16, 25)\n"
          ]
        }
      ]
    },
    {
      "cell_type": "code",
      "source": [
        "range(1,5)"
      ],
      "metadata": {
        "colab": {
          "base_uri": "https://localhost:8080/"
        },
        "id": "CIH82-B5jyHp",
        "outputId": "15633a40-75c9-4461-d68c-808375a20728"
      },
      "execution_count": 94,
      "outputs": [
        {
          "output_type": "execute_result",
          "data": {
            "text/plain": [
              "range(1, 5)"
            ]
          },
          "metadata": {},
          "execution_count": 94
        }
      ]
    },
    {
      "cell_type": "code",
      "source": [
        "list1 = [1,0,1,1,1]\n",
        "\n",
        "dict1= {1:\"Yes\", 0:\"No\"}\n",
        "\n",
        "list(map(lambda x:dict1[x],list1))"
      ],
      "metadata": {
        "colab": {
          "base_uri": "https://localhost:8080/"
        },
        "id": "485abuCjkAV-",
        "outputId": "a0b79a8c-1e05-4297-ac7b-ffe5bf16ce18"
      },
      "execution_count": 97,
      "outputs": [
        {
          "output_type": "execute_result",
          "data": {
            "text/plain": [
              "['Yes', 'No', 'Yes', 'Yes', 'Yes']"
            ]
          },
          "metadata": {},
          "execution_count": 97
        }
      ]
    },
    {
      "cell_type": "code",
      "source": [
        "# pandas\n",
        "# map as a method of pandas Series\n",
        "import pandas as pd\n",
        "list1 = pd.Series([1,0,1,1,1])\n",
        "\n",
        "dict1= {1:\"Yes\", 0:\"No\"}\n",
        "\n",
        "# transform the series with dictionary\n",
        "print(list1.map(dict1))"
      ],
      "metadata": {
        "colab": {
          "base_uri": "https://localhost:8080/"
        },
        "id": "d40lFMIvkgk6",
        "outputId": "55476b00-96fb-4fa4-b2cc-488e1e968010"
      },
      "execution_count": 101,
      "outputs": [
        {
          "output_type": "stream",
          "name": "stdout",
          "text": [
            "0    Yes\n",
            "1     No\n",
            "2    Yes\n",
            "3    Yes\n",
            "4    Yes\n",
            "dtype: object\n"
          ]
        }
      ]
    },
    {
      "cell_type": "code",
      "source": [
        "def fib(n):\n",
        "    if n<=1:\n",
        "        return n\n",
        "    elif n==2:\n",
        "        return 1\n",
        "\n",
        "    return fib(n-1)+ fib(n-2)\n",
        "\n",
        "n=5\n",
        "for i in range(n+1):\n",
        "    print(fib(i))"
      ],
      "metadata": {
        "colab": {
          "base_uri": "https://localhost:8080/"
        },
        "id": "kINiIAhQk1ZR",
        "outputId": "35bac099-d3bf-48ae-d6df-8c080e467dce"
      },
      "execution_count": 109,
      "outputs": [
        {
          "output_type": "stream",
          "name": "stdout",
          "text": [
            "0\n",
            "1\n",
            "1\n",
            "2\n",
            "3\n",
            "5\n"
          ]
        }
      ]
    },
    {
      "cell_type": "code",
      "source": [
        "def check_prime(n):\n",
        "    pass\n",
        "    # returns True or False\n",
        "\n",
        "def factorial(n):\n",
        "    #return fact\n",
        "    pass\n",
        "\n",
        "#\n",
        "map(lambda x: factorial(x) if check_prime else x,  map(fib, range(1,n+1))"
      ],
      "metadata": {
        "id": "JTKlZebUmWie"
      },
      "execution_count": null,
      "outputs": []
    }
  ]
}