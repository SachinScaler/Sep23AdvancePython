{
  "nbformat": 4,
  "nbformat_minor": 0,
  "metadata": {
    "colab": {
      "provenance": [],
      "authorship_tag": "ABX9TyNCfXNUSaoggKY+8n5096Q+",
      "include_colab_link": true
    },
    "kernelspec": {
      "name": "python3",
      "display_name": "Python 3"
    },
    "language_info": {
      "name": "python"
    }
  },
  "cells": [
    {
      "cell_type": "markdown",
      "metadata": {
        "id": "view-in-github",
        "colab_type": "text"
      },
      "source": [
        "<a href=\"https://colab.research.google.com/github/SachinScaler/Sep23AdvancePython/blob/main/Functional_Programming_Part_1.ipynb\" target=\"_parent\"><img src=\"https://colab.research.google.com/assets/colab-badge.svg\" alt=\"Open In Colab\"/></a>"
      ]
    },
    {
      "cell_type": "code",
      "execution_count": 3,
      "metadata": {
        "colab": {
          "base_uri": "https://localhost:8080/"
        },
        "id": "s04rVECnzSyk",
        "outputId": "f4e5984a-0a50-4c03-d40d-e7b1bff1e7f9"
      },
      "outputs": [
        {
          "output_type": "execute_result",
          "data": {
            "text/plain": [
              "[4, 9, 16, 25]"
            ]
          },
          "metadata": {},
          "execution_count": 3
        }
      ],
      "source": [
        "list1 = [2,3,4,5]\n",
        "\n",
        "# procedural programming\n",
        "def squared_list(list1):\n",
        "    for i in range(len(list1)):\n",
        "        list1[i]=list1[i]*list1[i]\n",
        "    return list1\n",
        "squared_list(list1)"
      ]
    },
    {
      "cell_type": "code",
      "source": [
        "list1"
      ],
      "metadata": {
        "colab": {
          "base_uri": "https://localhost:8080/"
        },
        "id": "RDyrCovN4DGO",
        "outputId": "37dca81c-f8c9-4eb2-e8c4-9ddd956953f9"
      },
      "execution_count": 4,
      "outputs": [
        {
          "output_type": "execute_result",
          "data": {
            "text/plain": [
              "[4, 9, 16, 25]"
            ]
          },
          "metadata": {},
          "execution_count": 4
        }
      ]
    },
    {
      "cell_type": "code",
      "source": [
        "list1 = [2,3,4,5]\n",
        "\n",
        "# functional Programming\n",
        "out= list(map(lambda x: x*x, list1)) # y = f(x)\n",
        "out"
      ],
      "metadata": {
        "colab": {
          "base_uri": "https://localhost:8080/"
        },
        "id": "4J1mDfrh4bpL",
        "outputId": "611d80f0-5e65-438c-9830-8a076670ceb1"
      },
      "execution_count": 5,
      "outputs": [
        {
          "output_type": "execute_result",
          "data": {
            "text/plain": [
              "[4, 9, 16, 25]"
            ]
          },
          "metadata": {},
          "execution_count": 5
        }
      ]
    },
    {
      "cell_type": "code",
      "source": [
        "list1"
      ],
      "metadata": {
        "colab": {
          "base_uri": "https://localhost:8080/"
        },
        "id": "vwptnA9c49zk",
        "outputId": "b58dfdf9-576d-4d88-d0d6-8181d90c892a"
      },
      "execution_count": 6,
      "outputs": [
        {
          "output_type": "execute_result",
          "data": {
            "text/plain": [
              "[2, 3, 4, 5]"
            ]
          },
          "metadata": {},
          "execution_count": 6
        }
      ]
    },
    {
      "cell_type": "markdown",
      "source": [
        "### lambda functions"
      ],
      "metadata": {
        "id": "eTRKe1hF796P"
      }
    },
    {
      "cell_type": "code",
      "source": [
        "# anonymous\n",
        "(lambda x:x**2)(4)"
      ],
      "metadata": {
        "colab": {
          "base_uri": "https://localhost:8080/"
        },
        "id": "Cca291ZN5XPP",
        "outputId": "8cbdbb1e-8c25-459e-8fe2-78f64a5948e0"
      },
      "execution_count": 8,
      "outputs": [
        {
          "output_type": "execute_result",
          "data": {
            "text/plain": [
              "16"
            ]
          },
          "metadata": {},
          "execution_count": 8
        }
      ]
    },
    {
      "cell_type": "code",
      "source": [
        "(lambda x:x**2)(8)"
      ],
      "metadata": {
        "colab": {
          "base_uri": "https://localhost:8080/"
        },
        "id": "WEEpkhsQ5Ps4",
        "outputId": "2e43174b-49f2-4757-fb9c-1d5d493efb1b"
      },
      "execution_count": 9,
      "outputs": [
        {
          "output_type": "execute_result",
          "data": {
            "text/plain": [
              "64"
            ]
          },
          "metadata": {},
          "execution_count": 9
        }
      ]
    },
    {
      "cell_type": "code",
      "source": [
        "func = (lambda x:x**2)\n",
        "func(4)"
      ],
      "metadata": {
        "colab": {
          "base_uri": "https://localhost:8080/"
        },
        "id": "uqFW_50O8QAV",
        "outputId": "80c776d2-aad1-4906-c452-31ec4be2b09e"
      },
      "execution_count": 10,
      "outputs": [
        {
          "output_type": "execute_result",
          "data": {
            "text/plain": [
              "16"
            ]
          },
          "metadata": {},
          "execution_count": 10
        }
      ]
    },
    {
      "cell_type": "code",
      "source": [
        "func(8)"
      ],
      "metadata": {
        "colab": {
          "base_uri": "https://localhost:8080/"
        },
        "id": "xQMwYb1W8UWh",
        "outputId": "ca0bdc75-b7f6-4702-d25f-709df92db678"
      },
      "execution_count": 11,
      "outputs": [
        {
          "output_type": "execute_result",
          "data": {
            "text/plain": [
              "64"
            ]
          },
          "metadata": {},
          "execution_count": 11
        }
      ]
    },
    {
      "cell_type": "code",
      "source": [
        "func(20)"
      ],
      "metadata": {
        "colab": {
          "base_uri": "https://localhost:8080/"
        },
        "id": "fL37QQpH8V2G",
        "outputId": "1f2e92dc-3d50-4a1f-8762-c1288328e35f"
      },
      "execution_count": 12,
      "outputs": [
        {
          "output_type": "execute_result",
          "data": {
            "text/plain": [
              "400"
            ]
          },
          "metadata": {},
          "execution_count": 12
        }
      ]
    },
    {
      "cell_type": "code",
      "source": [
        "list1 = [\"aaab\", \"aab\", \"a\", \"baaaab\"] # sort on count of a\n",
        "sorted(list1, key = lambda x:x.count('a'))"
      ],
      "metadata": {
        "colab": {
          "base_uri": "https://localhost:8080/"
        },
        "id": "5Jba6Yaf8XGq",
        "outputId": "be8f7a40-9fc4-4af7-b8b2-104a70aa45be"
      },
      "execution_count": 13,
      "outputs": [
        {
          "output_type": "execute_result",
          "data": {
            "text/plain": [
              "['a', 'aab', 'aaab', 'baaaab']"
            ]
          },
          "metadata": {},
          "execution_count": 13
        }
      ]
    },
    {
      "cell_type": "code",
      "source": [
        "def count_a(x):\n",
        "    return x.count('a')\n",
        "sorted(list1, key =count_a)"
      ],
      "metadata": {
        "colab": {
          "base_uri": "https://localhost:8080/"
        },
        "id": "m8l7kXcX89im",
        "outputId": "763b2810-8278-41b9-9adc-420f135c58c3"
      },
      "execution_count": 14,
      "outputs": [
        {
          "output_type": "execute_result",
          "data": {
            "text/plain": [
              "['a', 'aab', 'aaab', 'baaaab']"
            ]
          },
          "metadata": {},
          "execution_count": 14
        }
      ]
    },
    {
      "cell_type": "code",
      "source": [
        "out = (lambda x:x**2)(4)\n",
        "print(out)"
      ],
      "metadata": {
        "colab": {
          "base_uri": "https://localhost:8080/"
        },
        "id": "IuCfdslZ9OC2",
        "outputId": "10b217f2-b5b4-4655-faf7-536ea5988751"
      },
      "execution_count": 15,
      "outputs": [
        {
          "output_type": "stream",
          "name": "stdout",
          "text": [
            "16\n"
          ]
        }
      ]
    },
    {
      "cell_type": "code",
      "source": [
        "z = (lambda x:x**2)\n",
        "print(z)"
      ],
      "metadata": {
        "colab": {
          "base_uri": "https://localhost:8080/"
        },
        "id": "M5ovT9n09tVR",
        "outputId": "0e7031b8-2d16-482b-aa73-7d5c09cbfbfd"
      },
      "execution_count": 16,
      "outputs": [
        {
          "output_type": "stream",
          "name": "stdout",
          "text": [
            "<function <lambda> at 0x79a5aaa230a0>\n"
          ]
        }
      ]
    },
    {
      "cell_type": "code",
      "source": [
        "list1 = [{\"Student\": \"Sachin\", \"Marks\":20},\n",
        "         {\"Student\": \"Naveen\", \"Marks\":100},\n",
        "         {\"Student\": \"Jatin\", \"Marks\":99},\n",
        "         {\"Student\": \"Rachin\", \"Marks\":60}\n",
        "         ]\n",
        "sorted(list1)"
      ],
      "metadata": {
        "colab": {
          "base_uri": "https://localhost:8080/",
          "height": 225
        },
        "id": "aMioeEEe9yNC",
        "outputId": "289fa934-1723-490e-eaa0-8ed68bd7932b"
      },
      "execution_count": 19,
      "outputs": [
        {
          "output_type": "error",
          "ename": "TypeError",
          "evalue": "ignored",
          "traceback": [
            "\u001b[0;31m---------------------------------------------------------------------------\u001b[0m",
            "\u001b[0;31mTypeError\u001b[0m                                 Traceback (most recent call last)",
            "\u001b[0;32m<ipython-input-19-6aed2cb51778>\u001b[0m in \u001b[0;36m<cell line: 6>\u001b[0;34m()\u001b[0m\n\u001b[1;32m      4\u001b[0m          \u001b[0;34m{\u001b[0m\u001b[0;34m\"Student\"\u001b[0m\u001b[0;34m:\u001b[0m \u001b[0;34m\"Rachin\"\u001b[0m\u001b[0;34m,\u001b[0m \u001b[0;34m\"Marks\"\u001b[0m\u001b[0;34m:\u001b[0m\u001b[0;36m60\u001b[0m\u001b[0;34m}\u001b[0m\u001b[0;34m\u001b[0m\u001b[0;34m\u001b[0m\u001b[0m\n\u001b[1;32m      5\u001b[0m          ]\n\u001b[0;32m----> 6\u001b[0;31m \u001b[0msorted\u001b[0m\u001b[0;34m(\u001b[0m\u001b[0mlist1\u001b[0m\u001b[0;34m)\u001b[0m\u001b[0;34m\u001b[0m\u001b[0;34m\u001b[0m\u001b[0m\n\u001b[0m",
            "\u001b[0;31mTypeError\u001b[0m: '<' not supported between instances of 'dict' and 'dict'"
          ]
        }
      ]
    },
    {
      "cell_type": "code",
      "source": [
        "{\"Student\": \"Sachin\", \"Marks\":20}>{\"Student\": \"Naveen\", \"Marks\":100}"
      ],
      "metadata": {
        "id": "7FPDbqNJ-6-F"
      },
      "execution_count": null,
      "outputs": []
    },
    {
      "cell_type": "code",
      "source": [
        "list1 = [{\"Student\": \"Sachin\", \"Marks\":20},\n",
        "         {\"Student\": \"Naveen\", \"Marks\":100},\n",
        "         {\"Student\": \"Jatin\", \"Marks\":99},\n",
        "         {\"Student\": \"Rachin\", \"Marks\":60}\n",
        "         ]\n",
        "sorted(list1, key = lambda x:x[\"Student\"])"
      ],
      "metadata": {
        "colab": {
          "base_uri": "https://localhost:8080/"
        },
        "id": "l68WtCpU-r8_",
        "outputId": "11289111-faaf-4219-ee2c-7612f42daf78"
      },
      "execution_count": 20,
      "outputs": [
        {
          "output_type": "execute_result",
          "data": {
            "text/plain": [
              "[{'Student': 'Jatin', 'Marks': 99},\n",
              " {'Student': 'Naveen', 'Marks': 100},\n",
              " {'Student': 'Rachin', 'Marks': 60},\n",
              " {'Student': 'Sachin', 'Marks': 20}]"
            ]
          },
          "metadata": {},
          "execution_count": 20
        }
      ]
    },
    {
      "cell_type": "code",
      "source": [
        "list1 = [{\"Student\": \"Sachin\", \"Marks\":20},\n",
        "         {\"Student\": \"Naveen\", \"Marks\":100},\n",
        "         {\"Student\": \"Jatin\", \"Marks\":99},\n",
        "         {\"Student\": \"Rachin\", \"Marks\":60}\n",
        "         ]\n",
        "sorted(list1, key = lambda x:x[\"Marks\"], reverse=False)"
      ],
      "metadata": {
        "colab": {
          "base_uri": "https://localhost:8080/"
        },
        "id": "yRj_rgWj-0yP",
        "outputId": "e541979e-1479-4f66-d124-0dabf57a05f2"
      },
      "execution_count": 23,
      "outputs": [
        {
          "output_type": "execute_result",
          "data": {
            "text/plain": [
              "[{'Student': 'Sachin', 'Marks': 20},\n",
              " {'Student': 'Rachin', 'Marks': 60},\n",
              " {'Student': 'Jatin', 'Marks': 99},\n",
              " {'Student': 'Naveen', 'Marks': 100}]"
            ]
          },
          "metadata": {},
          "execution_count": 23
        }
      ]
    },
    {
      "cell_type": "markdown",
      "source": [
        "More Examples:\n"
      ],
      "metadata": {
        "id": "sybZ4e4f_7Ij"
      }
    },
    {
      "cell_type": "code",
      "source": [
        "# more than one args as input\n",
        "(lambda x,y,z: x+y-z)(1,2,3)"
      ],
      "metadata": {
        "colab": {
          "base_uri": "https://localhost:8080/"
        },
        "id": "D1I4VgwR_GZq",
        "outputId": "ea5a5f9e-ac4f-48cc-ebe3-2cceeb0de034"
      },
      "execution_count": 26,
      "outputs": [
        {
          "output_type": "execute_result",
          "data": {
            "text/plain": [
              "0"
            ]
          },
          "metadata": {},
          "execution_count": 26
        }
      ]
    },
    {
      "cell_type": "code",
      "source": [
        "(lambda x: x*2)([1,2,3])"
      ],
      "metadata": {
        "colab": {
          "base_uri": "https://localhost:8080/"
        },
        "id": "V433Wng3AcOj",
        "outputId": "52940b2e-4d1c-428d-bb38-21c28f3fda1a"
      },
      "execution_count": 34,
      "outputs": [
        {
          "output_type": "execute_result",
          "data": {
            "text/plain": [
              "[1, 2, 3, 1, 2, 3]"
            ]
          },
          "metadata": {},
          "execution_count": 34
        }
      ]
    },
    {
      "cell_type": "code",
      "source": [
        "# more than one output\n",
        "(lambda x,y: (x+y, x-y))(1,2)"
      ],
      "metadata": {
        "colab": {
          "base_uri": "https://localhost:8080/"
        },
        "id": "apzNcCJbAO87",
        "outputId": "5c08b293-06ab-4a96-e1aa-e1ecf5415337"
      },
      "execution_count": 32,
      "outputs": [
        {
          "output_type": "execute_result",
          "data": {
            "text/plain": [
              "(3, -1)"
            ]
          },
          "metadata": {},
          "execution_count": 32
        }
      ]
    },
    {
      "cell_type": "code",
      "source": [
        "# lambda on top lambda lambda\n",
        "\n",
        "(lambda z:(lambda x,y:x+y)(2,3)-z)(10)"
      ],
      "metadata": {
        "colab": {
          "base_uri": "https://localhost:8080/"
        },
        "id": "-zgyz2CZA5PM",
        "outputId": "b708fcde-9bad-4b0e-86e7-49fa4c58c6a9"
      },
      "execution_count": 38,
      "outputs": [
        {
          "output_type": "execute_result",
          "data": {
            "text/plain": [
              "-5"
            ]
          },
          "metadata": {},
          "execution_count": 38
        }
      ]
    },
    {
      "cell_type": "code",
      "source": [
        "# if else in lambda\n",
        "(lambda x: x**2 if x<5 else x**3)(10)"
      ],
      "metadata": {
        "colab": {
          "base_uri": "https://localhost:8080/"
        },
        "id": "ExNrlzJ0D6Zu",
        "outputId": "ce4baab2-bfdc-44db-8dd0-d214cf2adcfe"
      },
      "execution_count": 39,
      "outputs": [
        {
          "output_type": "execute_result",
          "data": {
            "text/plain": [
              "1000"
            ]
          },
          "metadata": {},
          "execution_count": 39
        }
      ]
    },
    {
      "cell_type": "code",
      "source": [
        "func = lambda : 10\n",
        "print(func())"
      ],
      "metadata": {
        "colab": {
          "base_uri": "https://localhost:8080/"
        },
        "id": "GtICGpQ1EQmv",
        "outputId": "b47ce394-7e5a-4db6-901c-7dc2b09c2068"
      },
      "execution_count": 40,
      "outputs": [
        {
          "output_type": "stream",
          "name": "stdout",
          "text": [
            "10\n"
          ]
        }
      ]
    },
    {
      "cell_type": "code",
      "source": [
        "func = lambda x : 10\n",
        "print(func(99))"
      ],
      "metadata": {
        "colab": {
          "base_uri": "https://localhost:8080/"
        },
        "id": "oZsgdpMZEjoh",
        "outputId": "4a9b5eee-7a15-484b-8c7a-d752ec0f172d"
      },
      "execution_count": 43,
      "outputs": [
        {
          "output_type": "stream",
          "name": "stdout",
          "text": [
            "10\n"
          ]
        }
      ]
    },
    {
      "cell_type": "code",
      "source": [
        "def func():\n",
        "    return 10"
      ],
      "metadata": {
        "id": "h2KwjgWnEfUN"
      },
      "execution_count": null,
      "outputs": []
    },
    {
      "cell_type": "code",
      "source": [
        "func = lambda x: return x*2\n",
        "print(func(2))"
      ],
      "metadata": {
        "colab": {
          "base_uri": "https://localhost:8080/",
          "height": 159
        },
        "id": "aAHlO2VmEv0g",
        "outputId": "65a11203-fa4d-4318-e91f-1d2c707f7fcf"
      },
      "execution_count": 44,
      "outputs": [
        {
          "output_type": "error",
          "ename": "SyntaxError",
          "evalue": "ignored",
          "traceback": [
            "\u001b[0;36m  File \u001b[0;32m\"<ipython-input-44-3b53af0118c9>\"\u001b[0;36m, line \u001b[0;32m1\u001b[0m\n\u001b[0;31m    func = lambda x: return x*2\u001b[0m\n\u001b[0m                     ^\u001b[0m\n\u001b[0;31mSyntaxError\u001b[0m\u001b[0;31m:\u001b[0m invalid syntax\n"
          ]
        }
      ]
    },
    {
      "cell_type": "markdown",
      "source": [],
      "metadata": {
        "id": "nGpJtFyHEQXJ"
      }
    },
    {
      "cell_type": "markdown",
      "source": [
        "### Challenge: Write recursive lambda function to perform factorial\n",
        "\n",
        "Hint: You can do this only if you create a reference var"
      ],
      "metadata": {
        "id": "CY5ZfEFEBuPU"
      }
    },
    {
      "cell_type": "markdown",
      "source": [
        "Higher Order Function\n"
      ],
      "metadata": {
        "id": "p8tZHHedCGab"
      }
    },
    {
      "cell_type": "code",
      "source": [
        "# Not an HOF: return output of exp\n",
        "def gen_exp(x,n):\n",
        "    def exp(x):\n",
        "        return x**n\n",
        "    return exp(x)\n",
        "type(gen_exp(10,20))"
      ],
      "metadata": {
        "colab": {
          "base_uri": "https://localhost:8080/"
        },
        "id": "ZAcXJTe4BYsC",
        "outputId": "6859694f-c0d5-4879-f78c-a92a97be3d85"
      },
      "execution_count": 49,
      "outputs": [
        {
          "output_type": "execute_result",
          "data": {
            "text/plain": [
              "int"
            ]
          },
          "metadata": {},
          "execution_count": 49
        }
      ]
    },
    {
      "cell_type": "code",
      "source": [
        "gen_exp(10,20)"
      ],
      "metadata": {
        "colab": {
          "base_uri": "https://localhost:8080/"
        },
        "id": "GO_GyZhHGy3v",
        "outputId": "fd0bca2f-edeb-4e93-f107-17ce5468a97d"
      },
      "execution_count": 52,
      "outputs": [
        {
          "output_type": "execute_result",
          "data": {
            "text/plain": [
              "<function __main__.gen_exp.<locals>.exp(x)>"
            ]
          },
          "metadata": {},
          "execution_count": 52
        }
      ]
    },
    {
      "cell_type": "code",
      "source": [
        "# HOF: Returning exp function\n",
        "def gen_exp(x,n):\n",
        "    def exp(x):\n",
        "        return x**n\n",
        "    return exp\n",
        "type(gen_exp(10,20))"
      ],
      "metadata": {
        "colab": {
          "base_uri": "https://localhost:8080/"
        },
        "id": "0y4s-6hbGT8v",
        "outputId": "82115144-5013-462a-9088-11b36969d178"
      },
      "execution_count": 50,
      "outputs": [
        {
          "output_type": "execute_result",
          "data": {
            "text/plain": [
              "function"
            ]
          },
          "metadata": {},
          "execution_count": 50
        }
      ]
    },
    {
      "cell_type": "code",
      "source": [
        "gen_exp(10,20)"
      ],
      "metadata": {
        "colab": {
          "base_uri": "https://localhost:8080/"
        },
        "id": "lj5KTxfvGhDW",
        "outputId": "c3cb657d-a8ea-4a25-b5a5-fa65e56af67e"
      },
      "execution_count": 51,
      "outputs": [
        {
          "output_type": "execute_result",
          "data": {
            "text/plain": [
              "<function __main__.gen_exp.<locals>.exp(x)>"
            ]
          },
          "metadata": {},
          "execution_count": 51
        }
      ]
    },
    {
      "cell_type": "markdown",
      "source": [],
      "metadata": {
        "id": "5HD7URjuJcMC"
      }
    },
    {
      "cell_type": "code",
      "source": [
        "# example of HOF: Creating variations of exponential function\n",
        "def gen_exp(n):\n",
        "    def exp(x):\n",
        "        return x**n\n",
        "    return exp\n",
        "func_10 = gen_exp(10)"
      ],
      "metadata": {
        "id": "gJjOr2GTGvFX"
      },
      "execution_count": 63,
      "outputs": []
    },
    {
      "cell_type": "code",
      "source": [
        "type(func_10)"
      ],
      "metadata": {
        "colab": {
          "base_uri": "https://localhost:8080/"
        },
        "id": "rqRFUAWbJjJ3",
        "outputId": "751ac649-26d5-4716-f927-ad9e04537b1f"
      },
      "execution_count": 64,
      "outputs": [
        {
          "output_type": "execute_result",
          "data": {
            "text/plain": [
              "function"
            ]
          },
          "metadata": {},
          "execution_count": 64
        }
      ]
    },
    {
      "cell_type": "markdown",
      "source": [
        "func_10\n",
        "```\n",
        "def exp(x):\n",
        "        return x**10\n",
        "\n",
        "```"
      ],
      "metadata": {
        "id": "sZ-IEUHZJz7D"
      }
    },
    {
      "cell_type": "code",
      "source": [
        "\n",
        "func_10(2)"
      ],
      "metadata": {
        "colab": {
          "base_uri": "https://localhost:8080/"
        },
        "id": "Kfsn0uk7JzDD",
        "outputId": "05883021-8065-4bbf-d467-62940836bd5b"
      },
      "execution_count": 65,
      "outputs": [
        {
          "output_type": "execute_result",
          "data": {
            "text/plain": [
              "1024"
            ]
          },
          "metadata": {},
          "execution_count": 65
        }
      ]
    },
    {
      "cell_type": "code",
      "source": [
        "func_10(3)"
      ],
      "metadata": {
        "colab": {
          "base_uri": "https://localhost:8080/"
        },
        "id": "sFc3MTAPJoxM",
        "outputId": "bf3a58d8-a07b-4947-f335-734eaf934fa4"
      },
      "execution_count": 66,
      "outputs": [
        {
          "output_type": "execute_result",
          "data": {
            "text/plain": [
              "59049"
            ]
          },
          "metadata": {},
          "execution_count": 66
        }
      ]
    },
    {
      "cell_type": "code",
      "source": [
        "# create a new function which return x**5\n",
        "func_5 = gen_exp(5)"
      ],
      "metadata": {
        "id": "IcH9NXrgKBcV"
      },
      "execution_count": 69,
      "outputs": []
    },
    {
      "cell_type": "code",
      "source": [
        "func_5(2)"
      ],
      "metadata": {
        "colab": {
          "base_uri": "https://localhost:8080/"
        },
        "id": "cR0rMotlKMmO",
        "outputId": "8384b7c6-c149-461c-d5fe-2167b9c0c94a"
      },
      "execution_count": 70,
      "outputs": [
        {
          "output_type": "execute_result",
          "data": {
            "text/plain": [
              "32"
            ]
          },
          "metadata": {},
          "execution_count": 70
        }
      ]
    },
    {
      "cell_type": "code",
      "source": [
        "func_5(3)"
      ],
      "metadata": {
        "colab": {
          "base_uri": "https://localhost:8080/"
        },
        "id": "4PFwbrW3KOdC",
        "outputId": "0096378a-bb9e-45a0-9fd8-8f2d6879c806"
      },
      "execution_count": 71,
      "outputs": [
        {
          "output_type": "execute_result",
          "data": {
            "text/plain": [
              "243"
            ]
          },
          "metadata": {},
          "execution_count": 71
        }
      ]
    },
    {
      "cell_type": "markdown",
      "source": [
        "Decorators:"
      ],
      "metadata": {
        "id": "Pfce5UsXLYLv"
      }
    },
    {
      "cell_type": "code",
      "source": [
        "def foo():\n",
        "    print(\"Hello How are you doing?\")\n",
        "\n",
        "def bar():\n",
        "    print(\"I am doing Good! How about you?\")"
      ],
      "metadata": {
        "id": "lvG9ruPAKP0r"
      },
      "execution_count": 72,
      "outputs": []
    },
    {
      "cell_type": "code",
      "source": [
        "foo()\n",
        "bar()"
      ],
      "metadata": {
        "colab": {
          "base_uri": "https://localhost:8080/"
        },
        "id": "EXl-fBBDLjL6",
        "outputId": "8ed5aabc-e90b-4688-b09e-0ec4a28f1a4f"
      },
      "execution_count": 74,
      "outputs": [
        {
          "output_type": "stream",
          "name": "stdout",
          "text": [
            "Hello How are you doing?\n",
            "I am doing Good! How about you?\n"
          ]
        }
      ]
    },
    {
      "cell_type": "markdown",
      "source": [
        "### Additional Functionality: Print(\"-\") before and after execution to seperate function calls"
      ],
      "metadata": {
        "id": "ucUbrHQeLqsf"
      }
    },
    {
      "cell_type": "code",
      "source": [
        "# naive method\n",
        "def foo():\n",
        "    print(\"-\"*50)\n",
        "    print(\"Hello How are you doing?\")\n",
        "    print(\"-\"*50)\n",
        "\n",
        "def bar():\n",
        "    print(\"-\"*50)\n",
        "    print(\"I am doing Good! How about you?\")\n",
        "    print(\"-\"*50)\n",
        "\n",
        "foo()\n",
        "bar()"
      ],
      "metadata": {
        "colab": {
          "base_uri": "https://localhost:8080/"
        },
        "id": "FRVs0l85Ln82",
        "outputId": "b835e4b0-a606-4286-e2f6-c2525cbdda60"
      },
      "execution_count": 76,
      "outputs": [
        {
          "output_type": "stream",
          "name": "stdout",
          "text": [
            "--------------------------------------------------\n",
            "Hello How are you doing?\n",
            "--------------------------------------------------\n",
            "--------------------------------------------------\n",
            "I am doing Good! How about you?\n",
            "--------------------------------------------------\n"
          ]
        }
      ]
    },
    {
      "cell_type": "markdown",
      "source": [
        "\n",
        "### decorator"
      ],
      "metadata": {
        "id": "1I4pQ81gMDsd"
      }
    },
    {
      "cell_type": "code",
      "source": [
        "def foo():\n",
        "    print(\"Hello How are you doing?\")\n",
        "\n",
        "\n",
        "def bar():\n",
        "    print(\"I am doing Good! How about you?\")"
      ],
      "metadata": {
        "id": "KIq2mtmtMExz"
      },
      "execution_count": 85,
      "outputs": []
    },
    {
      "cell_type": "code",
      "source": [
        "# decorator\n",
        "# HOF\n",
        "def prettify(func):\n",
        "    def inner():\n",
        "        print(\"-\"*50)\n",
        "        func()\n",
        "        print(\"-\"*50)\n",
        "    return inner\n",
        "new_foo = prettify(foo)\n",
        "print(type(new_foo))"
      ],
      "metadata": {
        "colab": {
          "base_uri": "https://localhost:8080/"
        },
        "id": "fGTqABP2L5We",
        "outputId": "356b6ddb-091c-44af-9eac-9981bee85bd8"
      },
      "execution_count": 86,
      "outputs": [
        {
          "output_type": "stream",
          "name": "stdout",
          "text": [
            "<class 'function'>\n"
          ]
        }
      ]
    },
    {
      "cell_type": "code",
      "source": [
        "new_foo()"
      ],
      "metadata": {
        "colab": {
          "base_uri": "https://localhost:8080/"
        },
        "id": "CpjwWB8tMjiw",
        "outputId": "1f1780c7-acaa-4008-a9b2-6fc6eb59a25f"
      },
      "execution_count": 87,
      "outputs": [
        {
          "output_type": "stream",
          "name": "stdout",
          "text": [
            "--------------------------------------------------\n",
            "Hello How are you doing?\n",
            "--------------------------------------------------\n"
          ]
        }
      ]
    },
    {
      "cell_type": "code",
      "source": [
        "foo()"
      ],
      "metadata": {
        "colab": {
          "base_uri": "https://localhost:8080/"
        },
        "id": "b8nFrH2mMlgy",
        "outputId": "c60604b4-f4f6-4efa-838a-7bb7e4a55655"
      },
      "execution_count": 88,
      "outputs": [
        {
          "output_type": "stream",
          "name": "stdout",
          "text": [
            "Hello How are you doing?\n"
          ]
        }
      ]
    },
    {
      "cell_type": "code",
      "source": [
        "new_bar = prettify(bar)\n",
        "new_bar()"
      ],
      "metadata": {
        "colab": {
          "base_uri": "https://localhost:8080/"
        },
        "id": "u9GKsLzQMqsm",
        "outputId": "ebda26bc-d4bb-4c6f-ebf7-0c00a17293c6"
      },
      "execution_count": 89,
      "outputs": [
        {
          "output_type": "stream",
          "name": "stdout",
          "text": [
            "--------------------------------------------------\n",
            "I am doing Good! How about you?\n",
            "--------------------------------------------------\n"
          ]
        }
      ]
    },
    {
      "cell_type": "code",
      "source": [
        "@prettify #greet = prettify(greet)\n",
        "def greet():\n",
        "    print(\"Hello World\")\n",
        "\n",
        "greet()"
      ],
      "metadata": {
        "colab": {
          "base_uri": "https://localhost:8080/"
        },
        "id": "x7vFQSVxM49r",
        "outputId": "21bd6e09-5aae-408b-ad2c-2e41a0944e5b"
      },
      "execution_count": 90,
      "outputs": [
        {
          "output_type": "stream",
          "name": "stdout",
          "text": [
            "--------------------------------------------------\n",
            "Hello World\n",
            "--------------------------------------------------\n"
          ]
        }
      ]
    },
    {
      "cell_type": "code",
      "source": [
        "def add_hashed(any_func):\n",
        "    def wrapper():\n",
        "        print(\"#\"*50)\n",
        "        any_func()\n",
        "        print(\"#\"*50)\n",
        "    return wrapper\n"
      ],
      "metadata": {
        "id": "xCECYyM3MxE-"
      },
      "execution_count": 91,
      "outputs": []
    },
    {
      "cell_type": "code",
      "source": [
        "@add_hashed\n",
        "@prettify\n",
        "def greet():\n",
        "    print(\"Hello World\")\n",
        "\n",
        "greet()"
      ],
      "metadata": {
        "colab": {
          "base_uri": "https://localhost:8080/"
        },
        "id": "6ep6_17PNqsd",
        "outputId": "e964f9b4-0591-4cb6-dd19-2f733fa7ac54"
      },
      "execution_count": 93,
      "outputs": [
        {
          "output_type": "stream",
          "name": "stdout",
          "text": [
            "##################################################\n",
            "--------------------------------------------------\n",
            "Hello World\n",
            "--------------------------------------------------\n",
            "##################################################\n"
          ]
        }
      ]
    },
    {
      "cell_type": "markdown",
      "source": [
        "Challange: Write decorators:\n",
        "```\n",
        "1) Performance testing: To calculate execution time any input function\n",
        "\n",
        "2) Logging: Write a decorator to log the time, args and output of functions in a Text-file\n",
        "```\n"
      ],
      "metadata": {
        "id": "Lsi_56NbN0FQ"
      }
    },
    {
      "cell_type": "code",
      "source": [
        "list1 = [10,-1,2,6]"
      ],
      "metadata": {
        "id": "102OcTm8NsAD"
      },
      "execution_count": 104,
      "outputs": []
    },
    {
      "cell_type": "code",
      "source": [
        "# sorted: function, Not an Inplace op\n",
        "sorted(list1)"
      ],
      "metadata": {
        "colab": {
          "base_uri": "https://localhost:8080/"
        },
        "id": "kQviwrJzPPxm",
        "outputId": "696af706-c117-4670-91d5-ae1ad228e65b"
      },
      "execution_count": 105,
      "outputs": [
        {
          "output_type": "execute_result",
          "data": {
            "text/plain": [
              "[-1, 2, 6, 10]"
            ]
          },
          "metadata": {},
          "execution_count": 105
        }
      ]
    },
    {
      "cell_type": "code",
      "source": [
        "list1"
      ],
      "metadata": {
        "colab": {
          "base_uri": "https://localhost:8080/"
        },
        "id": "XNDMIw-0POnq",
        "outputId": "3b8bf62f-a1fe-473a-8e01-74556fe9a3ea"
      },
      "execution_count": 106,
      "outputs": [
        {
          "output_type": "execute_result",
          "data": {
            "text/plain": [
              "[10, -1, 2, 6]"
            ]
          },
          "metadata": {},
          "execution_count": 106
        }
      ]
    },
    {
      "cell_type": "code",
      "source": [
        "# sort: method of class List, it acts as inplace operation\n",
        "list1.sort()"
      ],
      "metadata": {
        "id": "cW7tfi8sPVxT"
      },
      "execution_count": 107,
      "outputs": []
    },
    {
      "cell_type": "code",
      "source": [
        "list1"
      ],
      "metadata": {
        "colab": {
          "base_uri": "https://localhost:8080/"
        },
        "id": "2MRVTQX6Pi3x",
        "outputId": "519ae25b-f09a-4213-b317-9d1d9e486c41"
      },
      "execution_count": 108,
      "outputs": [
        {
          "output_type": "execute_result",
          "data": {
            "text/plain": [
              "[-1, 2, 6, 10]"
            ]
          },
          "metadata": {},
          "execution_count": 108
        }
      ]
    },
    {
      "cell_type": "code",
      "source": [
        "list1= list1.sort()\n",
        "print(list1)"
      ],
      "metadata": {
        "colab": {
          "base_uri": "https://localhost:8080/"
        },
        "id": "y0JP1aunPl7r",
        "outputId": "b00f3b40-c27e-43b8-bb17-37db4615e749"
      },
      "execution_count": 109,
      "outputs": [
        {
          "output_type": "stream",
          "name": "stdout",
          "text": [
            "None\n"
          ]
        }
      ]
    },
    {
      "cell_type": "code",
      "source": [],
      "metadata": {
        "id": "Gm2gFybHPwTO"
      },
      "execution_count": 109,
      "outputs": []
    }
  ]
}