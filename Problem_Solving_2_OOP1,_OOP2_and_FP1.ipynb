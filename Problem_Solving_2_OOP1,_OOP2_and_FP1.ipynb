{
  "nbformat": 4,
  "nbformat_minor": 0,
  "metadata": {
    "colab": {
      "provenance": [],
      "authorship_tag": "ABX9TyMsC7Y+KS5VCtJsDZAiPLSc",
      "include_colab_link": true
    },
    "kernelspec": {
      "name": "python3",
      "display_name": "Python 3"
    },
    "language_info": {
      "name": "python"
    }
  },
  "cells": [
    {
      "cell_type": "markdown",
      "metadata": {
        "id": "view-in-github",
        "colab_type": "text"
      },
      "source": [
        "<a href=\"https://colab.research.google.com/github/SachinScaler/Sep23AdvancePython/blob/main/Problem_Solving_2_OOP1%2C_OOP2_and_FP1.ipynb\" target=\"_parent\"><img src=\"https://colab.research.google.com/assets/colab-badge.svg\" alt=\"Open In Colab\"/></a>"
      ]
    },
    {
      "cell_type": "markdown",
      "source": [
        "FONT SIZE?"
      ],
      "metadata": {
        "id": "L7QO3ocsi0hs"
      }
    },
    {
      "cell_type": "code",
      "execution_count": 8,
      "metadata": {
        "colab": {
          "base_uri": "https://localhost:8080/"
        },
        "id": "GsGpB9l8h-SZ",
        "outputId": "691685b2-435a-4a50-89be-611916e4353a"
      },
      "outputs": [
        {
          "output_type": "stream",
          "name": "stdout",
          "text": [
            "134925029611968\n"
          ]
        },
        {
          "output_type": "execute_result",
          "data": {
            "text/plain": [
              "134925029611968"
            ]
          },
          "metadata": {},
          "execution_count": 8
        }
      ],
      "source": [
        "g_var=100\n",
        "class A:\n",
        "    c_var=\"I am CLASS VAR\" # immutable\n",
        "    def __init__(self,val):\n",
        "        print(id(self))\n",
        "        self.var=val #\n",
        "\n",
        "a1 = A(10) # instance of class A\n",
        "\n",
        "id(a1)"
      ]
    },
    {
      "cell_type": "code",
      "source": [
        "a1.__dict__"
      ],
      "metadata": {
        "colab": {
          "base_uri": "https://localhost:8080/"
        },
        "id": "23ulJMiFlp7a",
        "outputId": "7c6e5968-58da-4e81-c404-df695a9e32e0"
      },
      "execution_count": 10,
      "outputs": [
        {
          "output_type": "execute_result",
          "data": {
            "text/plain": [
              "{'var': 10}"
            ]
          },
          "metadata": {},
          "execution_count": 10
        }
      ]
    },
    {
      "cell_type": "code",
      "source": [
        "a1.c_var"
      ],
      "metadata": {
        "colab": {
          "base_uri": "https://localhost:8080/",
          "height": 56
        },
        "id": "MwCOZh2ElySI",
        "outputId": "29c8c2e6-5cda-4b85-e6c1-06b084352c0c"
      },
      "execution_count": 11,
      "outputs": [
        {
          "output_type": "execute_result",
          "data": {
            "text/plain": [
              "'I am CLASS VAR'"
            ],
            "application/vnd.google.colaboratory.intrinsic+json": {
              "type": "string"
            }
          },
          "metadata": {},
          "execution_count": 11
        }
      ]
    },
    {
      "cell_type": "markdown",
      "source": [
        "- Class Var Accesbility"
      ],
      "metadata": {
        "id": "nyuKxqRQni0Y"
      }
    },
    {
      "cell_type": "code",
      "source": [
        "A.c_var"
      ],
      "metadata": {
        "colab": {
          "base_uri": "https://localhost:8080/",
          "height": 56
        },
        "id": "zA65RLhCmmXI",
        "outputId": "82ecb224-4df1-4c34-e34d-73ef9e9984f7"
      },
      "execution_count": 12,
      "outputs": [
        {
          "output_type": "execute_result",
          "data": {
            "text/plain": [
              "'I am CLASS VAR'"
            ],
            "application/vnd.google.colaboratory.intrinsic+json": {
              "type": "string"
            }
          },
          "metadata": {},
          "execution_count": 12
        }
      ]
    },
    {
      "cell_type": "code",
      "source": [
        "a1.var"
      ],
      "metadata": {
        "colab": {
          "base_uri": "https://localhost:8080/"
        },
        "id": "15hPy4XLm8GY",
        "outputId": "99110f2a-e419-41e9-e0b8-d86413fb188f"
      },
      "execution_count": 13,
      "outputs": [
        {
          "output_type": "execute_result",
          "data": {
            "text/plain": [
              "10"
            ]
          },
          "metadata": {},
          "execution_count": 13
        }
      ]
    },
    {
      "cell_type": "code",
      "source": [
        "A.var"
      ],
      "metadata": {
        "colab": {
          "base_uri": "https://localhost:8080/",
          "height": 192
        },
        "id": "3FxBJBevnCD0",
        "outputId": "ba9f5e65-61ce-4442-8dfe-ce70151b7892"
      },
      "execution_count": 14,
      "outputs": [
        {
          "output_type": "error",
          "ename": "AttributeError",
          "evalue": "ignored",
          "traceback": [
            "\u001b[0;31m---------------------------------------------------------------------------\u001b[0m",
            "\u001b[0;31mAttributeError\u001b[0m                            Traceback (most recent call last)",
            "\u001b[0;32m<ipython-input-14-9ba9e1c90c19>\u001b[0m in \u001b[0;36m<cell line: 1>\u001b[0;34m()\u001b[0m\n\u001b[0;32m----> 1\u001b[0;31m \u001b[0mA\u001b[0m\u001b[0;34m.\u001b[0m\u001b[0mvar\u001b[0m\u001b[0;34m\u001b[0m\u001b[0;34m\u001b[0m\u001b[0m\n\u001b[0m",
            "\u001b[0;31mAttributeError\u001b[0m: type object 'A' has no attribute 'var'"
          ]
        }
      ]
    },
    {
      "cell_type": "markdown",
      "source": [
        "Class Var updates"
      ],
      "metadata": {
        "id": "ohGVGApAnlj6"
      }
    },
    {
      "cell_type": "code",
      "source": [
        "A.c_var = \"Updating using Class Itself\""
      ],
      "metadata": {
        "id": "9_RjY6ConGSU"
      },
      "execution_count": 15,
      "outputs": []
    },
    {
      "cell_type": "code",
      "source": [
        "A.c_var"
      ],
      "metadata": {
        "colab": {
          "base_uri": "https://localhost:8080/",
          "height": 56
        },
        "id": "56-fS9NWn0wH",
        "outputId": "52d6eec5-9de1-4983-d3e1-3e72642949b9"
      },
      "execution_count": 16,
      "outputs": [
        {
          "output_type": "execute_result",
          "data": {
            "text/plain": [
              "'Updating using Class Itself'"
            ],
            "application/vnd.google.colaboratory.intrinsic+json": {
              "type": "string"
            }
          },
          "metadata": {},
          "execution_count": 16
        }
      ]
    },
    {
      "cell_type": "code",
      "source": [
        "a1.c_var"
      ],
      "metadata": {
        "colab": {
          "base_uri": "https://localhost:8080/",
          "height": 56
        },
        "id": "VQlFnDFun2_T",
        "outputId": "7ce58aba-31f2-4f28-a83c-c72cd499db62"
      },
      "execution_count": 17,
      "outputs": [
        {
          "output_type": "execute_result",
          "data": {
            "text/plain": [
              "'Updating using Class Itself'"
            ],
            "application/vnd.google.colaboratory.intrinsic+json": {
              "type": "string"
            }
          },
          "metadata": {},
          "execution_count": 17
        }
      ]
    },
    {
      "cell_type": "code",
      "source": [
        "a2 = A(100)\n",
        "a2.c_var"
      ],
      "metadata": {
        "colab": {
          "base_uri": "https://localhost:8080/",
          "height": 73
        },
        "id": "FUjy-wUpn9J3",
        "outputId": "ac2be73a-50f9-45f2-ea9e-f5ab889feacb"
      },
      "execution_count": 18,
      "outputs": [
        {
          "output_type": "stream",
          "name": "stdout",
          "text": [
            "134925029608848\n"
          ]
        },
        {
          "output_type": "execute_result",
          "data": {
            "text/plain": [
              "'Updating using Class Itself'"
            ],
            "application/vnd.google.colaboratory.intrinsic+json": {
              "type": "string"
            }
          },
          "metadata": {},
          "execution_count": 18
        }
      ]
    },
    {
      "cell_type": "markdown",
      "source": [],
      "metadata": {
        "id": "nYENYPyIoaB8"
      }
    },
    {
      "cell_type": "code",
      "source": [
        "a1.__dict__"
      ],
      "metadata": {
        "colab": {
          "base_uri": "https://localhost:8080/"
        },
        "id": "J97z9munoalW",
        "outputId": "91bb46e3-f551-433d-bd64-ad64ce09b8e0"
      },
      "execution_count": 19,
      "outputs": [
        {
          "output_type": "execute_result",
          "data": {
            "text/plain": [
              "{'var': 10}"
            ]
          },
          "metadata": {},
          "execution_count": 19
        }
      ]
    },
    {
      "cell_type": "code",
      "source": [
        "# creates an instance variable\n",
        "a1.c_var=\"Updating using instance a1\""
      ],
      "metadata": {
        "id": "Pd03IWSnoL-o"
      },
      "execution_count": 20,
      "outputs": []
    },
    {
      "cell_type": "code",
      "source": [
        "a1.c_var"
      ],
      "metadata": {
        "colab": {
          "base_uri": "https://localhost:8080/",
          "height": 56
        },
        "id": "2ov7pxkvomwH",
        "outputId": "e639cc0c-8515-49c2-dfde-72a0a2161064"
      },
      "execution_count": 21,
      "outputs": [
        {
          "output_type": "execute_result",
          "data": {
            "text/plain": [
              "'Updating using instance a1'"
            ],
            "application/vnd.google.colaboratory.intrinsic+json": {
              "type": "string"
            }
          },
          "metadata": {},
          "execution_count": 21
        }
      ]
    },
    {
      "cell_type": "code",
      "source": [
        "A.c_var"
      ],
      "metadata": {
        "colab": {
          "base_uri": "https://localhost:8080/",
          "height": 56
        },
        "id": "3yKSQ5f1osHd",
        "outputId": "17019e79-7e97-455b-9ca1-c1bcaef7546f"
      },
      "execution_count": 22,
      "outputs": [
        {
          "output_type": "execute_result",
          "data": {
            "text/plain": [
              "'Updating using Class Itself'"
            ],
            "application/vnd.google.colaboratory.intrinsic+json": {
              "type": "string"
            }
          },
          "metadata": {},
          "execution_count": 22
        }
      ]
    },
    {
      "cell_type": "code",
      "source": [
        "a2.c_var"
      ],
      "metadata": {
        "colab": {
          "base_uri": "https://localhost:8080/",
          "height": 56
        },
        "id": "QtxjdQeuowSU",
        "outputId": "c7a8521d-9ad4-4079-b2ec-fb7b0b75de0c"
      },
      "execution_count": 23,
      "outputs": [
        {
          "output_type": "execute_result",
          "data": {
            "text/plain": [
              "'Updating using Class Itself'"
            ],
            "application/vnd.google.colaboratory.intrinsic+json": {
              "type": "string"
            }
          },
          "metadata": {},
          "execution_count": 23
        }
      ]
    },
    {
      "cell_type": "code",
      "source": [
        "a1.__dict__"
      ],
      "metadata": {
        "colab": {
          "base_uri": "https://localhost:8080/"
        },
        "id": "Cj0shexlo4XO",
        "outputId": "c494a722-d6d4-46e3-cd86-ff0c149c25b1"
      },
      "execution_count": 24,
      "outputs": [
        {
          "output_type": "execute_result",
          "data": {
            "text/plain": [
              "{'var': 10, 'c_var': 'Updating using instance a1'}"
            ]
          },
          "metadata": {},
          "execution_count": 24
        }
      ]
    },
    {
      "cell_type": "code",
      "source": [
        "class B:\n",
        "    var = \"Class Var\"\n",
        "    def __init__(self):\n",
        "        self.var=\"Instance Var\"\n",
        "b= B()\n",
        "b.var"
      ],
      "metadata": {
        "colab": {
          "base_uri": "https://localhost:8080/",
          "height": 56
        },
        "id": "kS-Eb6jDpAFL",
        "outputId": "561b7f97-66e4-41bb-cab9-bd5a15e4b7e8"
      },
      "execution_count": 25,
      "outputs": [
        {
          "output_type": "execute_result",
          "data": {
            "text/plain": [
              "'Instance Var'"
            ],
            "application/vnd.google.colaboratory.intrinsic+json": {
              "type": "string"
            }
          },
          "metadata": {},
          "execution_count": 25
        }
      ]
    },
    {
      "cell_type": "code",
      "source": [
        "a = 10 # immutable global var\n",
        "\n",
        "def func():\n",
        "    #a = 100\n",
        "    print(\"Inside Func\",a)\n",
        "\n",
        "\n",
        "func()\n",
        "print(\"Outside Func\",a)"
      ],
      "metadata": {
        "colab": {
          "base_uri": "https://localhost:8080/"
        },
        "id": "P319GPlQpfHE",
        "outputId": "391d3343-8a77-47ba-f58e-fe6d41ff21fe"
      },
      "execution_count": 33,
      "outputs": [
        {
          "output_type": "stream",
          "name": "stdout",
          "text": [
            "Inside Func 10\n",
            "Outside Func 10\n"
          ]
        }
      ]
    },
    {
      "cell_type": "code",
      "source": [
        "a = [10] # mutables global var\n",
        "\n",
        "def func():\n",
        "    a.append(100)\n",
        "    print(\"Inside Func\",a)\n",
        "\n",
        "func()\n",
        "print(\"Outside Func\",a)"
      ],
      "metadata": {
        "colab": {
          "base_uri": "https://localhost:8080/"
        },
        "id": "na18lc6vuvUl",
        "outputId": "a3424b83-b750-43ca-a054-511347ee2142"
      },
      "execution_count": 34,
      "outputs": [
        {
          "output_type": "stream",
          "name": "stdout",
          "text": [
            "Inside Func [10, 100]\n",
            "Outside Func [10, 100]\n"
          ]
        }
      ]
    },
    {
      "cell_type": "code",
      "source": [
        "# a = func() # a = 100"
      ],
      "metadata": {
        "id": "iNkbbFuZuHd1"
      },
      "execution_count": null,
      "outputs": []
    },
    {
      "cell_type": "markdown",
      "source": [
        "Private Vars:"
      ],
      "metadata": {
        "id": "GipanDQLwKOk"
      }
    },
    {
      "cell_type": "code",
      "source": [
        "class B:\n",
        "    def __init__(self):\n",
        "        self.var=\"Instance Var\"\n",
        "b= B()\n",
        "b.var"
      ],
      "metadata": {
        "colab": {
          "base_uri": "https://localhost:8080/",
          "height": 56
        },
        "id": "oRL_ZvAiwLPy",
        "outputId": "4c5e9a95-8433-4b8e-f8d3-897d8da5415f"
      },
      "execution_count": 35,
      "outputs": [
        {
          "output_type": "execute_result",
          "data": {
            "text/plain": [
              "'Instance Var'"
            ],
            "application/vnd.google.colaboratory.intrinsic+json": {
              "type": "string"
            }
          },
          "metadata": {},
          "execution_count": 35
        }
      ]
    },
    {
      "cell_type": "code",
      "source": [
        "# instance var is accessible outside and hence can be updated\n",
        "b.var = \"Hi\"\n",
        "print(b.var)"
      ],
      "metadata": {
        "colab": {
          "base_uri": "https://localhost:8080/"
        },
        "id": "QwlSY47WwOjU",
        "outputId": "c24e3671-48b8-407a-ca94-789f5bafdf8a"
      },
      "execution_count": 37,
      "outputs": [
        {
          "output_type": "stream",
          "name": "stdout",
          "text": [
            "Hi\n"
          ]
        }
      ]
    },
    {
      "cell_type": "code",
      "source": [
        "class B:\n",
        "    def __init__(self):\n",
        "        self.__var=\"Instance Var\" # _B__\n",
        "\n",
        "    # getter method\n",
        "    def get_var(self):\n",
        "        return self.__var\n",
        "\n",
        "    # getter method\n",
        "    def set_var(self, val):\n",
        "        self.__var = val\n",
        "\n",
        "b= B()\n",
        "b.__var"
      ],
      "metadata": {
        "colab": {
          "base_uri": "https://localhost:8080/",
          "height": 225
        },
        "id": "HUD0Yb9CwTdc",
        "outputId": "8ba89bb9-93e0-412a-8da4-a58d7fd09310"
      },
      "execution_count": 47,
      "outputs": [
        {
          "output_type": "error",
          "ename": "AttributeError",
          "evalue": "ignored",
          "traceback": [
            "\u001b[0;31m---------------------------------------------------------------------------\u001b[0m",
            "\u001b[0;31mAttributeError\u001b[0m                            Traceback (most recent call last)",
            "\u001b[0;32m<ipython-input-47-b8d70f9895d5>\u001b[0m in \u001b[0;36m<cell line: 14>\u001b[0;34m()\u001b[0m\n\u001b[1;32m     12\u001b[0m \u001b[0;34m\u001b[0m\u001b[0m\n\u001b[1;32m     13\u001b[0m \u001b[0mb\u001b[0m\u001b[0;34m=\u001b[0m \u001b[0mB\u001b[0m\u001b[0;34m(\u001b[0m\u001b[0;34m)\u001b[0m\u001b[0;34m\u001b[0m\u001b[0;34m\u001b[0m\u001b[0m\n\u001b[0;32m---> 14\u001b[0;31m \u001b[0mb\u001b[0m\u001b[0;34m.\u001b[0m\u001b[0m__var\u001b[0m\u001b[0;34m\u001b[0m\u001b[0;34m\u001b[0m\u001b[0m\n\u001b[0m",
            "\u001b[0;31mAttributeError\u001b[0m: 'B' object has no attribute '__var'"
          ]
        }
      ]
    },
    {
      "cell_type": "code",
      "source": [
        "b.get_var() # using method i can access private var"
      ],
      "metadata": {
        "colab": {
          "base_uri": "https://localhost:8080/",
          "height": 56
        },
        "id": "BGn9TAh8wrnp",
        "outputId": "95f49975-215e-4a4a-b76b-4539262ca1e0"
      },
      "execution_count": 48,
      "outputs": [
        {
          "output_type": "execute_result",
          "data": {
            "text/plain": [
              "'Instance Var'"
            ],
            "application/vnd.google.colaboratory.intrinsic+json": {
              "type": "string"
            }
          },
          "metadata": {},
          "execution_count": 48
        }
      ]
    },
    {
      "cell_type": "code",
      "source": [
        "b.__var=\"Hi\""
      ],
      "metadata": {
        "id": "AfXFVZmvweoQ"
      },
      "execution_count": 49,
      "outputs": []
    },
    {
      "cell_type": "code",
      "source": [
        "b.get_var()"
      ],
      "metadata": {
        "colab": {
          "base_uri": "https://localhost:8080/",
          "height": 56
        },
        "id": "l2AEhHZRwkS9",
        "outputId": "01748f9c-597f-4c62-fac5-0b6d0519cd8d"
      },
      "execution_count": 50,
      "outputs": [
        {
          "output_type": "execute_result",
          "data": {
            "text/plain": [
              "'Instance Var'"
            ],
            "application/vnd.google.colaboratory.intrinsic+json": {
              "type": "string"
            }
          },
          "metadata": {},
          "execution_count": 50
        }
      ]
    },
    {
      "cell_type": "code",
      "source": [
        "b.__dict__"
      ],
      "metadata": {
        "colab": {
          "base_uri": "https://localhost:8080/"
        },
        "id": "ccT5Q4I6w7eW",
        "outputId": "3e710bfb-5c60-4d40-807a-47d71537c173"
      },
      "execution_count": 51,
      "outputs": [
        {
          "output_type": "execute_result",
          "data": {
            "text/plain": [
              "{'_B__var': 'Instance Var', '__var': 'Hi'}"
            ]
          },
          "metadata": {},
          "execution_count": 51
        }
      ]
    },
    {
      "cell_type": "code",
      "source": [
        "b.set_var(\"Updating Private var\")"
      ],
      "metadata": {
        "id": "ZW8jpb90xFFJ"
      },
      "execution_count": 52,
      "outputs": []
    },
    {
      "cell_type": "code",
      "source": [
        "b.get_var()"
      ],
      "metadata": {
        "colab": {
          "base_uri": "https://localhost:8080/",
          "height": 56
        },
        "id": "ofTirYGkxmPi",
        "outputId": "f5184473-2c16-4472-b02a-6d803cff4b4a"
      },
      "execution_count": 53,
      "outputs": [
        {
          "output_type": "execute_result",
          "data": {
            "text/plain": [
              "'Updating Private var'"
            ],
            "application/vnd.google.colaboratory.intrinsic+json": {
              "type": "string"
            }
          },
          "metadata": {},
          "execution_count": 53
        }
      ]
    },
    {
      "cell_type": "code",
      "source": [
        "b._B__var=\"Hi\" # name mangling\n",
        "b.get_var()"
      ],
      "metadata": {
        "colab": {
          "base_uri": "https://localhost:8080/",
          "height": 56
        },
        "id": "vV759Hp4xprR",
        "outputId": "952d7df5-d431-4838-f129-b3e17b1067a4"
      },
      "execution_count": 55,
      "outputs": [
        {
          "output_type": "execute_result",
          "data": {
            "text/plain": [
              "'Hi'"
            ],
            "application/vnd.google.colaboratory.intrinsic+json": {
              "type": "string"
            }
          },
          "metadata": {},
          "execution_count": 55
        }
      ]
    },
    {
      "cell_type": "code",
      "source": [
        "list1 = [1,10,20]\n",
        "list1[0]=100"
      ],
      "metadata": {
        "id": "2JnhnXeox4_u"
      },
      "execution_count": 56,
      "outputs": []
    },
    {
      "cell_type": "code",
      "source": [
        "class B:\n",
        "    pass\n",
        "b1 = B()\n",
        "print(b1)"
      ],
      "metadata": {
        "colab": {
          "base_uri": "https://localhost:8080/"
        },
        "id": "cZFkDMN2ykDc",
        "outputId": "d6e23d5f-2e79-4293-bace-b8a3ecb9ce77"
      },
      "execution_count": 59,
      "outputs": [
        {
          "output_type": "stream",
          "name": "stdout",
          "text": [
            "<__main__.B object at 0x7ab67c2e7520>\n"
          ]
        }
      ]
    },
    {
      "cell_type": "code",
      "source": [
        "B =100\n",
        "b1 = B()"
      ],
      "metadata": {
        "colab": {
          "base_uri": "https://localhost:8080/",
          "height": 208
        },
        "id": "LxUpKUvFywK9",
        "outputId": "54d4d714-7ad0-4a7a-f5d6-1fab00f7e060"
      },
      "execution_count": 60,
      "outputs": [
        {
          "output_type": "error",
          "ename": "TypeError",
          "evalue": "ignored",
          "traceback": [
            "\u001b[0;31m---------------------------------------------------------------------------\u001b[0m",
            "\u001b[0;31mTypeError\u001b[0m                                 Traceback (most recent call last)",
            "\u001b[0;32m<ipython-input-60-c3783de3178b>\u001b[0m in \u001b[0;36m<cell line: 2>\u001b[0;34m()\u001b[0m\n\u001b[1;32m      1\u001b[0m \u001b[0mB\u001b[0m \u001b[0;34m=\u001b[0m\u001b[0;36m100\u001b[0m\u001b[0;34m\u001b[0m\u001b[0;34m\u001b[0m\u001b[0m\n\u001b[0;32m----> 2\u001b[0;31m \u001b[0mb1\u001b[0m \u001b[0;34m=\u001b[0m \u001b[0mB\u001b[0m\u001b[0;34m(\u001b[0m\u001b[0;34m)\u001b[0m\u001b[0;34m\u001b[0m\u001b[0;34m\u001b[0m\u001b[0m\n\u001b[0m",
            "\u001b[0;31mTypeError\u001b[0m: 'int' object is not callable"
          ]
        }
      ]
    },
    {
      "cell_type": "code",
      "source": [
        "list = 100"
      ],
      "metadata": {
        "id": "_XAMlCBey8Fw"
      },
      "execution_count": null,
      "outputs": []
    },
    {
      "cell_type": "markdown",
      "source": [
        "### frozen=True in DataClass"
      ],
      "metadata": {
        "id": "ps5IXi5H0a2y"
      }
    },
    {
      "cell_type": "markdown",
      "source": [
        "Inheritance"
      ],
      "metadata": {
        "id": "aF5I6_4i0wRH"
      }
    },
    {
      "cell_type": "code",
      "source": [
        "class A:\n",
        "    var=100\n",
        "\n",
        "class B(A):\n",
        "    var1=1000\n",
        "    def method(self):\n",
        "        print(self.var)\n",
        "        print(B.var)\n",
        "\n",
        "b = B()\n",
        "b.var\n"
      ],
      "metadata": {
        "colab": {
          "base_uri": "https://localhost:8080/"
        },
        "id": "cam0N9MY0icw",
        "outputId": "13d3c843-95ea-40f2-d000-37775e377204"
      },
      "execution_count": 66,
      "outputs": [
        {
          "output_type": "execute_result",
          "data": {
            "text/plain": [
              "100"
            ]
          },
          "metadata": {},
          "execution_count": 66
        }
      ]
    },
    {
      "cell_type": "code",
      "source": [
        "b.method()"
      ],
      "metadata": {
        "colab": {
          "base_uri": "https://localhost:8080/"
        },
        "id": "IBfgks3E0_ru",
        "outputId": "e5f0cc63-4133-4caa-e8b9-efaecac6453d"
      },
      "execution_count": 67,
      "outputs": [
        {
          "output_type": "stream",
          "name": "stdout",
          "text": [
            "100\n",
            "100\n"
          ]
        }
      ]
    },
    {
      "cell_type": "code",
      "source": [
        "class A:\n",
        "    __var=100\n",
        "\n",
        "class B(A):\n",
        "\n",
        "    var1=1000\n",
        "\n",
        "b = B()\n",
        "b.__var"
      ],
      "metadata": {
        "colab": {
          "base_uri": "https://localhost:8080/",
          "height": 225
        },
        "id": "iz4cjxPu1Z0K",
        "outputId": "7200232a-b939-4ab8-abb0-ab9977cc5b95"
      },
      "execution_count": 71,
      "outputs": [
        {
          "output_type": "error",
          "ename": "AttributeError",
          "evalue": "ignored",
          "traceback": [
            "\u001b[0;31m---------------------------------------------------------------------------\u001b[0m",
            "\u001b[0;31mAttributeError\u001b[0m                            Traceback (most recent call last)",
            "\u001b[0;32m<ipython-input-71-ca14e16200e8>\u001b[0m in \u001b[0;36m<cell line: 9>\u001b[0;34m()\u001b[0m\n\u001b[1;32m      7\u001b[0m \u001b[0;34m\u001b[0m\u001b[0m\n\u001b[1;32m      8\u001b[0m \u001b[0mb\u001b[0m \u001b[0;34m=\u001b[0m \u001b[0mB\u001b[0m\u001b[0;34m(\u001b[0m\u001b[0;34m)\u001b[0m\u001b[0;34m\u001b[0m\u001b[0;34m\u001b[0m\u001b[0m\n\u001b[0;32m----> 9\u001b[0;31m \u001b[0mb\u001b[0m\u001b[0;34m.\u001b[0m\u001b[0m__var\u001b[0m\u001b[0;34m\u001b[0m\u001b[0;34m\u001b[0m\u001b[0m\n\u001b[0m",
            "\u001b[0;31mAttributeError\u001b[0m: 'B' object has no attribute '__var'"
          ]
        }
      ]
    },
    {
      "cell_type": "code",
      "source": [
        "class A:\n",
        "    __var=100\n",
        "\n",
        "class B(A):\n",
        "    def method(self):\n",
        "        return (self.__var) # private vars are not inherited\n",
        "\n",
        "b = B()\n",
        "b.method()"
      ],
      "metadata": {
        "colab": {
          "base_uri": "https://localhost:8080/",
          "height": 340
        },
        "id": "17dof48y1hOA",
        "outputId": "bc60f6a9-a011-42ad-a4c6-7f8d9783c1c5"
      },
      "execution_count": 79,
      "outputs": [
        {
          "output_type": "error",
          "ename": "AttributeError",
          "evalue": "ignored",
          "traceback": [
            "\u001b[0;31m---------------------------------------------------------------------------\u001b[0m",
            "\u001b[0;31mAttributeError\u001b[0m                            Traceback (most recent call last)",
            "\u001b[0;32m<ipython-input-79-7d72f83a99b6>\u001b[0m in \u001b[0;36m<cell line: 9>\u001b[0;34m()\u001b[0m\n\u001b[1;32m      7\u001b[0m \u001b[0;34m\u001b[0m\u001b[0m\n\u001b[1;32m      8\u001b[0m \u001b[0mb\u001b[0m \u001b[0;34m=\u001b[0m \u001b[0mB\u001b[0m\u001b[0;34m(\u001b[0m\u001b[0;34m)\u001b[0m\u001b[0;34m\u001b[0m\u001b[0;34m\u001b[0m\u001b[0m\n\u001b[0;32m----> 9\u001b[0;31m \u001b[0mb\u001b[0m\u001b[0;34m.\u001b[0m\u001b[0mmethod\u001b[0m\u001b[0;34m(\u001b[0m\u001b[0;34m)\u001b[0m\u001b[0;34m\u001b[0m\u001b[0;34m\u001b[0m\u001b[0m\n\u001b[0m",
            "\u001b[0;32m<ipython-input-79-7d72f83a99b6>\u001b[0m in \u001b[0;36mmethod\u001b[0;34m(self)\u001b[0m\n\u001b[1;32m      4\u001b[0m \u001b[0;32mclass\u001b[0m \u001b[0mB\u001b[0m\u001b[0;34m(\u001b[0m\u001b[0mA\u001b[0m\u001b[0;34m)\u001b[0m\u001b[0;34m:\u001b[0m\u001b[0;34m\u001b[0m\u001b[0;34m\u001b[0m\u001b[0m\n\u001b[1;32m      5\u001b[0m     \u001b[0;32mdef\u001b[0m \u001b[0mmethod\u001b[0m\u001b[0;34m(\u001b[0m\u001b[0mself\u001b[0m\u001b[0;34m)\u001b[0m\u001b[0;34m:\u001b[0m\u001b[0;34m\u001b[0m\u001b[0;34m\u001b[0m\u001b[0m\n\u001b[0;32m----> 6\u001b[0;31m         \u001b[0;32mreturn\u001b[0m \u001b[0;34m(\u001b[0m\u001b[0mself\u001b[0m\u001b[0;34m.\u001b[0m\u001b[0m__var\u001b[0m\u001b[0;34m)\u001b[0m \u001b[0;31m# private vars are not inherited\u001b[0m\u001b[0;34m\u001b[0m\u001b[0;34m\u001b[0m\u001b[0m\n\u001b[0m\u001b[1;32m      7\u001b[0m \u001b[0;34m\u001b[0m\u001b[0m\n\u001b[1;32m      8\u001b[0m \u001b[0mb\u001b[0m \u001b[0;34m=\u001b[0m \u001b[0mB\u001b[0m\u001b[0;34m(\u001b[0m\u001b[0;34m)\u001b[0m\u001b[0;34m\u001b[0m\u001b[0;34m\u001b[0m\u001b[0m\n",
            "\u001b[0;31mAttributeError\u001b[0m: 'B' object has no attribute '_B__var'"
          ]
        }
      ]
    },
    {
      "cell_type": "code",
      "source": [
        "b.__var"
      ],
      "metadata": {
        "colab": {
          "base_uri": "https://localhost:8080/",
          "height": 192
        },
        "id": "8m6KUJpD2NEz",
        "outputId": "02b6c6a3-a786-415e-97e1-b0ec63e6dd7d"
      },
      "execution_count": 73,
      "outputs": [
        {
          "output_type": "error",
          "ename": "AttributeError",
          "evalue": "ignored",
          "traceback": [
            "\u001b[0;31m---------------------------------------------------------------------------\u001b[0m",
            "\u001b[0;31mAttributeError\u001b[0m                            Traceback (most recent call last)",
            "\u001b[0;32m<ipython-input-73-62c60f785f37>\u001b[0m in \u001b[0;36m<cell line: 1>\u001b[0;34m()\u001b[0m\n\u001b[0;32m----> 1\u001b[0;31m \u001b[0mb\u001b[0m\u001b[0;34m.\u001b[0m\u001b[0m__var\u001b[0m\u001b[0;34m\u001b[0m\u001b[0;34m\u001b[0m\u001b[0m\n\u001b[0m",
            "\u001b[0;31mAttributeError\u001b[0m: 'B' object has no attribute '__var'"
          ]
        }
      ]
    },
    {
      "cell_type": "code",
      "source": [
        "str1 = \"A man, a plan, a canal: Panama\"\n",
        "list(filter(lambda x:x.isalnum(), str1.lower()))"
      ],
      "metadata": {
        "colab": {
          "base_uri": "https://localhost:8080/"
        },
        "id": "tV0Ce8HT2Pxa",
        "outputId": "f9aea382-eaad-44c4-e4a5-b95733ead570"
      },
      "execution_count": 90,
      "outputs": [
        {
          "output_type": "execute_result",
          "data": {
            "text/plain": [
              "['a',\n",
              " 'm',\n",
              " 'a',\n",
              " 'n',\n",
              " 'a',\n",
              " 'p',\n",
              " 'l',\n",
              " 'a',\n",
              " 'n',\n",
              " 'a',\n",
              " 'c',\n",
              " 'a',\n",
              " 'n',\n",
              " 'a',\n",
              " 'l',\n",
              " 'p',\n",
              " 'a',\n",
              " 'n',\n",
              " 'a',\n",
              " 'm',\n",
              " 'a']"
            ]
          },
          "metadata": {},
          "execution_count": 90
        }
      ]
    },
    {
      "cell_type": "code",
      "source": [
        "list(filter(lambda x:x.isalnum(), str1.lower())) == list(filter(lambda x:x.isalnum(), str1.lower()))[::-1]"
      ],
      "metadata": {
        "colab": {
          "base_uri": "https://localhost:8080/"
        },
        "id": "cW8IV-de4wR6",
        "outputId": "6b78dc84-491b-4415-97bb-4a6cb6d66ae7"
      },
      "execution_count": 91,
      "outputs": [
        {
          "output_type": "execute_result",
          "data": {
            "text/plain": [
              "True"
            ]
          },
          "metadata": {},
          "execution_count": 91
        }
      ]
    },
    {
      "cell_type": "code",
      "source": [
        "map(lambda x: x.lower(),(filter(lambda x:x.isalnum(), str1)))"
      ],
      "metadata": {
        "colab": {
          "base_uri": "https://localhost:8080/"
        },
        "id": "lDRnFuGn3uLk",
        "outputId": "bc9ee4fd-6ea7-4473-e34d-8d16c5da9c90"
      },
      "execution_count": 89,
      "outputs": [
        {
          "output_type": "execute_result",
          "data": {
            "text/plain": [
              "<map at 0x7ab67c3ffca0>"
            ]
          },
          "metadata": {},
          "execution_count": 89
        }
      ]
    },
    {
      "cell_type": "code",
      "source": [
        "A=[i.lower() for i in A if i.isalnum()]\n",
        "int(A==A[::-1])"
      ],
      "metadata": {
        "id": "fuLjkJZt3vMZ"
      },
      "execution_count": null,
      "outputs": []
    },
    {
      "cell_type": "code",
      "source": [
        "a = \"Sachin\""
      ],
      "metadata": {
        "id": "hUpTWGc250K4"
      },
      "execution_count": 93,
      "outputs": []
    },
    {
      "cell_type": "code",
      "source": [
        "a[::-1] #"
      ],
      "metadata": {
        "colab": {
          "base_uri": "https://localhost:8080/",
          "height": 56
        },
        "id": "0nHraLOZ506s",
        "outputId": "fbb63424-c309-4803-cfcf-bbd67ec19857"
      },
      "execution_count": 94,
      "outputs": [
        {
          "output_type": "execute_result",
          "data": {
            "text/plain": [
              "'nihcaS'"
            ],
            "application/vnd.google.colaboratory.intrinsic+json": {
              "type": "string"
            }
          },
          "metadata": {},
          "execution_count": 94
        }
      ]
    },
    {
      "cell_type": "code",
      "source": [
        "a.lower()==a.lower()[::-1]"
      ],
      "metadata": {
        "colab": {
          "base_uri": "https://localhost:8080/"
        },
        "id": "tV-OVTJs52uw",
        "outputId": "6db66133-3a51-46a9-e6a3-97be5feeb603"
      },
      "execution_count": 96,
      "outputs": [
        {
          "output_type": "execute_result",
          "data": {
            "text/plain": [
              "False"
            ]
          },
          "metadata": {},
          "execution_count": 96
        }
      ]
    },
    {
      "cell_type": "code",
      "source": [
        "list1 = [[1,2,3],[4,5,6],[7,8,9]]\n",
        "list2 = [[9,8,7],[6,5,4],[3,2,1]]\n",
        "ls11,ls12,ls13=list1\n",
        "ls21,ls22,ls23=list2\n",
        "print(list(zip(ls11,ls12,ls13,ls21,ls22,ls23)))"
      ],
      "metadata": {
        "colab": {
          "base_uri": "https://localhost:8080/"
        },
        "id": "cpMq4ayt56Vl",
        "outputId": "e8f35cda-c392-4320-a38a-e369f2f2ef26"
      },
      "execution_count": 97,
      "outputs": [
        {
          "output_type": "stream",
          "name": "stdout",
          "text": [
            "[(1, 4, 7, 9, 6, 3), (2, 5, 8, 8, 5, 2), (3, 6, 9, 7, 4, 1)]\n"
          ]
        }
      ]
    },
    {
      "cell_type": "code",
      "source": [],
      "metadata": {
        "id": "fDifRrL-6iH1"
      },
      "execution_count": null,
      "outputs": []
    },
    {
      "cell_type": "code",
      "source": [
        "print(ls11)"
      ],
      "metadata": {
        "id": "PoWN0SUS6NVX"
      },
      "execution_count": null,
      "outputs": []
    },
    {
      "cell_type": "code",
      "source": [
        "column_names = ['name', 'salary', 'job']\n",
        "db_rows = [('Alice', 180000, 'data scientist'),\n",
        "           ('Bob', 99000, 'data engineer'),\n",
        "           ('Frank', 87000, 'data analyst')]\n",
        "\n",
        "db = [dict(zip(column_names,row)) for row in db_rows]\n",
        "print(db)"
      ],
      "metadata": {
        "colab": {
          "base_uri": "https://localhost:8080/"
        },
        "id": "cHKw1PCI6SF3",
        "outputId": "9eaf302e-efbd-45c2-ed25-c5c582f7d20c"
      },
      "execution_count": 99,
      "outputs": [
        {
          "output_type": "stream",
          "name": "stdout",
          "text": [
            "[{'name': 'Alice', 'salary': 180000, 'job': 'data scientist'}, {'name': 'Bob', 'salary': 99000, 'job': 'data engineer'}, {'name': 'Frank', 'salary': 87000, 'job': 'data analyst'}]\n"
          ]
        }
      ]
    },
    {
      "cell_type": "code",
      "source": [
        "dict(zip(column_names,db_rows[0]))"
      ],
      "metadata": {
        "colab": {
          "base_uri": "https://localhost:8080/"
        },
        "id": "-T1zEScI7MuN",
        "outputId": "2b132187-18a3-4bf9-c9a8-b90b35e5062e"
      },
      "execution_count": 101,
      "outputs": [
        {
          "output_type": "execute_result",
          "data": {
            "text/plain": [
              "{'name': 'Alice', 'salary': 180000, 'job': 'data scientist'}"
            ]
          },
          "metadata": {},
          "execution_count": 101
        }
      ]
    },
    {
      "cell_type": "code",
      "source": [
        "dict(zip(column_names,db_rows[1]))"
      ],
      "metadata": {
        "colab": {
          "base_uri": "https://localhost:8080/"
        },
        "id": "MxI4Sxr47SsP",
        "outputId": "7dde6bff-464b-45d0-fe02-f1127c4291e4"
      },
      "execution_count": 102,
      "outputs": [
        {
          "output_type": "execute_result",
          "data": {
            "text/plain": [
              "{'name': 'Bob', 'salary': 99000, 'job': 'data engineer'}"
            ]
          },
          "metadata": {},
          "execution_count": 102
        }
      ]
    },
    {
      "cell_type": "code",
      "source": [
        "dict(zip(column_names,db_rows[2]))"
      ],
      "metadata": {
        "colab": {
          "base_uri": "https://localhost:8080/"
        },
        "id": "9MHR87d77UCU",
        "outputId": "dcc0f82c-6f8b-4b17-d8a6-d5b255278892"
      },
      "execution_count": 104,
      "outputs": [
        {
          "output_type": "execute_result",
          "data": {
            "text/plain": [
              "{'name': 'Frank', 'salary': 87000, 'job': 'data analyst'}"
            ]
          },
          "metadata": {},
          "execution_count": 104
        }
      ]
    },
    {
      "cell_type": "code",
      "source": [
        "dict([(\"A\",1), (\"B\",2)])"
      ],
      "metadata": {
        "colab": {
          "base_uri": "https://localhost:8080/"
        },
        "id": "wkjGeMXD6u02",
        "outputId": "41ee4707-dd71-413e-be40-2678e490d663"
      },
      "execution_count": 98,
      "outputs": [
        {
          "output_type": "execute_result",
          "data": {
            "text/plain": [
              "{'A': 1, 'B': 2}"
            ]
          },
          "metadata": {},
          "execution_count": 98
        }
      ]
    },
    {
      "cell_type": "code",
      "source": [
        "str1 = \"The world has changed and none of us can go back all we can do is our best and sometimes the best that we can do is to start over\"\n",
        "N = 5"
      ],
      "metadata": {
        "id": "uS6Akujz64QL"
      },
      "execution_count": 110,
      "outputs": []
    },
    {
      "cell_type": "code",
      "source": [
        "len(str1)==N"
      ],
      "metadata": {
        "colab": {
          "base_uri": "https://localhost:8080/"
        },
        "id": "2vo5KwQr7g0a",
        "outputId": "649151fb-9424-498a-d10f-27688ef50d1f"
      },
      "execution_count": 113,
      "outputs": [
        {
          "output_type": "execute_result",
          "data": {
            "text/plain": [
              "False"
            ]
          },
          "metadata": {},
          "execution_count": 113
        }
      ]
    },
    {
      "cell_type": "code",
      "source": [
        "list(filter(lambda x:len(x)==N, str1.split()))"
      ],
      "metadata": {
        "colab": {
          "base_uri": "https://localhost:8080/"
        },
        "id": "WkMBZXHY7vnw",
        "outputId": "2ef2e1ea-01cd-40cc-bedb-5df545371ab8"
      },
      "execution_count": 115,
      "outputs": [
        {
          "output_type": "execute_result",
          "data": {
            "text/plain": [
              "['world', 'start']"
            ]
          },
          "metadata": {},
          "execution_count": 115
        }
      ]
    },
    {
      "cell_type": "code",
      "source": [
        "N = 5\n",
        "\n",
        "def fib(n):\n",
        "    if n<=1:\n",
        "        return n\n",
        "    return fib(n-1)+fib(n-2)\n",
        "\n",
        "list1=[fib(i) for i in range(N)]\n",
        "list1"
      ],
      "metadata": {
        "colab": {
          "base_uri": "https://localhost:8080/"
        },
        "id": "JzanOMXf70AO",
        "outputId": "8c097085-f622-436c-9f6d-50c95bd0f6dd"
      },
      "execution_count": 117,
      "outputs": [
        {
          "output_type": "execute_result",
          "data": {
            "text/plain": [
              "[0, 1, 1, 2, 3]"
            ]
          },
          "metadata": {},
          "execution_count": 117
        }
      ]
    },
    {
      "cell_type": "code",
      "source": [
        "list1=list(map(fib, range(N)))\n",
        "list1"
      ],
      "metadata": {
        "colab": {
          "base_uri": "https://localhost:8080/"
        },
        "id": "N-1lTCye8gl3",
        "outputId": "7554d7c5-5f40-45b4-e80d-34007d3bb6a3"
      },
      "execution_count": 119,
      "outputs": [
        {
          "output_type": "execute_result",
          "data": {
            "text/plain": [
              "[0, 1, 1, 2, 3]"
            ]
          },
          "metadata": {},
          "execution_count": 119
        }
      ]
    },
    {
      "cell_type": "code",
      "source": [
        "fact = lambda x: fact(x-1)*x if x>1 else 1\n",
        "fact(5)"
      ],
      "metadata": {
        "colab": {
          "base_uri": "https://localhost:8080/"
        },
        "id": "yoljl1Z48nt2",
        "outputId": "3fa339ac-9429-4178-c941-bed8c91156b3"
      },
      "execution_count": 120,
      "outputs": [
        {
          "output_type": "execute_result",
          "data": {
            "text/plain": [
              "120"
            ]
          },
          "metadata": {},
          "execution_count": 120
        }
      ]
    },
    {
      "cell_type": "code",
      "source": [
        "def get_prime(n):\n",
        "    if n<=1:\n",
        "        return False\n",
        "    else:\n",
        "        for i in range(2,n):\n",
        "            if n%i==0:\n",
        "                return False\n",
        "        return True"
      ],
      "metadata": {
        "id": "iDuvUjf08_l8"
      },
      "execution_count": 122,
      "outputs": []
    },
    {
      "cell_type": "code",
      "source": [
        "list1"
      ],
      "metadata": {
        "colab": {
          "base_uri": "https://localhost:8080/"
        },
        "id": "ifaLRzPA9c1t",
        "outputId": "dcbf3015-3e68-4c5d-cf9f-c3a01927c05b"
      },
      "execution_count": 123,
      "outputs": [
        {
          "output_type": "execute_result",
          "data": {
            "text/plain": [
              "[0, 1, 1, 2, 3]"
            ]
          },
          "metadata": {},
          "execution_count": 123
        }
      ]
    },
    {
      "cell_type": "code",
      "source": [
        "list2 = list(map(lambda x: x if get_prime(x) else fact(x),list1))"
      ],
      "metadata": {
        "id": "OA4wrNJk94i-"
      },
      "execution_count": 125,
      "outputs": []
    },
    {
      "cell_type": "code",
      "source": [
        "list2"
      ],
      "metadata": {
        "colab": {
          "base_uri": "https://localhost:8080/"
        },
        "id": "4wP2pF8D-PdI",
        "outputId": "22148682-733f-46c5-9d38-2a2a54327edf"
      },
      "execution_count": 126,
      "outputs": [
        {
          "output_type": "execute_result",
          "data": {
            "text/plain": [
              "[1, 1, 1, 2, 3]"
            ]
          },
          "metadata": {},
          "execution_count": 126
        }
      ]
    },
    {
      "cell_type": "code",
      "source": [
        "a=[10, 20, 30]\n",
        "result = lambda x: list(map(lambda y:2*y, x)) if isinstance(x,list) else lambda x:3*x\n",
        "print(result(a))"
      ],
      "metadata": {
        "colab": {
          "base_uri": "https://localhost:8080/"
        },
        "id": "XdB3aMAJ-R3m",
        "outputId": "531898f1-c715-4fb9-fd83-5cc5a5bca62c"
      },
      "execution_count": 131,
      "outputs": [
        {
          "output_type": "stream",
          "name": "stdout",
          "text": [
            "[20, 40, 60]\n"
          ]
        }
      ]
    },
    {
      "cell_type": "code",
      "source": [
        "result(a)(10)"
      ],
      "metadata": {
        "colab": {
          "base_uri": "https://localhost:8080/"
        },
        "id": "3xqOmPHs--wH",
        "outputId": "55d47d36-77db-4511-b063-d660c97dcf6b"
      },
      "execution_count": 129,
      "outputs": [
        {
          "output_type": "execute_result",
          "data": {
            "text/plain": [
              "30"
            ]
          },
          "metadata": {},
          "execution_count": 129
        }
      ]
    },
    {
      "cell_type": "code",
      "source": [
        "[2,3]*2"
      ],
      "metadata": {
        "colab": {
          "base_uri": "https://localhost:8080/"
        },
        "id": "QiUor1GJ_DPe",
        "outputId": "08d8ac73-0e51-4ca7-bdbb-0ffdc0751813"
      },
      "execution_count": 132,
      "outputs": [
        {
          "output_type": "execute_result",
          "data": {
            "text/plain": [
              "[2, 3, 2, 3]"
            ]
          },
          "metadata": {},
          "execution_count": 132
        }
      ]
    },
    {
      "cell_type": "code",
      "source": [],
      "metadata": {
        "id": "9pohx8Ut_TXi"
      },
      "execution_count": null,
      "outputs": []
    }
  ]
}