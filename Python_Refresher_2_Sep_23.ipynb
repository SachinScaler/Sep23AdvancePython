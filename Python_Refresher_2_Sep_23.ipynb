{
  "nbformat": 4,
  "nbformat_minor": 0,
  "metadata": {
    "colab": {
      "provenance": [],
      "authorship_tag": "ABX9TyMd4tl6RSLGNlxB7NmPXr6s",
      "include_colab_link": true
    },
    "kernelspec": {
      "name": "python3",
      "display_name": "Python 3"
    },
    "language_info": {
      "name": "python"
    }
  },
  "cells": [
    {
      "cell_type": "markdown",
      "metadata": {
        "id": "view-in-github",
        "colab_type": "text"
      },
      "source": [
        "<a href=\"https://colab.research.google.com/github/SachinScaler/Sep23AdvancePython/blob/main/Python_Refresher_2_Sep_23.ipynb\" target=\"_parent\"><img src=\"https://colab.research.google.com/assets/colab-badge.svg\" alt=\"Open In Colab\"/></a>"
      ]
    },
    {
      "cell_type": "code",
      "execution_count": 2,
      "metadata": {
        "id": "TfX2o6eapWC7",
        "colab": {
          "base_uri": "https://localhost:8080/"
        },
        "outputId": "1264923e-36c5-4e8e-e778-80436d63eab8"
      },
      "outputs": [
        {
          "output_type": "stream",
          "name": "stdout",
          "text": [
            "False\n"
          ]
        }
      ],
      "source": [
        "a = 1000\n",
        "b = a+1\n",
        "print(id(a)==id(b))"
      ]
    },
    {
      "cell_type": "markdown",
      "source": [
        "For Loop"
      ],
      "metadata": {
        "id": "EGUMAU_CtHce"
      }
    },
    {
      "cell_type": "code",
      "source": [
        "for i in \"Sachin\":\n",
        "    print(i)"
      ],
      "metadata": {
        "id": "WnuMPe2Xq6en",
        "colab": {
          "base_uri": "https://localhost:8080/"
        },
        "outputId": "c36cd4f1-bb24-4939-b2f7-a15848cb1771"
      },
      "execution_count": 3,
      "outputs": [
        {
          "output_type": "stream",
          "name": "stdout",
          "text": [
            "S\n",
            "a\n",
            "c\n",
            "h\n",
            "i\n",
            "n\n"
          ]
        }
      ]
    },
    {
      "cell_type": "code",
      "source": [
        "for i in 10:\n",
        "    print(i)"
      ],
      "metadata": {
        "colab": {
          "base_uri": "https://localhost:8080/",
          "height": 194
        },
        "id": "zdmzQU00tMzM",
        "outputId": "e327f800-2769-45e2-ac58-a7fee3abffe3"
      },
      "execution_count": 4,
      "outputs": [
        {
          "output_type": "error",
          "ename": "TypeError",
          "evalue": "ignored",
          "traceback": [
            "\u001b[0;31m---------------------------------------------------------------------------\u001b[0m",
            "\u001b[0;31mTypeError\u001b[0m                                 Traceback (most recent call last)",
            "\u001b[0;32m<ipython-input-4-665a8c31cf25>\u001b[0m in \u001b[0;36m<cell line: 1>\u001b[0;34m()\u001b[0m\n\u001b[0;32m----> 1\u001b[0;31m \u001b[0;32mfor\u001b[0m \u001b[0mi\u001b[0m \u001b[0;32min\u001b[0m \u001b[0;36m10\u001b[0m\u001b[0;34m:\u001b[0m\u001b[0;34m\u001b[0m\u001b[0;34m\u001b[0m\u001b[0m\n\u001b[0m\u001b[1;32m      2\u001b[0m     \u001b[0mprint\u001b[0m\u001b[0;34m(\u001b[0m\u001b[0mi\u001b[0m\u001b[0;34m)\u001b[0m\u001b[0;34m\u001b[0m\u001b[0;34m\u001b[0m\u001b[0m\n",
            "\u001b[0;31mTypeError\u001b[0m: 'int' object is not iterable"
          ]
        }
      ]
    },
    {
      "cell_type": "code",
      "source": [
        "for i in range(10):\n",
        "    print(i)"
      ],
      "metadata": {
        "colab": {
          "base_uri": "https://localhost:8080/"
        },
        "id": "L4vMnvxKtUBF",
        "outputId": "ed35671e-a609-4d6f-e0f6-08953eaa63ed"
      },
      "execution_count": 5,
      "outputs": [
        {
          "output_type": "stream",
          "name": "stdout",
          "text": [
            "0\n",
            "1\n",
            "2\n",
            "3\n",
            "4\n",
            "5\n",
            "6\n",
            "7\n",
            "8\n",
            "9\n"
          ]
        }
      ]
    },
    {
      "cell_type": "code",
      "source": [
        "a = range(10)\n",
        "print(a)\n",
        "print(type(a))"
      ],
      "metadata": {
        "colab": {
          "base_uri": "https://localhost:8080/"
        },
        "id": "ZA5fcaAJtiQC",
        "outputId": "4c131f24-ecd8-4436-8eb3-5e4544a8460b"
      },
      "execution_count": 6,
      "outputs": [
        {
          "output_type": "stream",
          "name": "stdout",
          "text": [
            "range(0, 10)\n",
            "<class 'range'>\n"
          ]
        }
      ]
    },
    {
      "cell_type": "markdown",
      "source": [
        "#### range object is Iterable"
      ],
      "metadata": {
        "id": "ca_XW9J-tuWx"
      }
    },
    {
      "cell_type": "code",
      "source": [
        "list1 = [1,2,3,4]\n",
        "for i in list1:\n",
        "    print(i)"
      ],
      "metadata": {
        "colab": {
          "base_uri": "https://localhost:8080/"
        },
        "id": "mpvlAH7Hto-P",
        "outputId": "ff53130c-0ace-4993-a3fb-95b1f3580d05"
      },
      "execution_count": 7,
      "outputs": [
        {
          "output_type": "stream",
          "name": "stdout",
          "text": [
            "1\n",
            "2\n",
            "3\n",
            "4\n"
          ]
        }
      ]
    },
    {
      "cell_type": "markdown",
      "source": [
        "### Iteration Protocol"
      ],
      "metadata": {
        "id": "bqar7IJWvWdI"
      }
    },
    {
      "cell_type": "code",
      "source": [
        "a = range(10)\n",
        "print(a)"
      ],
      "metadata": {
        "colab": {
          "base_uri": "https://localhost:8080/"
        },
        "id": "0STauJjSt720",
        "outputId": "b45fdfb1-1b94-4735-8332-74675d325d63"
      },
      "execution_count": 8,
      "outputs": [
        {
          "output_type": "stream",
          "name": "stdout",
          "text": [
            "range(0, 10)\n"
          ]
        }
      ]
    },
    {
      "cell_type": "code",
      "source": [
        "it = iter(a)\n",
        "print(it)"
      ],
      "metadata": {
        "colab": {
          "base_uri": "https://localhost:8080/"
        },
        "id": "mAHZeB-cvYV0",
        "outputId": "9514ec8b-c3e5-403a-d808-9d297fdfc9e1"
      },
      "execution_count": 9,
      "outputs": [
        {
          "output_type": "stream",
          "name": "stdout",
          "text": [
            "<range_iterator object at 0x78cb5ea15cb0>\n"
          ]
        }
      ]
    },
    {
      "cell_type": "code",
      "source": [
        "iter(\"Sachin\")"
      ],
      "metadata": {
        "colab": {
          "base_uri": "https://localhost:8080/"
        },
        "id": "zygacwzfvg21",
        "outputId": "4dc57f4c-1731-4149-d1a4-0964afe94a85"
      },
      "execution_count": 10,
      "outputs": [
        {
          "output_type": "execute_result",
          "data": {
            "text/plain": [
              "<str_iterator at 0x78cb5ea16b60>"
            ]
          },
          "metadata": {},
          "execution_count": 10
        }
      ]
    },
    {
      "cell_type": "code",
      "source": [
        "iter(10)"
      ],
      "metadata": {
        "colab": {
          "base_uri": "https://localhost:8080/",
          "height": 177
        },
        "id": "wrXOs7E3vjzS",
        "outputId": "1b5c2338-24c8-4ea8-e7f5-03f6fc96d332"
      },
      "execution_count": 11,
      "outputs": [
        {
          "output_type": "error",
          "ename": "TypeError",
          "evalue": "ignored",
          "traceback": [
            "\u001b[0;31m---------------------------------------------------------------------------\u001b[0m",
            "\u001b[0;31mTypeError\u001b[0m                                 Traceback (most recent call last)",
            "\u001b[0;32m<ipython-input-11-39736a569192>\u001b[0m in \u001b[0;36m<cell line: 1>\u001b[0;34m()\u001b[0m\n\u001b[0;32m----> 1\u001b[0;31m \u001b[0miter\u001b[0m\u001b[0;34m(\u001b[0m\u001b[0;36m10\u001b[0m\u001b[0;34m)\u001b[0m\u001b[0;34m\u001b[0m\u001b[0;34m\u001b[0m\u001b[0m\n\u001b[0m",
            "\u001b[0;31mTypeError\u001b[0m: 'int' object is not iterable"
          ]
        }
      ]
    },
    {
      "cell_type": "markdown",
      "source": [
        "create custom int class with `__iter__` defined on that."
      ],
      "metadata": {
        "id": "6cn2Ic05v0aj"
      }
    },
    {
      "cell_type": "code",
      "source": [
        "print(it)\n",
        "next(it)"
      ],
      "metadata": {
        "colab": {
          "base_uri": "https://localhost:8080/"
        },
        "id": "eDAZbt-TvsyX",
        "outputId": "1ecf5fd1-8a8f-440d-9d37-59492e87e6ac"
      },
      "execution_count": 12,
      "outputs": [
        {
          "output_type": "stream",
          "name": "stdout",
          "text": [
            "<range_iterator object at 0x78cb5ea15cb0>\n"
          ]
        },
        {
          "output_type": "execute_result",
          "data": {
            "text/plain": [
              "0"
            ]
          },
          "metadata": {},
          "execution_count": 12
        }
      ]
    },
    {
      "cell_type": "code",
      "source": [
        "next(it)"
      ],
      "metadata": {
        "colab": {
          "base_uri": "https://localhost:8080/"
        },
        "id": "CQy_VlwIwSOa",
        "outputId": "f041f0af-2ab2-4260-c161-c19d0c84a22a"
      },
      "execution_count": 13,
      "outputs": [
        {
          "output_type": "execute_result",
          "data": {
            "text/plain": [
              "1"
            ]
          },
          "metadata": {},
          "execution_count": 13
        }
      ]
    },
    {
      "cell_type": "code",
      "source": [
        "next(it)"
      ],
      "metadata": {
        "colab": {
          "base_uri": "https://localhost:8080/"
        },
        "id": "ZbVxQXN7wTVA",
        "outputId": "780e87ea-7de4-4dee-810a-481f8c83f35a"
      },
      "execution_count": 14,
      "outputs": [
        {
          "output_type": "execute_result",
          "data": {
            "text/plain": [
              "2"
            ]
          },
          "metadata": {},
          "execution_count": 14
        }
      ]
    },
    {
      "cell_type": "code",
      "source": [
        "next(it)"
      ],
      "metadata": {
        "colab": {
          "base_uri": "https://localhost:8080/"
        },
        "id": "h7M7q-YAwULu",
        "outputId": "feef514d-2efb-4819-aced-28fcf8d03097"
      },
      "execution_count": 15,
      "outputs": [
        {
          "output_type": "execute_result",
          "data": {
            "text/plain": [
              "3"
            ]
          },
          "metadata": {},
          "execution_count": 15
        }
      ]
    },
    {
      "cell_type": "code",
      "source": [
        "next(it)"
      ],
      "metadata": {
        "colab": {
          "base_uri": "https://localhost:8080/"
        },
        "id": "MgmsKQDFwU3m",
        "outputId": "78af9aec-1113-4185-b369-b32a695eb487"
      },
      "execution_count": 16,
      "outputs": [
        {
          "output_type": "execute_result",
          "data": {
            "text/plain": [
              "4"
            ]
          },
          "metadata": {},
          "execution_count": 16
        }
      ]
    },
    {
      "cell_type": "code",
      "source": [
        "next(it)"
      ],
      "metadata": {
        "colab": {
          "base_uri": "https://localhost:8080/"
        },
        "id": "XpL4lGflwV7W",
        "outputId": "148152e4-389c-4cb5-9abc-ae261d7259ee"
      },
      "execution_count": 17,
      "outputs": [
        {
          "output_type": "execute_result",
          "data": {
            "text/plain": [
              "5"
            ]
          },
          "metadata": {},
          "execution_count": 17
        }
      ]
    },
    {
      "cell_type": "code",
      "source": [
        "print(next(it))\n",
        "print(next(it))\n",
        "print(next(it))\n",
        "print(next(it))\n",
        "print(next(it))"
      ],
      "metadata": {
        "colab": {
          "base_uri": "https://localhost:8080/",
          "height": 281
        },
        "id": "u5fSgqjQwWoF",
        "outputId": "2eb1740d-ba26-4d54-970b-1b77fe717432"
      },
      "execution_count": 18,
      "outputs": [
        {
          "output_type": "stream",
          "name": "stdout",
          "text": [
            "6\n",
            "7\n",
            "8\n",
            "9\n"
          ]
        },
        {
          "output_type": "error",
          "ename": "StopIteration",
          "evalue": "ignored",
          "traceback": [
            "\u001b[0;31m---------------------------------------------------------------------------\u001b[0m",
            "\u001b[0;31mStopIteration\u001b[0m                             Traceback (most recent call last)",
            "\u001b[0;32m<ipython-input-18-6ced74e2ed96>\u001b[0m in \u001b[0;36m<cell line: 5>\u001b[0;34m()\u001b[0m\n\u001b[1;32m      3\u001b[0m \u001b[0mprint\u001b[0m\u001b[0;34m(\u001b[0m\u001b[0mnext\u001b[0m\u001b[0;34m(\u001b[0m\u001b[0mit\u001b[0m\u001b[0;34m)\u001b[0m\u001b[0;34m)\u001b[0m\u001b[0;34m\u001b[0m\u001b[0;34m\u001b[0m\u001b[0m\n\u001b[1;32m      4\u001b[0m \u001b[0mprint\u001b[0m\u001b[0;34m(\u001b[0m\u001b[0mnext\u001b[0m\u001b[0;34m(\u001b[0m\u001b[0mit\u001b[0m\u001b[0;34m)\u001b[0m\u001b[0;34m)\u001b[0m\u001b[0;34m\u001b[0m\u001b[0;34m\u001b[0m\u001b[0m\n\u001b[0;32m----> 5\u001b[0;31m \u001b[0mprint\u001b[0m\u001b[0;34m(\u001b[0m\u001b[0mnext\u001b[0m\u001b[0;34m(\u001b[0m\u001b[0mit\u001b[0m\u001b[0;34m)\u001b[0m\u001b[0;34m)\u001b[0m\u001b[0;34m\u001b[0m\u001b[0;34m\u001b[0m\u001b[0m\n\u001b[0m",
            "\u001b[0;31mStopIteration\u001b[0m: "
          ]
        }
      ]
    },
    {
      "cell_type": "code",
      "source": [
        "print(next(it))\n"
      ],
      "metadata": {
        "colab": {
          "base_uri": "https://localhost:8080/",
          "height": 177
        },
        "id": "FYoIm0QUwfv8",
        "outputId": "b3aacf5f-f3b9-4831-de90-3edfddcd7836"
      },
      "execution_count": 19,
      "outputs": [
        {
          "output_type": "error",
          "ename": "StopIteration",
          "evalue": "ignored",
          "traceback": [
            "\u001b[0;31m---------------------------------------------------------------------------\u001b[0m",
            "\u001b[0;31mStopIteration\u001b[0m                             Traceback (most recent call last)",
            "\u001b[0;32m<ipython-input-19-4d0222393be1>\u001b[0m in \u001b[0;36m<cell line: 1>\u001b[0;34m()\u001b[0m\n\u001b[0;32m----> 1\u001b[0;31m \u001b[0mprint\u001b[0m\u001b[0;34m(\u001b[0m\u001b[0mnext\u001b[0m\u001b[0;34m(\u001b[0m\u001b[0mit\u001b[0m\u001b[0;34m)\u001b[0m\u001b[0;34m)\u001b[0m\u001b[0;34m\u001b[0m\u001b[0;34m\u001b[0m\u001b[0m\n\u001b[0m",
            "\u001b[0;31mStopIteration\u001b[0m: "
          ]
        }
      ]
    },
    {
      "cell_type": "code",
      "source": [
        "for i in range(0.5):\n",
        "    print(i)"
      ],
      "metadata": {
        "colab": {
          "base_uri": "https://localhost:8080/",
          "height": 194
        },
        "id": "OI9v36xuwimi",
        "outputId": "14258eb1-38da-45a8-b784-afc7c153f8d6"
      },
      "execution_count": 21,
      "outputs": [
        {
          "output_type": "error",
          "ename": "TypeError",
          "evalue": "ignored",
          "traceback": [
            "\u001b[0;31m---------------------------------------------------------------------------\u001b[0m",
            "\u001b[0;31mTypeError\u001b[0m                                 Traceback (most recent call last)",
            "\u001b[0;32m<ipython-input-21-ce444fba07cd>\u001b[0m in \u001b[0;36m<cell line: 1>\u001b[0;34m()\u001b[0m\n\u001b[0;32m----> 1\u001b[0;31m \u001b[0;32mfor\u001b[0m \u001b[0mi\u001b[0m \u001b[0;32min\u001b[0m \u001b[0mrange\u001b[0m\u001b[0;34m(\u001b[0m\u001b[0;36m0.5\u001b[0m\u001b[0;34m)\u001b[0m\u001b[0;34m:\u001b[0m\u001b[0;34m\u001b[0m\u001b[0;34m\u001b[0m\u001b[0m\n\u001b[0m\u001b[1;32m      2\u001b[0m     \u001b[0mprint\u001b[0m\u001b[0;34m(\u001b[0m\u001b[0mi\u001b[0m\u001b[0;34m)\u001b[0m\u001b[0;34m\u001b[0m\u001b[0;34m\u001b[0m\u001b[0m\n",
            "\u001b[0;31mTypeError\u001b[0m: 'float' object cannot be interpreted as an integer"
          ]
        }
      ]
    },
    {
      "cell_type": "code",
      "source": [
        "class MyCustomRange:\n",
        "  def __init__(self,start, end, jump = 0.1):\n",
        "     self.start = start\n",
        "     self.end=end\n",
        "     self.jump=jump\n",
        "\n",
        "  def __iter__(self):\n",
        "    return self\n",
        "\n",
        "  def __next__(self):\n",
        "    while self.start <= self.end:\n",
        "      out = round(self.start,2)\n",
        "      self.start += self.jump\n",
        "      return out\n",
        "    else:\n",
        "      raise StopIteration  # exception handling\n",
        "\n",
        "for i in MyCustomRange(1,2,0.2):\n",
        "    print(i)"
      ],
      "metadata": {
        "colab": {
          "base_uri": "https://localhost:8080/"
        },
        "id": "goEeTwFoxF_A",
        "outputId": "4810ed8a-adad-40ac-f34c-993cdd2dd551"
      },
      "execution_count": 22,
      "outputs": [
        {
          "output_type": "stream",
          "name": "stdout",
          "text": [
            "1\n",
            "1.2\n",
            "1.4\n",
            "1.6\n",
            "1.8\n",
            "2.0\n"
          ]
        }
      ]
    },
    {
      "cell_type": "markdown",
      "source": [
        "Functions:"
      ],
      "metadata": {
        "id": "-9WB0deF1Xau"
      }
    },
    {
      "cell_type": "code",
      "source": [
        "def myFunc(name):\n",
        "    print(f\"Hi {name} How are You\")\n",
        "\n",
        "out = myFunc(\"Sachin\")\n",
        "print(out)"
      ],
      "metadata": {
        "colab": {
          "base_uri": "https://localhost:8080/"
        },
        "id": "q60iRCUrxi8d",
        "outputId": "44365794-2b64-4ab6-ada5-c68d111c7f98"
      },
      "execution_count": 23,
      "outputs": [
        {
          "output_type": "stream",
          "name": "stdout",
          "text": [
            "Hi Sachin How are You\n",
            "None\n"
          ]
        }
      ]
    },
    {
      "cell_type": "code",
      "source": [
        "def myFunc(name):\n",
        "    return (f\"Hi {name} How are You\")\n",
        "\n",
        "out = myFunc(\"Naveen\")\n",
        "print(out)"
      ],
      "metadata": {
        "colab": {
          "base_uri": "https://localhost:8080/"
        },
        "id": "mMf6U9ag2kRo",
        "outputId": "a1843195-a556-44a7-d103-61fcead12300"
      },
      "execution_count": 24,
      "outputs": [
        {
          "output_type": "stream",
          "name": "stdout",
          "text": [
            "Hi Naveen How are You\n"
          ]
        }
      ]
    },
    {
      "cell_type": "code",
      "source": [
        "print(out+\"! Nice to Hear\")"
      ],
      "metadata": {
        "colab": {
          "base_uri": "https://localhost:8080/"
        },
        "id": "wvcG3EUS3cg7",
        "outputId": "06669858-7382-4489-b979-e9b7ccbcf449"
      },
      "execution_count": 25,
      "outputs": [
        {
          "output_type": "stream",
          "name": "stdout",
          "text": [
            "Hi Naveen How are You! Nice to Hear\n"
          ]
        }
      ]
    },
    {
      "cell_type": "code",
      "source": [
        "def myFunc(name, Batch):\n",
        "    print(f\"Hi {name}\")\n",
        "    print(f\"Do you belong to {Batch}?\")\n",
        "\n",
        "# positional argument\n",
        "myFunc(\"Sachin\",\"Sep23\")"
      ],
      "metadata": {
        "colab": {
          "base_uri": "https://localhost:8080/"
        },
        "id": "-YpApXkb3iF0",
        "outputId": "1cc47659-90ea-4b11-cb21-b4624420966f"
      },
      "execution_count": 32,
      "outputs": [
        {
          "output_type": "stream",
          "name": "stdout",
          "text": [
            "Hi Sachin\n",
            "Do you belong to Sep23?\n"
          ]
        }
      ]
    },
    {
      "cell_type": "code",
      "source": [
        "myFunc(\"Sep23\",\"Sachin\")"
      ],
      "metadata": {
        "colab": {
          "base_uri": "https://localhost:8080/"
        },
        "id": "rUWhN3cT4YUm",
        "outputId": "43714bbe-951a-4775-fd74-fc49a95c83e6"
      },
      "execution_count": 33,
      "outputs": [
        {
          "output_type": "stream",
          "name": "stdout",
          "text": [
            "Hi Sep23\n",
            "Do you belong to Sachin?\n"
          ]
        }
      ]
    },
    {
      "cell_type": "code",
      "source": [
        "# keyword argument\n",
        "myFunc(name = \"Sachin\",Batch=\"Sep23\")"
      ],
      "metadata": {
        "colab": {
          "base_uri": "https://localhost:8080/"
        },
        "id": "GWBYDrQS41uJ",
        "outputId": "2143502c-97c4-40a2-97e5-4b38cdac8609"
      },
      "execution_count": 34,
      "outputs": [
        {
          "output_type": "stream",
          "name": "stdout",
          "text": [
            "Hi Sachin\n",
            "Do you belong to Sep23?\n"
          ]
        }
      ]
    },
    {
      "cell_type": "code",
      "source": [
        "myFunc(Batch=\"Sep23\",name = \"Sachin\")"
      ],
      "metadata": {
        "colab": {
          "base_uri": "https://localhost:8080/"
        },
        "id": "xVRGqNQc5MIc",
        "outputId": "aab9a0c5-e602-4348-f16c-a5f981cc4759"
      },
      "execution_count": 35,
      "outputs": [
        {
          "output_type": "stream",
          "name": "stdout",
          "text": [
            "Hi Sachin\n",
            "Do you belong to Sep23?\n"
          ]
        }
      ]
    },
    {
      "cell_type": "markdown",
      "source": [
        "### Arbitrary and Default Arguments"
      ],
      "metadata": {
        "id": "9RmFRny65qK1"
      }
    },
    {
      "cell_type": "code",
      "source": [
        "# assign a defualt value\n",
        "def myFunc(name, Batch=\"Oct22\"):\n",
        "    print(f\"Hi {name}\")\n",
        "    print(f\"Do you belong to {Batch}?\")\n",
        "\n",
        "# positional argument\n",
        "myFunc(\"Sachin\")"
      ],
      "metadata": {
        "colab": {
          "base_uri": "https://localhost:8080/"
        },
        "id": "Q0iMGvR05RNT",
        "outputId": "70e460ac-4e08-4d7c-98c7-a00662e8b54e"
      },
      "execution_count": 37,
      "outputs": [
        {
          "output_type": "stream",
          "name": "stdout",
          "text": [
            "Hi Sachin\n",
            "Do you belong to Oct22?\n"
          ]
        }
      ]
    },
    {
      "cell_type": "code",
      "source": [
        "myFunc(\"Sachin\",\"Dec23\")"
      ],
      "metadata": {
        "colab": {
          "base_uri": "https://localhost:8080/"
        },
        "id": "bs4ZiLhM5w_4",
        "outputId": "61ebbb38-36be-44df-e483-74ebb135ebc3"
      },
      "execution_count": 38,
      "outputs": [
        {
          "output_type": "stream",
          "name": "stdout",
          "text": [
            "Hi Sachin\n",
            "Do you belong to Dec23?\n"
          ]
        }
      ]
    },
    {
      "cell_type": "markdown",
      "source": [],
      "metadata": {
        "id": "_bYKN0X56Di5"
      }
    },
    {
      "cell_type": "code",
      "source": [
        "### aribtrary args: Flexible function, Works with any number of args\n",
        "# assign a defualt value\n",
        "def myFunc(*args):\n",
        "    print(args)\n",
        "    #print(f\"Hi {name}\")\n",
        "    #print(f\"Do you belong to {Batch}?\")\n",
        "\n",
        "# positional argument\n",
        "myFunc()\n",
        "myFunc(\"Sachin\")\n",
        "myFunc(\"Sachin\",\"Sep22\")\n",
        "myFunc(\"Sachin\",\"Sep22\",\"Adv Module\")"
      ],
      "metadata": {
        "colab": {
          "base_uri": "https://localhost:8080/"
        },
        "id": "Wo-N1hnM59Wv",
        "outputId": "7fce1f31-1598-48a9-872a-8d3cefb83b17"
      },
      "execution_count": 41,
      "outputs": [
        {
          "output_type": "stream",
          "name": "stdout",
          "text": [
            "()\n",
            "('Sachin',)\n",
            "('Sachin', 'Sep22')\n",
            "('Sachin', 'Sep22', 'Adv Module')\n"
          ]
        }
      ]
    },
    {
      "cell_type": "code",
      "source": [
        "### aribtrary args: Flexible function, Works with any number of args\n",
        "# assign a defualt value\n",
        "def myFunc(*args): # check length before acessing index\n",
        "    print(f\"Hi {args[0]}\")\n",
        "    print(f\"Do you belong to {args[1]}?\")\n",
        "\n",
        "# positional argument\n",
        "# myFunc()\n",
        "# myFunc(\"Sachin\")\n",
        "myFunc(\"Sachin\",\"Sep22\")\n",
        "myFunc(\"Sachin\",\"Sep22\",\"Adv Module\")"
      ],
      "metadata": {
        "colab": {
          "base_uri": "https://localhost:8080/"
        },
        "id": "oq6LyZ9G6YEw",
        "outputId": "ca83d565-db12-4bc0-84da-4f256927a36d"
      },
      "execution_count": 44,
      "outputs": [
        {
          "output_type": "stream",
          "name": "stdout",
          "text": [
            "Hi Sachin\n",
            "Do you belong to Sep22?\n",
            "Hi Sachin\n",
            "Do you belong to Sep22?\n"
          ]
        }
      ]
    },
    {
      "cell_type": "code",
      "source": [
        "myFunc(\"Sep22\",\"Adv Module\")"
      ],
      "metadata": {
        "colab": {
          "base_uri": "https://localhost:8080/"
        },
        "id": "iqaVkWpQ6_LV",
        "outputId": "03d3dff3-db3e-446a-c813-455311b1e718"
      },
      "execution_count": 45,
      "outputs": [
        {
          "output_type": "stream",
          "name": "stdout",
          "text": [
            "Hi Sep22\n",
            "Do you belong to Adv Module?\n"
          ]
        }
      ]
    },
    {
      "cell_type": "code",
      "source": [
        "### aribtrary kwargs: Flexible function, Works with any number of args\n",
        "# assign a defualt value\n",
        "\n",
        "def myFunc(**kwargs): # ADD if else to check whether keys are present or not\n",
        "    print(f\"Hi {kwargs['name']}\")\n",
        "    print(f\"Do you belong to {kwargs['batch']}?\")\n",
        "\n",
        "# positional argument\n",
        "# myFunc()\n",
        "# myFunc(\"Sachin\")\n",
        "myFunc(name =\"Sachin\",batch = \"Sep22\")\n",
        "myFunc(name=\"Sachin\",batch=\"Sep22\",module= \"Adv Module\")"
      ],
      "metadata": {
        "colab": {
          "base_uri": "https://localhost:8080/"
        },
        "id": "GA9sdg_B7Sao",
        "outputId": "332ff355-7862-47f6-a5eb-63646ae945af"
      },
      "execution_count": 48,
      "outputs": [
        {
          "output_type": "stream",
          "name": "stdout",
          "text": [
            "Hi Sachin\n",
            "Do you belong to Sep22?\n",
            "Hi Sachin\n",
            "Do you belong to Sep22?\n"
          ]
        }
      ]
    },
    {
      "cell_type": "code",
      "source": [
        "myFunc(batch=\"Sep22\",module= \"Adv Module\")"
      ],
      "metadata": {
        "colab": {
          "base_uri": "https://localhost:8080/",
          "height": 298
        },
        "id": "gzHleWTU7vwL",
        "outputId": "ab5d0726-153a-4f68-dbc4-2023f9d8fe5a"
      },
      "execution_count": 49,
      "outputs": [
        {
          "output_type": "error",
          "ename": "KeyError",
          "evalue": "ignored",
          "traceback": [
            "\u001b[0;31m---------------------------------------------------------------------------\u001b[0m",
            "\u001b[0;31mKeyError\u001b[0m                                  Traceback (most recent call last)",
            "\u001b[0;32m<ipython-input-49-d1989d6e90cb>\u001b[0m in \u001b[0;36m<cell line: 1>\u001b[0;34m()\u001b[0m\n\u001b[0;32m----> 1\u001b[0;31m \u001b[0mmyFunc\u001b[0m\u001b[0;34m(\u001b[0m\u001b[0mbatch\u001b[0m\u001b[0;34m=\u001b[0m\u001b[0;34m\"Sep22\"\u001b[0m\u001b[0;34m,\u001b[0m\u001b[0mmodule\u001b[0m\u001b[0;34m=\u001b[0m \u001b[0;34m\"Adv Module\"\u001b[0m\u001b[0;34m)\u001b[0m\u001b[0;34m\u001b[0m\u001b[0;34m\u001b[0m\u001b[0m\n\u001b[0m",
            "\u001b[0;32m<ipython-input-48-b1897f8552a2>\u001b[0m in \u001b[0;36mmyFunc\u001b[0;34m(**kwargs)\u001b[0m\n\u001b[1;32m      2\u001b[0m \u001b[0;31m# assign a defualt value\u001b[0m\u001b[0;34m\u001b[0m\u001b[0;34m\u001b[0m\u001b[0m\n\u001b[1;32m      3\u001b[0m \u001b[0;32mdef\u001b[0m \u001b[0mmyFunc\u001b[0m\u001b[0;34m(\u001b[0m\u001b[0;34m**\u001b[0m\u001b[0mkwargs\u001b[0m\u001b[0;34m)\u001b[0m\u001b[0;34m:\u001b[0m\u001b[0;34m\u001b[0m\u001b[0;34m\u001b[0m\u001b[0m\n\u001b[0;32m----> 4\u001b[0;31m     \u001b[0mprint\u001b[0m\u001b[0;34m(\u001b[0m\u001b[0;34mf\"Hi {kwargs['name']}\"\u001b[0m\u001b[0;34m)\u001b[0m\u001b[0;34m\u001b[0m\u001b[0;34m\u001b[0m\u001b[0m\n\u001b[0m\u001b[1;32m      5\u001b[0m     \u001b[0mprint\u001b[0m\u001b[0;34m(\u001b[0m\u001b[0;34mf\"Do you belong to {kwargs['batch']}?\"\u001b[0m\u001b[0;34m)\u001b[0m\u001b[0;34m\u001b[0m\u001b[0;34m\u001b[0m\u001b[0m\n\u001b[1;32m      6\u001b[0m \u001b[0;34m\u001b[0m\u001b[0m\n",
            "\u001b[0;31mKeyError\u001b[0m: 'name'"
          ]
        }
      ]
    },
    {
      "cell_type": "markdown",
      "source": [
        "### Extra Question: write a function which takes positional as well as `*args and **kwargs`\n",
        "\n",
        " Postional-> arbitatry-> Keywords"
      ],
      "metadata": {
        "id": "HcbT-s3n8Z30"
      }
    },
    {
      "cell_type": "code",
      "source": [
        "def myFunc(*anyname):\n",
        "    print(anyname)\n",
        "\n",
        "\n",
        "myFunc(\"Sachin\",\"Sep22\")\n",
        "myFunc(\"Sachin\",\"Sep22\",\"Adv Module\")"
      ],
      "metadata": {
        "colab": {
          "base_uri": "https://localhost:8080/"
        },
        "id": "FiuczTDA8CmL",
        "outputId": "68b0bb7f-bb13-4734-82ae-3d7482fcd621"
      },
      "execution_count": 51,
      "outputs": [
        {
          "output_type": "stream",
          "name": "stdout",
          "text": [
            "('Sachin', 'Sep22')\n",
            "('Sachin', 'Sep22', 'Adv Module')\n"
          ]
        }
      ]
    },
    {
      "cell_type": "markdown",
      "source": [
        "Data Structures\n",
        "- List\n",
        "- tuples\n",
        "- Set\n",
        "- Dictionary\n"
      ],
      "metadata": {
        "id": "Sb9X5MSv9Bd8"
      }
    },
    {
      "cell_type": "code",
      "source": [
        "a= list()\n",
        "b = []"
      ],
      "metadata": {
        "id": "G54br3jH8pgs"
      },
      "execution_count": 52,
      "outputs": []
    },
    {
      "cell_type": "code",
      "source": [
        "a = [\"1\", 2, True,None]\n",
        "print(a)"
      ],
      "metadata": {
        "colab": {
          "base_uri": "https://localhost:8080/"
        },
        "id": "GF_dnYb39sIQ",
        "outputId": "3ce0f856-1272-49a6-a7d7-97b78187fa26"
      },
      "execution_count": 53,
      "outputs": [
        {
          "output_type": "stream",
          "name": "stdout",
          "text": [
            "['1', 2, True, None]\n"
          ]
        }
      ]
    },
    {
      "cell_type": "code",
      "source": [
        "a[0]"
      ],
      "metadata": {
        "colab": {
          "base_uri": "https://localhost:8080/",
          "height": 36
        },
        "id": "HdGe8NrG93HE",
        "outputId": "6e88a757-144d-4d27-89c0-b784c2ce809b"
      },
      "execution_count": 54,
      "outputs": [
        {
          "output_type": "execute_result",
          "data": {
            "text/plain": [
              "'1'"
            ],
            "application/vnd.google.colaboratory.intrinsic+json": {
              "type": "string"
            }
          },
          "metadata": {},
          "execution_count": 54
        }
      ]
    },
    {
      "cell_type": "code",
      "source": [
        "# mutable\n",
        "id(a)"
      ],
      "metadata": {
        "colab": {
          "base_uri": "https://localhost:8080/"
        },
        "id": "XseGp-tb9-lx",
        "outputId": "13ce777a-6f9f-4ddb-a847-c9dbbb66454a"
      },
      "execution_count": 55,
      "outputs": [
        {
          "output_type": "execute_result",
          "data": {
            "text/plain": [
              "132814859074560"
            ]
          },
          "metadata": {},
          "execution_count": 55
        }
      ]
    },
    {
      "cell_type": "code",
      "source": [
        "# 132814859074560\n",
        "a.append(1+2j)\n",
        "print(a)"
      ],
      "metadata": {
        "colab": {
          "base_uri": "https://localhost:8080/"
        },
        "id": "iBM2P46f-CbP",
        "outputId": "7d82f798-47d0-442b-92ff-4fffccfbd628"
      },
      "execution_count": 56,
      "outputs": [
        {
          "output_type": "stream",
          "name": "stdout",
          "text": [
            "['1', 2, True, None, (1+2j)]\n"
          ]
        }
      ]
    },
    {
      "cell_type": "code",
      "source": [
        "print(id(a)) #132814859074560"
      ],
      "metadata": {
        "colab": {
          "base_uri": "https://localhost:8080/"
        },
        "id": "2maBAilC-KW6",
        "outputId": "e7da7ad4-bc54-4c7b-a2bb-afe177a86bd1"
      },
      "execution_count": 57,
      "outputs": [
        {
          "output_type": "stream",
          "name": "stdout",
          "text": [
            "132814859074560\n"
          ]
        }
      ]
    },
    {
      "cell_type": "markdown",
      "source": [
        "- methods of list don't change the id of list"
      ],
      "metadata": {
        "id": "jBPnakpl-SLo"
      }
    },
    {
      "cell_type": "code",
      "source": [
        "b = [1,2,3]\n",
        "a.append(b)\n",
        "print(a)"
      ],
      "metadata": {
        "colab": {
          "base_uri": "https://localhost:8080/"
        },
        "id": "D9iI2ll8-PNp",
        "outputId": "f8f71656-4fc8-4197-e0cf-1839c3914c23"
      },
      "execution_count": 60,
      "outputs": [
        {
          "output_type": "stream",
          "name": "stdout",
          "text": [
            "['1', 2, True, None, (1+2j), [1, 2, 3]]\n"
          ]
        }
      ]
    },
    {
      "cell_type": "code",
      "source": [
        "a.pop() # can pass an index which needs to be removed: default is len(list)-1\n",
        "print(a)"
      ],
      "metadata": {
        "colab": {
          "base_uri": "https://localhost:8080/"
        },
        "id": "w-eubgMG-juX",
        "outputId": "9888d75e-9686-473c-d0cf-9cf4c32d2517"
      },
      "execution_count": 61,
      "outputs": [
        {
          "output_type": "stream",
          "name": "stdout",
          "text": [
            "['1', 2, True, None, (1+2j)]\n"
          ]
        }
      ]
    },
    {
      "cell_type": "code",
      "source": [
        "b = [1,2,3]\n",
        "a.extend(b)\n",
        "print(a)"
      ],
      "metadata": {
        "colab": {
          "base_uri": "https://localhost:8080/"
        },
        "id": "0TcldSA5-flv",
        "outputId": "ec0a6ac4-41fa-46b0-be5f-cc906869e098"
      },
      "execution_count": 62,
      "outputs": [
        {
          "output_type": "stream",
          "name": "stdout",
          "text": [
            "['1', 2, True, None, (1+2j), 1, 2, 3]\n"
          ]
        }
      ]
    },
    {
      "cell_type": "code",
      "source": [
        "print(id(a))"
      ],
      "metadata": {
        "colab": {
          "base_uri": "https://localhost:8080/"
        },
        "id": "njQa-1Ax-3YC",
        "outputId": "49c24a76-09fe-42f6-c757-cb2e1c2b42db"
      },
      "execution_count": 63,
      "outputs": [
        {
          "output_type": "stream",
          "name": "stdout",
          "text": [
            "132814859074560\n"
          ]
        }
      ]
    },
    {
      "cell_type": "markdown",
      "source": [
        "Slicing: Selecting a subset of list"
      ],
      "metadata": {
        "id": "BluEq1og-_kU"
      }
    },
    {
      "cell_type": "code",
      "source": [
        "#\n",
        "a[1:4]"
      ],
      "metadata": {
        "colab": {
          "base_uri": "https://localhost:8080/"
        },
        "id": "jXbYFCvB-68T",
        "outputId": "49246436-a1b5-4217-9b78-57b6bf26146d"
      },
      "execution_count": 64,
      "outputs": [
        {
          "output_type": "execute_result",
          "data": {
            "text/plain": [
              "[2, True, None]"
            ]
          },
          "metadata": {},
          "execution_count": 64
        }
      ]
    },
    {
      "cell_type": "code",
      "source": [
        "a[1:100]"
      ],
      "metadata": {
        "colab": {
          "base_uri": "https://localhost:8080/"
        },
        "id": "cFhhb5mT_UR3",
        "outputId": "482ce9cc-62ef-4424-de91-b15d6df7d875"
      },
      "execution_count": 65,
      "outputs": [
        {
          "output_type": "execute_result",
          "data": {
            "text/plain": [
              "[2, True, None, (1+2j), 1, 2, 3]"
            ]
          },
          "metadata": {},
          "execution_count": 65
        }
      ]
    },
    {
      "cell_type": "code",
      "source": [
        "a[1:100:2]"
      ],
      "metadata": {
        "colab": {
          "base_uri": "https://localhost:8080/"
        },
        "id": "acqCdgSE_Z1T",
        "outputId": "de55ebd9-f9f3-409e-812b-e1da5002234e"
      },
      "execution_count": 66,
      "outputs": [
        {
          "output_type": "execute_result",
          "data": {
            "text/plain": [
              "[2, None, 1, 3]"
            ]
          },
          "metadata": {},
          "execution_count": 66
        }
      ]
    },
    {
      "cell_type": "code",
      "source": [
        "a[4:1]"
      ],
      "metadata": {
        "colab": {
          "base_uri": "https://localhost:8080/"
        },
        "id": "Ca-eFC42_fiC",
        "outputId": "2dbac6cd-9b3b-474d-915b-7129f2488f60"
      },
      "execution_count": 69,
      "outputs": [
        {
          "output_type": "execute_result",
          "data": {
            "text/plain": [
              "[]"
            ]
          },
          "metadata": {},
          "execution_count": 69
        }
      ]
    },
    {
      "cell_type": "code",
      "source": [
        "def func():\n",
        "    return 10\n",
        "    return 20\n",
        "\n",
        "func()"
      ],
      "metadata": {
        "colab": {
          "base_uri": "https://localhost:8080/"
        },
        "id": "41BeM9e7_mqx",
        "outputId": "903b0df2-d56e-496f-e69d-65d8380939a8"
      },
      "execution_count": 70,
      "outputs": [
        {
          "output_type": "execute_result",
          "data": {
            "text/plain": [
              "10"
            ]
          },
          "metadata": {},
          "execution_count": 70
        }
      ]
    },
    {
      "cell_type": "code",
      "source": [
        "def func():\n",
        "    return 10,20\n",
        "\n",
        "a,b = func()\n",
        "print(a)"
      ],
      "metadata": {
        "colab": {
          "base_uri": "https://localhost:8080/"
        },
        "id": "ldAI8h_LBsA5",
        "outputId": "f59be235-81f7-4ccc-b241-885b84309575"
      },
      "execution_count": 72,
      "outputs": [
        {
          "output_type": "stream",
          "name": "stdout",
          "text": [
            "10\n"
          ]
        }
      ]
    },
    {
      "cell_type": "code",
      "source": [
        "print(b)"
      ],
      "metadata": {
        "colab": {
          "base_uri": "https://localhost:8080/"
        },
        "id": "_0O8IBO4Bx8E",
        "outputId": "8f02dfa8-4bf8-4d84-fbfd-2b7168c8cf97"
      },
      "execution_count": 73,
      "outputs": [
        {
          "output_type": "stream",
          "name": "stdout",
          "text": [
            "20\n"
          ]
        }
      ]
    },
    {
      "cell_type": "code",
      "source": [],
      "metadata": {
        "id": "jBbfKPamB1ym"
      },
      "execution_count": null,
      "outputs": []
    }
  ]
}