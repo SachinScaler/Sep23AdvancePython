{
  "nbformat": 4,
  "nbformat_minor": 0,
  "metadata": {
    "colab": {
      "provenance": [],
      "authorship_tag": "ABX9TyMtzcug9WsqUHuIV8uiB8Cd",
      "include_colab_link": true
    },
    "kernelspec": {
      "name": "python3",
      "display_name": "Python 3"
    },
    "language_info": {
      "name": "python"
    }
  },
  "cells": [
    {
      "cell_type": "markdown",
      "metadata": {
        "id": "view-in-github",
        "colab_type": "text"
      },
      "source": [
        "<a href=\"https://colab.research.google.com/github/SachinScaler/Sep23AdvancePython/blob/main/OOP_Part_1.ipynb\" target=\"_parent\"><img src=\"https://colab.research.google.com/assets/colab-badge.svg\" alt=\"Open In Colab\"/></a>"
      ]
    },
    {
      "cell_type": "code",
      "execution_count": 2,
      "metadata": {
        "id": "PP2xbekpCjlx"
      },
      "outputs": [],
      "source": [
        "# banking data\n",
        "bankName=\"SBI\"\n",
        "ifsc=\"101BLR\"\n",
        "name=\"A\"\n",
        "accID = 101\n",
        "acc_type=\"Saving\"\n",
        "mobileNo=8586836627\n",
        "balance=1000\n",
        "# create class BankAccount with Initializer and test it to create instances\n",
        "\n",
        "# banking data\n",
        "dict1 = {101:{\n",
        "            \"bankName\":\"SBI\",\n",
        "            \"ifsc\":\"101BLR\",\n",
        "            \"name\":\"A\",\n",
        "            \"acc_type\":\"Saving\",\n",
        "            \"mobileNo\":8586836627,\n",
        "            \"balance\":1000\n",
        "            },\n",
        "\n",
        "          102:{\n",
        "            \"bankName\":\"SBI\",\n",
        "            \"ifsc\":\"101BLR\",\n",
        "            \"name\":\"B\",\n",
        "            \"acc_type\":\"Saving\",\n",
        "            \"mobileNo\":98237421,\n",
        "            \"balance\":10000\n",
        "            },\n",
        "         103:{\"Ba\"}}\n",
        "\n",
        "def withdraw(balance, amount):\n",
        "    pass # withdraw/debit from balance\n",
        "\n",
        "\n",
        "def deposit(balance, amount):\n",
        "    pass # creadit/add to balance\n",
        "\n",
        "def checkBal(accID):\n",
        "    pass # extract and return balance for the given accID"
      ]
    },
    {
      "cell_type": "code",
      "source": [
        "###\n",
        "a= []\n",
        "a= list()\n"
      ],
      "metadata": {
        "id": "CxiY05TuGB7K"
      },
      "execution_count": null,
      "outputs": []
    },
    {
      "cell_type": "code",
      "source": [
        "class Student:\n",
        "    # method\n",
        "    # properties\n",
        "    pass\n",
        "\n",
        "s1 = Student() # s1 is instance of Student class?"
      ],
      "metadata": {
        "id": "vmP0IRmdJh_W"
      },
      "execution_count": 4,
      "outputs": []
    },
    {
      "cell_type": "code",
      "source": [
        "isinstance(s1, Student)"
      ],
      "metadata": {
        "colab": {
          "base_uri": "https://localhost:8080/"
        },
        "id": "5RgJHbuhJx8m",
        "outputId": "eebab8e2-f92e-4046-960a-73f44f7c7a11"
      },
      "execution_count": 5,
      "outputs": [
        {
          "output_type": "execute_result",
          "data": {
            "text/plain": [
              "True"
            ]
          },
          "metadata": {},
          "execution_count": 5
        }
      ]
    },
    {
      "cell_type": "code",
      "source": [
        "type(s1)"
      ],
      "metadata": {
        "colab": {
          "base_uri": "https://localhost:8080/"
        },
        "id": "5CJ8uu-rJ_p5",
        "outputId": "8e9aacc0-6d2c-42d9-b969-6530f0cdd555"
      },
      "execution_count": 6,
      "outputs": [
        {
          "output_type": "execute_result",
          "data": {
            "text/plain": [
              "__main__.Student"
            ]
          },
          "metadata": {},
          "execution_count": 6
        }
      ]
    },
    {
      "cell_type": "code",
      "source": [
        "# naive method of creating instance variables\n",
        "s1.id = 1"
      ],
      "metadata": {
        "id": "pV65_Wr-KBN4"
      },
      "execution_count": 10,
      "outputs": []
    },
    {
      "cell_type": "code",
      "source": [
        "s1.name=\"Sachin\""
      ],
      "metadata": {
        "id": "j5MvU7eCKTdY"
      },
      "execution_count": 11,
      "outputs": []
    },
    {
      "cell_type": "code",
      "source": [
        "s2 = Student()\n",
        "s2.id = 2\n",
        "s2.name=\"Naveen\""
      ],
      "metadata": {
        "id": "GtOMd060KW5l"
      },
      "execution_count": 12,
      "outputs": []
    },
    {
      "cell_type": "code",
      "source": [
        "print(s1.name, s1.id)"
      ],
      "metadata": {
        "colab": {
          "base_uri": "https://localhost:8080/"
        },
        "id": "qa1e6Y6DKiXz",
        "outputId": "cce808f6-00a2-4dc7-9467-7d0987c1c559"
      },
      "execution_count": 13,
      "outputs": [
        {
          "output_type": "stream",
          "name": "stdout",
          "text": [
            "Sachin 1\n"
          ]
        }
      ]
    },
    {
      "cell_type": "code",
      "source": [
        "print(s2.name, s2.id)"
      ],
      "metadata": {
        "colab": {
          "base_uri": "https://localhost:8080/"
        },
        "id": "Q2NCfXemLI7G",
        "outputId": "169f4c6d-93f1-43e0-8ee2-50137ad49478"
      },
      "execution_count": 14,
      "outputs": [
        {
          "output_type": "stream",
          "name": "stdout",
          "text": [
            "Naveen 2\n"
          ]
        }
      ]
    },
    {
      "cell_type": "code",
      "source": [
        "s1.name=\"Sachin Kaushik\""
      ],
      "metadata": {
        "id": "y7GPdAq6LLEp"
      },
      "execution_count": 15,
      "outputs": []
    },
    {
      "cell_type": "code",
      "source": [
        "print(s2.name, s2.id)"
      ],
      "metadata": {
        "colab": {
          "base_uri": "https://localhost:8080/"
        },
        "id": "AUqOGhvTLd0Q",
        "outputId": "9438e611-a195-4627-8c85-a739d70419f5"
      },
      "execution_count": 16,
      "outputs": [
        {
          "output_type": "stream",
          "name": "stdout",
          "text": [
            "Naveen 2\n"
          ]
        }
      ]
    },
    {
      "cell_type": "code",
      "source": [
        "print(s1.name, s1.id)"
      ],
      "metadata": {
        "colab": {
          "base_uri": "https://localhost:8080/"
        },
        "id": "pJbxbE05Lgv0",
        "outputId": "d67504b5-264f-410d-f213-073fdc1d36ec"
      },
      "execution_count": 17,
      "outputs": [
        {
          "output_type": "stream",
          "name": "stdout",
          "text": [
            "Sachin Kaushik 1\n"
          ]
        }
      ]
    },
    {
      "cell_type": "code",
      "source": [
        "print(s1.__dict__)"
      ],
      "metadata": {
        "colab": {
          "base_uri": "https://localhost:8080/"
        },
        "id": "jEBgIFJ5Lk3Q",
        "outputId": "0d125e26-075c-4335-8dad-7d875e654b36"
      },
      "execution_count": 18,
      "outputs": [
        {
          "output_type": "stream",
          "name": "stdout",
          "text": [
            "{'id': 1, 'name': 'Sachin Kaushik'}\n"
          ]
        }
      ]
    },
    {
      "cell_type": "code",
      "source": [
        "print(s2.__dict__) # method to check all instance variable(Properties of instance)"
      ],
      "metadata": {
        "colab": {
          "base_uri": "https://localhost:8080/"
        },
        "id": "jAtXOudIMA5M",
        "outputId": "b5d0d842-0dc4-40cc-84c0-5a07ee33bbe4"
      },
      "execution_count": 20,
      "outputs": [
        {
          "output_type": "stream",
          "name": "stdout",
          "text": [
            "{'id': 2, 'name': 'Naveen'}\n"
          ]
        }
      ]
    },
    {
      "cell_type": "code",
      "source": [
        "class Student:\n",
        "\n",
        "    # properties\n",
        "\n",
        "    # method to print roll no and name of student\n",
        "    def getInfo():\n",
        "        print(\"ID\", id, \"Name\",name)\n",
        "\n",
        "s1 = Student()\n",
        "s1.id = 1\n",
        "s1.name=\"Sachin\""
      ],
      "metadata": {
        "id": "3oO2ExQoMDj-"
      },
      "execution_count": 25,
      "outputs": []
    },
    {
      "cell_type": "code",
      "source": [
        "s1.getInfo() # the instance itself is passed automatically to getinfo"
      ],
      "metadata": {
        "colab": {
          "base_uri": "https://localhost:8080/",
          "height": 177
        },
        "id": "0VUKbU50Mllz",
        "outputId": "d49d6e8f-e235-4408-9f60-fb4f76f3a079"
      },
      "execution_count": 23,
      "outputs": [
        {
          "output_type": "error",
          "ename": "TypeError",
          "evalue": "ignored",
          "traceback": [
            "\u001b[0;31m---------------------------------------------------------------------------\u001b[0m",
            "\u001b[0;31mTypeError\u001b[0m                                 Traceback (most recent call last)",
            "\u001b[0;32m<ipython-input-23-ad955e7d40cc>\u001b[0m in \u001b[0;36m<cell line: 1>\u001b[0;34m()\u001b[0m\n\u001b[0;32m----> 1\u001b[0;31m \u001b[0ms1\u001b[0m\u001b[0;34m.\u001b[0m\u001b[0mgetInfo\u001b[0m\u001b[0;34m(\u001b[0m\u001b[0;34m)\u001b[0m\u001b[0;34m\u001b[0m\u001b[0;34m\u001b[0m\u001b[0m\n\u001b[0m",
            "\u001b[0;31mTypeError\u001b[0m: Student.getInfo() takes 0 positional arguments but 1 was given"
          ]
        }
      ]
    },
    {
      "cell_type": "code",
      "source": [
        "s2 = Student()\n",
        "s2.id = 2\n",
        "s2.name=\"ABCD\"\n",
        "s2.getInfo() # Student.getInfo(s2)"
      ],
      "metadata": {
        "colab": {
          "base_uri": "https://localhost:8080/",
          "height": 212
        },
        "id": "4QzvQyeJM3s_",
        "outputId": "2688e693-c32e-4810-ccd6-bdf320ed1ce4"
      },
      "execution_count": 24,
      "outputs": [
        {
          "output_type": "error",
          "ename": "TypeError",
          "evalue": "ignored",
          "traceback": [
            "\u001b[0;31m---------------------------------------------------------------------------\u001b[0m",
            "\u001b[0;31mTypeError\u001b[0m                                 Traceback (most recent call last)",
            "\u001b[0;32m<ipython-input-24-fa12cd6df378>\u001b[0m in \u001b[0;36m<cell line: 4>\u001b[0;34m()\u001b[0m\n\u001b[1;32m      2\u001b[0m \u001b[0ms2\u001b[0m\u001b[0;34m.\u001b[0m\u001b[0mid\u001b[0m \u001b[0;34m=\u001b[0m \u001b[0;36m2\u001b[0m\u001b[0;34m\u001b[0m\u001b[0;34m\u001b[0m\u001b[0m\n\u001b[1;32m      3\u001b[0m \u001b[0ms2\u001b[0m\u001b[0;34m.\u001b[0m\u001b[0mname\u001b[0m\u001b[0;34m=\u001b[0m\u001b[0;34m\"ABCD\"\u001b[0m\u001b[0;34m\u001b[0m\u001b[0;34m\u001b[0m\u001b[0m\n\u001b[0;32m----> 4\u001b[0;31m \u001b[0ms2\u001b[0m\u001b[0;34m.\u001b[0m\u001b[0mgetInfo\u001b[0m\u001b[0;34m(\u001b[0m\u001b[0;34m)\u001b[0m\u001b[0;34m\u001b[0m\u001b[0;34m\u001b[0m\u001b[0m\n\u001b[0m",
            "\u001b[0;31mTypeError\u001b[0m: Student.getInfo() takes 0 positional arguments but 1 was given"
          ]
        }
      ]
    },
    {
      "cell_type": "code",
      "source": [
        "class Student:\n",
        "\n",
        "    # properties\n",
        "\n",
        "    # method to print roll no and name of student\n",
        "    def getInfo(self): # self\n",
        "        print(\"ID\", self.id, \"Name\",self.name)\n",
        "\n",
        "    def getID(self):\n",
        "        print(id(self)) # memory loc\n",
        "\n",
        "s1 = Student()\n",
        "s1.id = 1\n",
        "s1.name=\"Sachin\""
      ],
      "metadata": {
        "id": "BwQ1_xFkNR-y"
      },
      "execution_count": 38,
      "outputs": []
    },
    {
      "cell_type": "code",
      "source": [
        "s1.getInfo()"
      ],
      "metadata": {
        "colab": {
          "base_uri": "https://localhost:8080/"
        },
        "id": "UGC_-zZTNxoB",
        "outputId": "cb0e5ca8-aecd-4973-e79c-d8300d6d1039"
      },
      "execution_count": 33,
      "outputs": [
        {
          "output_type": "stream",
          "name": "stdout",
          "text": [
            "ID 1 Name Sachin\n"
          ]
        }
      ]
    },
    {
      "cell_type": "code",
      "source": [
        "s2 = Student()\n",
        "s2.id = 2\n",
        "s2.name=\"ABCD\"\n",
        "s2.getInfo()"
      ],
      "metadata": {
        "colab": {
          "base_uri": "https://localhost:8080/"
        },
        "id": "-8ulYAt3N23k",
        "outputId": "f6c5b09e-0184-44ce-9114-b3aed8abdfa3"
      },
      "execution_count": 34,
      "outputs": [
        {
          "output_type": "stream",
          "name": "stdout",
          "text": [
            "ID 2 Name ABCD\n"
          ]
        }
      ]
    },
    {
      "cell_type": "code",
      "source": [
        "s3 = Student()\n",
        "s3.id = 3\n",
        "s3.name=\"D\"\n",
        "s3.getInfo()"
      ],
      "metadata": {
        "colab": {
          "base_uri": "https://localhost:8080/"
        },
        "id": "XjdJsfCZOCbS",
        "outputId": "318b753f-acf9-4a95-b9d5-2c248cd22c2a"
      },
      "execution_count": 36,
      "outputs": [
        {
          "output_type": "stream",
          "name": "stdout",
          "text": [
            "ID 3 Name D\n"
          ]
        }
      ]
    },
    {
      "cell_type": "code",
      "source": [
        "id(s1)"
      ],
      "metadata": {
        "colab": {
          "base_uri": "https://localhost:8080/"
        },
        "id": "4pvTP88nOqB1",
        "outputId": "8108bdcd-5379-47a6-ecf9-a0d971a79225"
      },
      "execution_count": 39,
      "outputs": [
        {
          "output_type": "execute_result",
          "data": {
            "text/plain": [
              "135596130792448"
            ]
          },
          "metadata": {},
          "execution_count": 39
        }
      ]
    },
    {
      "cell_type": "markdown",
      "source": [
        "```\n",
        "    def getID(self):\n",
        "        print(id(self)) # memory loc\n",
        "```"
      ],
      "metadata": {
        "id": "yFp3wO58P7X4"
      }
    },
    {
      "cell_type": "code",
      "source": [
        "s1.getID()"
      ],
      "metadata": {
        "colab": {
          "base_uri": "https://localhost:8080/"
        },
        "id": "NmtQwcwoP1ys",
        "outputId": "b09423ca-2271-4023-9259-5433ec85e7ec"
      },
      "execution_count": 40,
      "outputs": [
        {
          "output_type": "stream",
          "name": "stdout",
          "text": [
            "135596130792448\n"
          ]
        }
      ]
    },
    {
      "cell_type": "code",
      "source": [
        "Student.getID(s1) #same as s1.getID()"
      ],
      "metadata": {
        "colab": {
          "base_uri": "https://localhost:8080/"
        },
        "id": "HwanaJayQDUX",
        "outputId": "8d181c56-fff2-4f49-db2b-0c933e846665"
      },
      "execution_count": 41,
      "outputs": [
        {
          "output_type": "stream",
          "name": "stdout",
          "text": [
            "135596130792448\n"
          ]
        }
      ]
    },
    {
      "cell_type": "code",
      "source": [
        "s1.getID(s1)"
      ],
      "metadata": {
        "colab": {
          "base_uri": "https://localhost:8080/",
          "height": 177
        },
        "id": "yTnk0ucpQNpR",
        "outputId": "803e06c5-a42d-4846-8644-d5427a3ac996"
      },
      "execution_count": 42,
      "outputs": [
        {
          "output_type": "error",
          "ename": "TypeError",
          "evalue": "ignored",
          "traceback": [
            "\u001b[0;31m---------------------------------------------------------------------------\u001b[0m",
            "\u001b[0;31mTypeError\u001b[0m                                 Traceback (most recent call last)",
            "\u001b[0;32m<ipython-input-42-83d903e14010>\u001b[0m in \u001b[0;36m<cell line: 1>\u001b[0;34m()\u001b[0m\n\u001b[0;32m----> 1\u001b[0;31m \u001b[0ms1\u001b[0m\u001b[0;34m.\u001b[0m\u001b[0mgetID\u001b[0m\u001b[0;34m(\u001b[0m\u001b[0ms1\u001b[0m\u001b[0;34m)\u001b[0m\u001b[0;34m\u001b[0m\u001b[0;34m\u001b[0m\u001b[0m\n\u001b[0m",
            "\u001b[0;31mTypeError\u001b[0m: Student.getID() takes 1 positional argument but 2 were given"
          ]
        }
      ]
    },
    {
      "cell_type": "code",
      "source": [
        "### dunder method named __init__\n",
        "class Student:\n",
        "\n",
        "    # Intializer: automatically intializse properties when creating instance\n",
        "    def __init__(self,name,id):\n",
        "        self.name=name # self.property = value_of_property\n",
        "        self.id=id\n",
        "\n",
        "    # method to print roll no and name of student\n",
        "    def getInfo(self): # self\n",
        "        print(\"ID: \", self.id, \"Name: \",self.name)\n",
        "\n",
        "\n",
        "s1 = Student(\"Sachin\",1)\n",
        "s1.getInfo()\n"
      ],
      "metadata": {
        "colab": {
          "base_uri": "https://localhost:8080/"
        },
        "id": "9XTMSoWpQZRf",
        "outputId": "2a76bae6-2a51-458c-c596-c7add6facbd6"
      },
      "execution_count": 48,
      "outputs": [
        {
          "output_type": "stream",
          "name": "stdout",
          "text": [
            "ID:  [1, 2] Name:  ['Sachin', 'Naveen']\n"
          ]
        }
      ]
    },
    {
      "cell_type": "code",
      "source": [
        "s2 = Student(\"Naveen\",2) #s2 = Student() # s2.__init__(\"Naveen\",2)\n",
        "s2.getInfo()"
      ],
      "metadata": {
        "colab": {
          "base_uri": "https://localhost:8080/"
        },
        "id": "Y8CLLx3gRrRt",
        "outputId": "8c09ee13-0f6f-4f3f-e767-0f51b7867040"
      },
      "execution_count": 45,
      "outputs": [
        {
          "output_type": "stream",
          "name": "stdout",
          "text": [
            "ID:  2 Name:  Naveen\n"
          ]
        }
      ]
    },
    {
      "cell_type": "code",
      "source": [
        "s1.__dict__"
      ],
      "metadata": {
        "colab": {
          "base_uri": "https://localhost:8080/"
        },
        "id": "06pr87l5RyXG",
        "outputId": "54f4e2e5-14db-4f67-f35e-549f963fc1ba"
      },
      "execution_count": 46,
      "outputs": [
        {
          "output_type": "execute_result",
          "data": {
            "text/plain": [
              "{'name': 'Sachin', 'id': 1}"
            ]
          },
          "metadata": {},
          "execution_count": 46
        }
      ]
    },
    {
      "cell_type": "code",
      "source": [
        "class Bank:\n",
        "    def __init__(self, bankName, ifsc,name,accID,acc_type,mobileNo,balance):\n",
        "        self.bankName = bankName\n",
        "        self.ifsc = ifsc\n",
        "        self.name = name\n",
        "        self.accID = accID\n",
        "        self.acc_type = acc_type\n",
        "        self.mobileNo = mobileNo\n",
        "        self.balance=balance\n",
        "\n",
        "ac1 = Bank(\"SBI\",\"101BLR\",\"A\", 101,\"Saving\",8586836627,1000)\n",
        "print(ac1.__dict__)"
      ],
      "metadata": {
        "colab": {
          "base_uri": "https://localhost:8080/"
        },
        "id": "i4RBC7tOSGDc",
        "outputId": "0a36d46f-8d2d-497f-e73a-9fabc7ae1f97"
      },
      "execution_count": 53,
      "outputs": [
        {
          "output_type": "stream",
          "name": "stdout",
          "text": [
            "{'bankName': 'SBI', 'ifsc': '101BLR', 'name': 'A', 'accID': 101, 'acc_type': 'Saving', 'mobileNo': 8586836627, 'balance': 1000}\n"
          ]
        }
      ]
    },
    {
      "cell_type": "code",
      "source": [
        "print(ac1)"
      ],
      "metadata": {
        "colab": {
          "base_uri": "https://localhost:8080/"
        },
        "id": "L0ymOxsGVL2e",
        "outputId": "0389021e-5e30-460a-876a-c5219843524e"
      },
      "execution_count": 54,
      "outputs": [
        {
          "output_type": "stream",
          "name": "stdout",
          "text": [
            "<__main__.Bank object at 0x7b52ef250bb0>\n"
          ]
        }
      ]
    },
    {
      "cell_type": "code",
      "source": [
        "class Bank:\n",
        "    def __init__(self, bankName, ifsc,name,accID,acc_type,mobileNo,balance):\n",
        "        self.bankName = bankName # ac1.bankName=100\n",
        "        self.ifsc = ifsc         # ac1.ifsc\n",
        "        self.name = name\n",
        "        self.accID = accID\n",
        "        self.acc_type = acc_type\n",
        "        self.mobileNo = mobileNo\n",
        "        self.balance=balance\n",
        "\n",
        "    def __str__(self): # __repr__ does same thing\n",
        "        return f\"accID: {self.accID}\"\n",
        "\n",
        "ac1 = Bank(\"SBI\",\"101BLR\",\"A\", 101,\"Saving\",8586836627,1000)\n",
        "print(ac1.__dict__)"
      ],
      "metadata": {
        "colab": {
          "base_uri": "https://localhost:8080/"
        },
        "id": "m6UYnarOVh1w",
        "outputId": "d7f1996d-97fd-403c-9335-99844ff0a767"
      },
      "execution_count": 67,
      "outputs": [
        {
          "output_type": "stream",
          "name": "stdout",
          "text": [
            "{'bankName': 'SBI', 'ifsc': '101BLR', 'name': 'A', 'accID': 101, 'acc_type': 'Saving', 'mobileNo': 8586836627, 'balance': 1000}\n"
          ]
        }
      ]
    },
    {
      "cell_type": "code",
      "source": [
        "print(ac1)"
      ],
      "metadata": {
        "colab": {
          "base_uri": "https://localhost:8080/"
        },
        "id": "QO0kXtltVylu",
        "outputId": "9dd64b98-7cf6-471f-a74f-3f436db66350"
      },
      "execution_count": 68,
      "outputs": [
        {
          "output_type": "stream",
          "name": "stdout",
          "text": [
            "accID: 101\n"
          ]
        }
      ]
    },
    {
      "cell_type": "markdown",
      "source": [
        "HW: Explore following dunders\n",
        "```\n",
        "__eq__\n",
        "__add__\n",
        "__lt__\n",
        "__gt__\n",
        "__new__\n",
        "```"
      ],
      "metadata": {
        "id": "ipv6ZpEdWO6r"
      }
    },
    {
      "cell_type": "code",
      "source": [
        "dir(ac1)"
      ],
      "metadata": {
        "colab": {
          "base_uri": "https://localhost:8080/"
        },
        "id": "1Kgm1HmXV1f6",
        "outputId": "e082cf6f-7e6e-40ad-e106-92179e5af6c6"
      },
      "execution_count": 63,
      "outputs": [
        {
          "output_type": "execute_result",
          "data": {
            "text/plain": [
              "['__class__',\n",
              " '__delattr__',\n",
              " '__dict__',\n",
              " '__dir__',\n",
              " '__doc__',\n",
              " '__eq__',\n",
              " '__format__',\n",
              " '__ge__',\n",
              " '__getattribute__',\n",
              " '__gt__',\n",
              " '__hash__',\n",
              " '__init__',\n",
              " '__init_subclass__',\n",
              " '__le__',\n",
              " '__lt__',\n",
              " '__module__',\n",
              " '__ne__',\n",
              " '__new__',\n",
              " '__reduce__',\n",
              " '__reduce_ex__',\n",
              " '__repr__',\n",
              " '__setattr__',\n",
              " '__sizeof__',\n",
              " '__str__',\n",
              " '__subclasshook__',\n",
              " '__weakref__',\n",
              " 'accID',\n",
              " 'acc_type',\n",
              " 'balance',\n",
              " 'bankName',\n",
              " 'ifsc',\n",
              " 'mobileNo',\n",
              " 'name']"
            ]
          },
          "metadata": {},
          "execution_count": 63
        }
      ]
    },
    {
      "cell_type": "markdown",
      "source": [
        "#### StaticVariable"
      ],
      "metadata": {
        "id": "uN7W03YzZ0AD"
      }
    },
    {
      "cell_type": "code",
      "source": [
        "class Bank:\n",
        "    #static Variable: Shared Variable for All Instances Also Known as ClassVar\n",
        "    bankName=\"SBI\"\n",
        "\n",
        "    def __init__(self, ifsc,name,accID,acc_type,mobileNo,balance):\n",
        "        self.ifsc = ifsc\n",
        "        self.name = name\n",
        "        self.accID = accID\n",
        "        self.acc_type = acc_type\n",
        "        self.mobileNo = mobileNo\n",
        "        self.balance=balance\n",
        "\n",
        "ac1 = Bank(\"101BLR\",\"A\", 101,\"Saving\",8586836627,1000)\n",
        "print(ac1.__dict__)"
      ],
      "metadata": {
        "colab": {
          "base_uri": "https://localhost:8080/"
        },
        "id": "iZBmnrakWiVq",
        "outputId": "f0d0afa1-a0de-4d05-f8dd-96178783d40a"
      },
      "execution_count": 83,
      "outputs": [
        {
          "output_type": "stream",
          "name": "stdout",
          "text": [
            "{'ifsc': '101BLR', 'name': 'A', 'accID': 101, 'acc_type': 'Saving', 'mobileNo': 8586836627, 'balance': 1000}\n"
          ]
        }
      ]
    },
    {
      "cell_type": "code",
      "source": [
        "ac2 = Bank(\"101BLR\",\"B\", 102,\"Saving\",109342141,1000)\n",
        "print(ac1.__dict__)"
      ],
      "metadata": {
        "colab": {
          "base_uri": "https://localhost:8080/"
        },
        "id": "VWQMxnFRaGIC",
        "outputId": "405c0be3-f97a-4b7a-80ec-f7eb6f50cd12"
      },
      "execution_count": 84,
      "outputs": [
        {
          "output_type": "stream",
          "name": "stdout",
          "text": [
            "{'ifsc': '101BLR', 'name': 'A', 'accID': 101, 'acc_type': 'Saving', 'mobileNo': 8586836627, 'balance': 1000}\n"
          ]
        }
      ]
    },
    {
      "cell_type": "code",
      "source": [
        "ac1.bankName"
      ],
      "metadata": {
        "colab": {
          "base_uri": "https://localhost:8080/",
          "height": 36
        },
        "id": "8I-0PS0Raw_g",
        "outputId": "46df82d8-ee53-4a2f-b2ce-c296c2fe6167"
      },
      "execution_count": 85,
      "outputs": [
        {
          "output_type": "execute_result",
          "data": {
            "text/plain": [
              "'SBI'"
            ],
            "application/vnd.google.colaboratory.intrinsic+json": {
              "type": "string"
            }
          },
          "metadata": {},
          "execution_count": 85
        }
      ]
    },
    {
      "cell_type": "code",
      "source": [
        "ac2.bankName"
      ],
      "metadata": {
        "colab": {
          "base_uri": "https://localhost:8080/",
          "height": 36
        },
        "id": "ZX_pMw52a0E7",
        "outputId": "618bd916-9444-4370-e0c7-8f59000c5714"
      },
      "execution_count": 86,
      "outputs": [
        {
          "output_type": "execute_result",
          "data": {
            "text/plain": [
              "'SBI'"
            ],
            "application/vnd.google.colaboratory.intrinsic+json": {
              "type": "string"
            }
          },
          "metadata": {},
          "execution_count": 86
        }
      ]
    },
    {
      "cell_type": "code",
      "source": [
        "Bank.name"
      ],
      "metadata": {
        "colab": {
          "base_uri": "https://localhost:8080/",
          "height": 177
        },
        "id": "OHVYcsXRaTXD",
        "outputId": "3db36337-9302-4001-aec9-3317c9a15740"
      },
      "execution_count": 87,
      "outputs": [
        {
          "output_type": "error",
          "ename": "AttributeError",
          "evalue": "ignored",
          "traceback": [
            "\u001b[0;31m---------------------------------------------------------------------------\u001b[0m",
            "\u001b[0;31mAttributeError\u001b[0m                            Traceback (most recent call last)",
            "\u001b[0;32m<ipython-input-87-731843d9545c>\u001b[0m in \u001b[0;36m<cell line: 1>\u001b[0;34m()\u001b[0m\n\u001b[0;32m----> 1\u001b[0;31m \u001b[0mBank\u001b[0m\u001b[0;34m.\u001b[0m\u001b[0mname\u001b[0m\u001b[0;34m\u001b[0m\u001b[0;34m\u001b[0m\u001b[0m\n\u001b[0m",
            "\u001b[0;31mAttributeError\u001b[0m: type object 'Bank' has no attribute 'name'"
          ]
        }
      ]
    },
    {
      "cell_type": "code",
      "source": [
        "Bank.bankName"
      ],
      "metadata": {
        "colab": {
          "base_uri": "https://localhost:8080/",
          "height": 36
        },
        "id": "Jp8JGobeaWGt",
        "outputId": "4f6052d4-e5f0-4223-cfda-155fac280385"
      },
      "execution_count": 88,
      "outputs": [
        {
          "output_type": "execute_result",
          "data": {
            "text/plain": [
              "'SBI'"
            ],
            "application/vnd.google.colaboratory.intrinsic+json": {
              "type": "string"
            }
          },
          "metadata": {},
          "execution_count": 88
        }
      ]
    },
    {
      "cell_type": "markdown",
      "source": [
        "We can access StaticVar with Objects as well as Class"
      ],
      "metadata": {
        "id": "P4pwu0--bW5B"
      }
    },
    {
      "cell_type": "markdown",
      "source": [
        "Quizzes:"
      ],
      "metadata": {
        "id": "hLK50L6PcEO9"
      }
    },
    {
      "cell_type": "code",
      "source": [
        "class Dog:\n",
        "\n",
        "    kind = \"canine\" # Class Var\n",
        "\n",
        "    def __init__(self, NAME):\n",
        "        self.name = NAME\n",
        "        # instance Var=localVar"
      ],
      "metadata": {
        "id": "uFb0vyTWbVkA"
      },
      "execution_count": null,
      "outputs": []
    },
    {
      "cell_type": "code",
      "source": [
        "class Car:\n",
        "    model = 'Hashback'\n",
        "    color = 'Red'\n",
        "    price = 1000000\n",
        "\n",
        "    def drive(self):\n",
        "        print(\"zoom zoom\")\n",
        "c1 = Car()\n",
        "c2 = Car()\n",
        "c2.fuel = 'Diesel'\n",
        "print(c1.fuel)"
      ],
      "metadata": {
        "colab": {
          "base_uri": "https://localhost:8080/",
          "height": 212
        },
        "id": "YizppVgPcAoG",
        "outputId": "f472ef83-d8c9-45d7-d9b4-02844ab52d48"
      },
      "execution_count": 89,
      "outputs": [
        {
          "output_type": "error",
          "ename": "AttributeError",
          "evalue": "ignored",
          "traceback": [
            "\u001b[0;31m---------------------------------------------------------------------------\u001b[0m",
            "\u001b[0;31mAttributeError\u001b[0m                            Traceback (most recent call last)",
            "\u001b[0;32m<ipython-input-89-0918ff646944>\u001b[0m in \u001b[0;36m<cell line: 11>\u001b[0;34m()\u001b[0m\n\u001b[1;32m      9\u001b[0m \u001b[0mc2\u001b[0m \u001b[0;34m=\u001b[0m \u001b[0mCar\u001b[0m\u001b[0;34m(\u001b[0m\u001b[0;34m)\u001b[0m\u001b[0;34m\u001b[0m\u001b[0;34m\u001b[0m\u001b[0m\n\u001b[1;32m     10\u001b[0m \u001b[0mc2\u001b[0m\u001b[0;34m.\u001b[0m\u001b[0mfuel\u001b[0m \u001b[0;34m=\u001b[0m \u001b[0;34m'Diesel'\u001b[0m\u001b[0;34m\u001b[0m\u001b[0;34m\u001b[0m\u001b[0m\n\u001b[0;32m---> 11\u001b[0;31m \u001b[0mprint\u001b[0m\u001b[0;34m(\u001b[0m\u001b[0mc1\u001b[0m\u001b[0;34m.\u001b[0m\u001b[0mfuel\u001b[0m\u001b[0;34m)\u001b[0m\u001b[0;34m\u001b[0m\u001b[0;34m\u001b[0m\u001b[0m\n\u001b[0m",
            "\u001b[0;31mAttributeError\u001b[0m: 'Car' object has no attribute 'fuel'"
          ]
        }
      ]
    },
    {
      "cell_type": "code",
      "source": [
        "print(c2.fuel)"
      ],
      "metadata": {
        "colab": {
          "base_uri": "https://localhost:8080/"
        },
        "id": "g9qi6IIecShS",
        "outputId": "1ed4529e-22a5-49b2-80d6-4fb155bb6367"
      },
      "execution_count": 90,
      "outputs": [
        {
          "output_type": "stream",
          "name": "stdout",
          "text": [
            "Diesel\n"
          ]
        }
      ]
    },
    {
      "cell_type": "code",
      "source": [
        "class Student:\n",
        "  def __init__(self, name):\n",
        "    self.name = name\n",
        "  def get_person_name(self):\n",
        "    return self.name\n",
        "p1=Student(\"Mohammad\")\n",
        "p1.name = 'Mohamed'\n",
        "\n",
        "print(p1.get_person_name(), p1.name)"
      ],
      "metadata": {
        "colab": {
          "base_uri": "https://localhost:8080/"
        },
        "id": "vuDq1taMcUvZ",
        "outputId": "0bae6f2b-977e-4c66-de10-29eacafdc71b"
      },
      "execution_count": 91,
      "outputs": [
        {
          "output_type": "stream",
          "name": "stdout",
          "text": [
            "Mohamed Mohamed\n"
          ]
        }
      ]
    },
    {
      "cell_type": "markdown",
      "source": [],
      "metadata": {
        "id": "Nd5Lw6l9dDsZ"
      }
    },
    {
      "cell_type": "code",
      "source": [
        "class Bank:\n",
        "    #static Variable: Shared Variable for All Instances Also Known as ClassVar\n",
        "    bankName=\"SBI\"\n",
        "\n",
        "    def __init__(self, ifsc,name,accID,acc_type,mobileNo,balance):\n",
        "        self.ifsc = ifsc\n",
        "        self.name = name\n",
        "        self.accID = accID\n",
        "        self.acc_type = acc_type\n",
        "        self.mobileNo = mobileNo\n",
        "        self.balance=balance\n",
        "\n",
        "ac1 = Bank(\"101BLR\",\"A\", 101,\"Saving\",8586836627,1000)\n",
        "print(ac1.bankName)"
      ],
      "metadata": {
        "colab": {
          "base_uri": "https://localhost:8080/"
        },
        "id": "7eJzqmKAczcg",
        "outputId": "458e3870-d817-4479-c268-0b2e266b4f9b"
      },
      "execution_count": 92,
      "outputs": [
        {
          "output_type": "stream",
          "name": "stdout",
          "text": [
            "SBI\n"
          ]
        }
      ]
    },
    {
      "cell_type": "code",
      "source": [
        "ac2 = Bank(\"101BLR\",\"B\", 102,\"Saving\",12344,9999)\n",
        "print(ac2.bankName)"
      ],
      "metadata": {
        "colab": {
          "base_uri": "https://localhost:8080/"
        },
        "id": "Y-ZMI2gVdRNS",
        "outputId": "dd1add95-e0e7-4b13-9d6b-f421bfa6f0f2"
      },
      "execution_count": 95,
      "outputs": [
        {
          "output_type": "stream",
          "name": "stdout",
          "text": [
            "SBI\n"
          ]
        }
      ]
    },
    {
      "cell_type": "code",
      "source": [
        "print(Bank.bankName)"
      ],
      "metadata": {
        "colab": {
          "base_uri": "https://localhost:8080/"
        },
        "id": "SFaKRptkdJ6y",
        "outputId": "fff1cc85-b2a8-4b18-9efb-37024d5764ff"
      },
      "execution_count": 96,
      "outputs": [
        {
          "output_type": "stream",
          "name": "stdout",
          "text": [
            "SBI\n"
          ]
        }
      ]
    },
    {
      "cell_type": "code",
      "source": [
        "# Scenario1:\n",
        "# change static Var with ClassName\n",
        "# Modfication will reflect across All instances of Class\n",
        "Bank.bankName=\"SBI No Lunch\""
      ],
      "metadata": {
        "id": "quxsAf5YdMXi"
      },
      "execution_count": 99,
      "outputs": []
    },
    {
      "cell_type": "code",
      "source": [
        "print(ac1.bankName)\n",
        "print(ac2.bankName)"
      ],
      "metadata": {
        "colab": {
          "base_uri": "https://localhost:8080/"
        },
        "id": "Om8n2ysadwil",
        "outputId": "09d17571-377c-4302-9a25-3263eed70157"
      },
      "execution_count": 101,
      "outputs": [
        {
          "output_type": "stream",
          "name": "stdout",
          "text": [
            "SBI No Lunch\n",
            "SBI No Lunch\n"
          ]
        }
      ]
    },
    {
      "cell_type": "code",
      "source": [
        "# Scenario2:\n",
        "# change static Var with instance\n",
        "# The instance used will have a new instance Variable overwriting staticvar\n",
        "ac1.bankName=\"SBI with Lot of Lunch\""
      ],
      "metadata": {
        "id": "x0n9H-17d2iU"
      },
      "execution_count": 104,
      "outputs": []
    },
    {
      "cell_type": "code",
      "source": [
        "print(ac2.bankName)"
      ],
      "metadata": {
        "colab": {
          "base_uri": "https://localhost:8080/"
        },
        "id": "OW6_9UQfeOqa",
        "outputId": "a546ac89-ed63-4bd8-e0ee-3553420cb285"
      },
      "execution_count": 103,
      "outputs": [
        {
          "output_type": "stream",
          "name": "stdout",
          "text": [
            "SBI No Lunch\n"
          ]
        }
      ]
    },
    {
      "cell_type": "code",
      "source": [
        "print(Bank.bankName)"
      ],
      "metadata": {
        "colab": {
          "base_uri": "https://localhost:8080/"
        },
        "id": "9NM3dXMNeSLH",
        "outputId": "8099b1ac-773e-4477-b103-cc7759167ce7"
      },
      "execution_count": 105,
      "outputs": [
        {
          "output_type": "stream",
          "name": "stdout",
          "text": [
            "SBI No Lunch\n"
          ]
        }
      ]
    },
    {
      "cell_type": "code",
      "source": [
        "print(ac1.bankName)"
      ],
      "metadata": {
        "colab": {
          "base_uri": "https://localhost:8080/"
        },
        "id": "VhoIN67Oec1n",
        "outputId": "3e546ba8-b51b-4f92-cd80-2212ca8563fb"
      },
      "execution_count": 106,
      "outputs": [
        {
          "output_type": "stream",
          "name": "stdout",
          "text": [
            "SBI with Lot of Lunch\n"
          ]
        }
      ]
    },
    {
      "cell_type": "code",
      "source": [
        "ac2.__dict__"
      ],
      "metadata": {
        "colab": {
          "base_uri": "https://localhost:8080/"
        },
        "id": "B5_Df1gmegZ8",
        "outputId": "25b445d2-896c-4cb1-ef75-87b77d2ea1df"
      },
      "execution_count": 107,
      "outputs": [
        {
          "output_type": "execute_result",
          "data": {
            "text/plain": [
              "{'ifsc': '101BLR',\n",
              " 'name': 'B',\n",
              " 'accID': 102,\n",
              " 'acc_type': 'Saving',\n",
              " 'mobileNo': 12344,\n",
              " 'balance': 9999}"
            ]
          },
          "metadata": {},
          "execution_count": 107
        }
      ]
    },
    {
      "cell_type": "code",
      "source": [
        "ac1.__dict__"
      ],
      "metadata": {
        "colab": {
          "base_uri": "https://localhost:8080/"
        },
        "id": "FBCQgQMrekhF",
        "outputId": "d09fd3af-c985-4146-d193-be92c956a935"
      },
      "execution_count": 108,
      "outputs": [
        {
          "output_type": "execute_result",
          "data": {
            "text/plain": [
              "{'ifsc': '101BLR',\n",
              " 'name': 'A',\n",
              " 'accID': 101,\n",
              " 'acc_type': 'Saving',\n",
              " 'mobileNo': 8586836627,\n",
              " 'balance': 1000,\n",
              " 'bankName': 'SBI with Lot of Lunch'}"
            ]
          },
          "metadata": {},
          "execution_count": 108
        }
      ]
    },
    {
      "cell_type": "markdown",
      "source": [
        "\n",
        "### Will Discuss in Next Class\n",
        "ClassName.Staticvar can be used to automatically assign and increment acc_ID's"
      ],
      "metadata": {
        "id": "lbvZqii6eyFT"
      }
    },
    {
      "cell_type": "markdown",
      "source": [
        "_ private: to Prevent Modification"
      ],
      "metadata": {
        "id": "ItpC4UJBfSle"
      }
    },
    {
      "cell_type": "code",
      "source": [
        "class Bank:\n",
        "    #static Variable: Shared Variable for All Instances Also Known as ClassVar\n",
        "    bankName=\"SBI\"\n",
        "\n",
        "    # set of id\n",
        "    def __init__(self, ifsc,name,accID,acc_type,mobileNo,balance):\n",
        "        self.ifsc = ifsc\n",
        "        self.name = name\n",
        "        self.accID = accID\n",
        "        self.acc_type = acc_type\n",
        "        self.mobileNo = mobileNo\n",
        "        self.balance=balance\n",
        "\n",
        "ac1 = Bank(\"101BLR\",\"A\", 101,\"Saving\",8586836627,1000)\n",
        "print(ac1.bankName)\n",
        "\n",
        "\n",
        "\"\"\"\n",
        "Challange1:\n",
        "Complete this and add functionalies:\n",
        "    CheckBalance, Withdraw, Deposit, GetAccountInfo\n",
        "\n",
        "Challange2:\n",
        "Automate the process of ACC_ID Generation\n",
        "\"\"\""
      ],
      "metadata": {
        "id": "X0AdYQnMenrt"
      },
      "execution_count": null,
      "outputs": []
    },
    {
      "cell_type": "markdown",
      "source": [
        "```\n",
        "argv and argc?\n",
        "- used in parsing arguments from Commandline into Script\n",
        "- argc: How many arguments\n",
        "- argv: Value of arguments\n",
        "\n",
        "import sys # argc, argc\n",
        "\n",
        "preferred method of parsing args in python from Commandline is:\n",
        "import argparse\n"
      ],
      "metadata": {
        "id": "C3funlVIgDtM"
      }
    },
    {
      "cell_type": "code",
      "source": [
        "# code.py\n",
        "\n",
        "def add(a,b):\n",
        "    print(a+b)\n",
        "\n",
        "\n",
        "if __name__==\"__main__\":\n",
        "    # takes args\n",
        "    # call function\n",
        "    # testCase\n",
        "    score=0\n",
        "    if add(1,10)==11:\n",
        "        score+=1\n",
        "    if add(2,11)==13:\n",
        "        score+=1"
      ],
      "metadata": {
        "colab": {
          "base_uri": "https://localhost:8080/"
        },
        "id": "zqC3pBt0hrlw",
        "outputId": "dcf7d4c9-97bb-4c6c-f2b6-50548fc36d15"
      },
      "execution_count": 110,
      "outputs": [
        {
          "output_type": "stream",
          "name": "stdout",
          "text": [
            "11\n"
          ]
        }
      ]
    },
    {
      "cell_type": "code",
      "source": [
        "# code2.py\n",
        "import code"
      ],
      "metadata": {
        "id": "dD7N_UF3hziE"
      },
      "execution_count": 109,
      "outputs": []
    },
    {
      "cell_type": "markdown",
      "source": [
        "- 4 pillars of OOP\n",
        "- Private Var\n",
        "- Inheritance"
      ],
      "metadata": {
        "id": "iMqZ6DlGjA8B"
      }
    },
    {
      "cell_type": "code",
      "source": [
        "\n"
      ],
      "metadata": {
        "id": "RdN6cJ-Yghw0"
      },
      "execution_count": null,
      "outputs": []
    }
  ]
}