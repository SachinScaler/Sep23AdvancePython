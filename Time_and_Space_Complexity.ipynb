{
  "nbformat": 4,
  "nbformat_minor": 0,
  "metadata": {
    "colab": {
      "provenance": [],
      "authorship_tag": "ABX9TyOin12QcvpjIy1nxe1objcM",
      "include_colab_link": true
    },
    "kernelspec": {
      "name": "python3",
      "display_name": "Python 3"
    },
    "language_info": {
      "name": "python"
    }
  },
  "cells": [
    {
      "cell_type": "markdown",
      "metadata": {
        "id": "view-in-github",
        "colab_type": "text"
      },
      "source": [
        "<a href=\"https://colab.research.google.com/github/SachinScaler/Sep23AdvancePython/blob/main/Time_and_Space_Complexity.ipynb\" target=\"_parent\"><img src=\"https://colab.research.google.com/assets/colab-badge.svg\" alt=\"Open In Colab\"/></a>"
      ]
    },
    {
      "cell_type": "code",
      "execution_count": null,
      "metadata": {
        "id": "LHav5h55Tb9-"
      },
      "outputs": [],
      "source": [
        "def foo(n):\n",
        "    x=1 # c1\n",
        "    y=2 # c2\n",
        "    z=3 # c3\n",
        "    print(x+y+z) # c4\n",
        "\n",
        "foo(11)\n",
        "# constant: c1+c2+c3+c4==>c--> c*n**0"
      ]
    },
    {
      "cell_type": "markdown",
      "source": [
        "o(1): Constant time\n",
        "- In Constant time algos, the no ops is indepedent of input"
      ],
      "metadata": {
        "id": "ljJpmuVtcyCb"
      }
    },
    {
      "cell_type": "code",
      "source": [
        "# example 2\n",
        "def foo(n):\n",
        "    for i in range(n):\n",
        "        print(i)\n",
        "        break\n",
        "\n",
        "foo(12)\n",
        "# o(n): Yes\n",
        "# o(1): No"
      ],
      "metadata": {
        "colab": {
          "base_uri": "https://localhost:8080/"
        },
        "id": "oxAXdpcZcz1K",
        "outputId": "e0c5f168-fe6a-46b2-e149-5296aec1799c"
      },
      "execution_count": 2,
      "outputs": [
        {
          "output_type": "stream",
          "name": "stdout",
          "text": [
            "0\n"
          ]
        }
      ]
    },
    {
      "cell_type": "code",
      "source": [
        "# example 2\n",
        "def foo(n):\n",
        "    for i in range(n): #n\n",
        "        print(i) # n\n",
        "\n",
        "foo(12)\n",
        "# n+n+c--> 2n+c"
      ],
      "metadata": {
        "id": "6OqnZ4XFeL2H"
      },
      "execution_count": null,
      "outputs": []
    },
    {
      "cell_type": "markdown",
      "source": [
        "o(n): Linear Time Complexity"
      ],
      "metadata": {
        "id": "xlOABzo9eq31"
      }
    },
    {
      "cell_type": "code",
      "source": [
        "def foo(n):\n",
        "    for i in range(n): # n\n",
        "        for j in range(n): # n*n\n",
        "            print(\"Hello\") # n*n\n",
        "\n",
        "foo(12)\n"
      ],
      "metadata": {
        "id": "BhvyKP69euPz"
      },
      "execution_count": null,
      "outputs": []
    },
    {
      "cell_type": "markdown",
      "source": [
        "o(n^2): Quadratic"
      ],
      "metadata": {
        "id": "FWfVPeY7fTCO"
      }
    },
    {
      "cell_type": "code",
      "source": [
        "# quiz\n",
        "n = 10\n",
        "for i in range(n):\n",
        "  for j in range(n):\n",
        "    for k in range(n):\n",
        "      print(\"Hello\")\n"
      ],
      "metadata": {
        "id": "RqjQ6M9bfVuE"
      },
      "execution_count": null,
      "outputs": []
    },
    {
      "cell_type": "code",
      "source": [
        "n = 10\n",
        "while n>= 1:\n",
        "  print(n)\n",
        "  n-=1"
      ],
      "metadata": {
        "colab": {
          "base_uri": "https://localhost:8080/"
        },
        "id": "jdblrza-fxD0",
        "outputId": "81837a98-90b1-4d88-e91a-5850e4e91788"
      },
      "execution_count": 4,
      "outputs": [
        {
          "output_type": "stream",
          "name": "stdout",
          "text": [
            "10\n",
            "9\n",
            "8\n",
            "7\n",
            "6\n",
            "5\n",
            "4\n",
            "3\n",
            "2\n",
            "1\n"
          ]
        }
      ]
    },
    {
      "cell_type": "code",
      "source": [
        "n = 10\n",
        "i = \"hello\"\n",
        "while n>= 1:\n",
        "  print(i)\n",
        "  n-=1"
      ],
      "metadata": {
        "colab": {
          "base_uri": "https://localhost:8080/"
        },
        "id": "xr8css08fzb9",
        "outputId": "b8fb0e5c-874d-403b-92ed-2c0802b4478c"
      },
      "execution_count": 5,
      "outputs": [
        {
          "output_type": "stream",
          "name": "stdout",
          "text": [
            "hello\n",
            "hello\n",
            "hello\n",
            "hello\n",
            "hello\n",
            "hello\n",
            "hello\n",
            "hello\n",
            "hello\n",
            "hello\n"
          ]
        }
      ]
    },
    {
      "cell_type": "code",
      "source": [
        "\n",
        "for i in range(n):\n",
        "  print(i)\n",
        "for j in range(n):\n",
        "  print(j)\n",
        "\n",
        "for k in range(n):\n",
        "  print(k)\n",
        "# eq = n+n+n--> 3n\n",
        "# TC: o(n)\n",
        "# sc:o(1)"
      ],
      "metadata": {
        "id": "qfWGot_jgVaZ"
      },
      "execution_count": null,
      "outputs": []
    },
    {
      "cell_type": "code",
      "source": [
        "def factorial(x):\n",
        "    if x == 1:\n",
        "        return 1\n",
        "    else:\n",
        "        return (x * factorial(x-1))\n",
        "\n",
        "factorial(5)\n",
        "# TC: o(n)\n",
        "# SC: o(n)"
      ],
      "metadata": {
        "colab": {
          "base_uri": "https://localhost:8080/"
        },
        "id": "dIfvY8cBhDc8",
        "outputId": "af858166-17e4-47d2-f890-de4c4b66a020"
      },
      "execution_count": 6,
      "outputs": [
        {
          "output_type": "execute_result",
          "data": {
            "text/plain": [
              "120"
            ]
          },
          "metadata": {},
          "execution_count": 6
        }
      ]
    },
    {
      "cell_type": "code",
      "source": [
        "def func(n):\n",
        "    list1 = []\n",
        "    for i in range(n): # n\n",
        "        list1.append(i)\n",
        "        for k in range(i): #0,1,2,3...n-1\n",
        "            print(i*k)\n",
        "\n",
        "    return list1\n",
        "\n",
        "func(4)"
      ],
      "metadata": {
        "id": "hLl3MNjXhFfN"
      },
      "execution_count": null,
      "outputs": []
    },
    {
      "cell_type": "code",
      "source": [
        "def func(n):\n",
        "    list1 = [] # 1\n",
        "    for i in range(n): # n\n",
        "        list1.append(i) # n\n",
        "        for k in range(i): #0,1,2,3...n-1\n",
        "            print(i*k) # +1+2+3+......+n-1+n--> (n-1)*(n)/2--> a*o(n^2)+b(n)+c\n",
        "\n",
        "    return list1\n",
        "\n",
        "func(4)\n",
        "# SC: o(n)\n",
        "# TC: o(n^2)"
      ],
      "metadata": {
        "id": "PRY0i7E5m68s"
      },
      "execution_count": null,
      "outputs": []
    },
    {
      "cell_type": "markdown",
      "source": [],
      "metadata": {
        "id": "b-ZZqJ4RooG9"
      }
    },
    {
      "cell_type": "code",
      "source": [
        "def func(n):\n",
        "    while n>0:\n",
        "        n=n//2\n",
        "        print(\"Hello\")\n",
        "n= 4\n",
        "func(n)\n",
        "# log(n)+1--> log(2^4)+1-> 4+1"
      ],
      "metadata": {
        "colab": {
          "base_uri": "https://localhost:8080/"
        },
        "id": "gtqPvQBdoy54",
        "outputId": "ea0ec8f3-15d5-4a72-af5a-07de0fe07ea7"
      },
      "execution_count": 16,
      "outputs": [
        {
          "output_type": "stream",
          "name": "stdout",
          "text": [
            "Hello\n",
            "Hello\n"
          ]
        }
      ]
    },
    {
      "cell_type": "code",
      "source": [
        "# log(2)=2\n",
        "# log(4) = 2\n",
        "# log(2^3)= 3"
      ],
      "metadata": {
        "id": "p7qsuj35o0EZ"
      },
      "execution_count": null,
      "outputs": []
    },
    {
      "cell_type": "markdown",
      "source": [
        "Linear Search vs Binary Search:"
      ],
      "metadata": {
        "id": "O7W6M_R3rTcy"
      }
    },
    {
      "cell_type": "markdown",
      "source": [
        "# Searching:\n",
        "- is element present\n",
        "- where is it present"
      ],
      "metadata": {
        "id": "_a9XqhYZr3MX"
      }
    },
    {
      "cell_type": "code",
      "source": [
        "list1 = [1,2,3,4,5,6]\n",
        "list2= [\"Abc\",\"Dba\",\"Ijq\"]\n",
        "\n",
        "Target= 4\n"
      ],
      "metadata": {
        "id": "uqSc-0x2regk"
      },
      "execution_count": 19,
      "outputs": []
    },
    {
      "cell_type": "markdown",
      "source": [
        "### Linear Search:"
      ],
      "metadata": {
        "id": "_-aCVKsKrqDJ"
      }
    },
    {
      "cell_type": "code",
      "source": [
        "def linear_search(list1, target):\n",
        "    for i in range(len(list1)):\n",
        "        if list1[i]==target:\n",
        "            return i\n",
        "    return \"Element Not Found\"\n",
        "\n",
        "linear_search(list1, 10)\n",
        "# sorting is not mandatory\n",
        "# TC:   O(n),  bestCase: o(1)\n",
        "# SC: o(1)"
      ],
      "metadata": {
        "colab": {
          "base_uri": "https://localhost:8080/",
          "height": 36
        },
        "id": "jXeljDaZrpsm",
        "outputId": "71223c70-f82a-4d60-99cd-dd34d7129308"
      },
      "execution_count": 22,
      "outputs": [
        {
          "output_type": "execute_result",
          "data": {
            "text/plain": [
              "'Element Not Found'"
            ],
            "application/vnd.google.colaboratory.intrinsic+json": {
              "type": "string"
            }
          },
          "metadata": {},
          "execution_count": 22
        }
      ]
    },
    {
      "cell_type": "markdown",
      "source": [
        "### 1,00,00,000\n",
        "### 1 Crore ops"
      ],
      "metadata": {
        "id": "_mVaFXxZs_6C"
      }
    },
    {
      "cell_type": "code",
      "source": [
        "# Binary Search\n",
        "def BinarySearch(list1,target):\n",
        "    s, e= 0, len(list1)-1\n",
        "    while s<=e:\n",
        "        mid_point = (i+j)//2\n",
        "        if list1[mid_point]>target:\n",
        "            e=mid_point-1\n",
        "        elif list1[mid_point]<target:\n",
        "            s = mid_point+1\n",
        "        else:\n",
        "            return mid_point\n",
        "\n",
        "    return \"Target Not Found\"\n",
        "\n",
        "\n",
        "# TC: O(logn)"
      ],
      "metadata": {
        "id": "TgeknrrbsLtw"
      },
      "execution_count": 23,
      "outputs": []
    },
    {
      "cell_type": "code",
      "source": [],
      "metadata": {
        "id": "ueOlvUQ_xIQm"
      },
      "execution_count": null,
      "outputs": []
    },
    {
      "cell_type": "code",
      "source": [
        "import math\n",
        "math.log(10000000,2)"
      ],
      "metadata": {
        "colab": {
          "base_uri": "https://localhost:8080/"
        },
        "id": "IifiiC-EwlJ8",
        "outputId": "25d0bb21-e07f-454d-f20e-eddbda4a5791"
      },
      "execution_count": 24,
      "outputs": [
        {
          "output_type": "execute_result",
          "data": {
            "text/plain": [
              "23.25349666421154"
            ]
          },
          "metadata": {},
          "execution_count": 24
        }
      ]
    },
    {
      "cell_type": "markdown",
      "source": [
        "# Extra Questions\n",
        "- test Binary Search string\n",
        "- Apply Binary Search on 2D Matrix"
      ],
      "metadata": {
        "id": "CYNIX4B9u9hH"
      }
    },
    {
      "cell_type": "code",
      "source": [
        "list1 = [[1,2,3],\n",
        "         [11,11,15],\n",
        "         [16,17,200]]\n",
        "\n",
        "# nxm"
      ],
      "metadata": {
        "id": "l96z4xFDvPuj"
      },
      "execution_count": null,
      "outputs": []
    },
    {
      "cell_type": "code",
      "source": [
        "for i in range((n)):\n",
        "    for j in range(0,n,n//2):\n",
        "            print(j)\n",
        "for k in range((n)):\n",
        "        print(k)\n",
        "# O(N)"
      ],
      "metadata": {
        "id": "5Ix1ob0rxJKY"
      },
      "execution_count": null,
      "outputs": []
    },
    {
      "cell_type": "code",
      "source": [
        "n = 1000\n",
        "for j in range(0,n,n//2):\n",
        "            print(j)"
      ],
      "metadata": {
        "colab": {
          "base_uri": "https://localhost:8080/"
        },
        "id": "pvSlaI8DxVk-",
        "outputId": "66c5f088-c5c8-402f-a332-7a26a3784793"
      },
      "execution_count": 29,
      "outputs": [
        {
          "output_type": "stream",
          "name": "stdout",
          "text": [
            "0\n",
            "500\n"
          ]
        }
      ]
    },
    {
      "cell_type": "code",
      "source": [
        "# nlogn + log(n)"
      ],
      "metadata": {
        "id": "5DJdSGIMxW7_"
      },
      "execution_count": null,
      "outputs": []
    }
  ]
}