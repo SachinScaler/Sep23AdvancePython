{
  "nbformat": 4,
  "nbformat_minor": 0,
  "metadata": {
    "colab": {
      "provenance": [],
      "authorship_tag": "ABX9TyM1QBI9eBi1yQW1igTxmDiO",
      "include_colab_link": true
    },
    "kernelspec": {
      "name": "python3",
      "display_name": "Python 3"
    },
    "language_info": {
      "name": "python"
    }
  },
  "cells": [
    {
      "cell_type": "markdown",
      "metadata": {
        "id": "view-in-github",
        "colab_type": "text"
      },
      "source": [
        "<a href=\"https://colab.research.google.com/github/SachinScaler/Sep23AdvancePython/blob/main/OOP_Part_2.ipynb\" target=\"_parent\"><img src=\"https://colab.research.google.com/assets/colab-badge.svg\" alt=\"Open In Colab\"/></a>"
      ]
    },
    {
      "cell_type": "markdown",
      "source": [
        "### We will Start @9:30"
      ],
      "metadata": {
        "id": "BxMKiy4gTP8e"
      }
    },
    {
      "cell_type": "code",
      "execution_count": 2,
      "metadata": {
        "colab": {
          "base_uri": "https://localhost:8080/"
        },
        "id": "G1vvylHrTOSz",
        "outputId": "6f9d3381-4039-4897-9828-8afbd878b98d"
      },
      "outputs": [
        {
          "output_type": "stream",
          "name": "stdout",
          "text": [
            "False\n"
          ]
        }
      ],
      "source": [
        "class A:\n",
        "    def __init__(self, name):\n",
        "        self.name = name\n",
        "\n",
        "a1 = A(\"Bunty\")\n",
        "a2 = A(\"Bunty\")\n",
        "\n",
        "print(id(a1) == id(a2))"
      ]
    },
    {
      "cell_type": "code",
      "source": [
        "a1.name=\"Naveen\"\n",
        "print(a2.name)"
      ],
      "metadata": {
        "colab": {
          "base_uri": "https://localhost:8080/"
        },
        "id": "ufCRVk9Ie_QG",
        "outputId": "c8e18817-28a0-4f24-a8f8-5563aed5ef56"
      },
      "execution_count": 3,
      "outputs": [
        {
          "output_type": "stream",
          "name": "stdout",
          "text": [
            "Bunty\n"
          ]
        }
      ]
    },
    {
      "cell_type": "code",
      "source": [
        "A()# term for creating instance of Class: Instantiation"
      ],
      "metadata": {
        "id": "f4BCdpV1fNaX"
      },
      "execution_count": null,
      "outputs": []
    },
    {
      "cell_type": "code",
      "source": [
        "class A:\n",
        "    acc_id= 100\n",
        "    def __init__(self):\n",
        "      self.acc_id=A.acc_id # creates instance var using Class Variable\n",
        "      A.acc_id+=1\n",
        "\n",
        "A() # object1\n",
        "\n",
        "obj1 = A() # object2\n",
        "\n",
        "if A(): # object 3\n",
        "    print(A.acc_id)"
      ],
      "metadata": {
        "colab": {
          "base_uri": "https://localhost:8080/"
        },
        "id": "vVySF1Txfy3A",
        "outputId": "1807e65c-124d-4209-d577-56a6645af38f"
      },
      "execution_count": 7,
      "outputs": [
        {
          "output_type": "stream",
          "name": "stdout",
          "text": [
            "103\n"
          ]
        }
      ]
    },
    {
      "cell_type": "markdown",
      "source": [
        "Try this agin in our origianl use-case"
      ],
      "metadata": {
        "id": "7uAMUWWTiZlq"
      }
    },
    {
      "cell_type": "code",
      "source": [
        "obj1.acc_id"
      ],
      "metadata": {
        "colab": {
          "base_uri": "https://localhost:8080/"
        },
        "id": "mKGjQQiohG4y",
        "outputId": "5a3c258f-daf1-4750-a000-52a771f8e41e"
      },
      "execution_count": 8,
      "outputs": [
        {
          "output_type": "execute_result",
          "data": {
            "text/plain": [
              "101"
            ]
          },
          "metadata": {},
          "execution_count": 8
        }
      ]
    },
    {
      "cell_type": "code",
      "source": [
        "class A:\n",
        "    counter= 0\n",
        "    def __init__(self):\n",
        "      print(\"Creating Object\")\n",
        "\n",
        "A()"
      ],
      "metadata": {
        "colab": {
          "base_uri": "https://localhost:8080/"
        },
        "id": "Bj3EZwRrgMN6",
        "outputId": "4a7aed2c-c99e-43eb-96e7-c6ff4da4b0cb"
      },
      "execution_count": 4,
      "outputs": [
        {
          "output_type": "stream",
          "name": "stdout",
          "text": [
            "Creating Object\n"
          ]
        },
        {
          "output_type": "execute_result",
          "data": {
            "text/plain": [
              "<__main__.A at 0x7bba3e084100>"
            ]
          },
          "metadata": {},
          "execution_count": 4
        }
      ]
    },
    {
      "cell_type": "markdown",
      "source": [
        "Today's Topic"
      ],
      "metadata": {
        "id": "QUi1YmeEiz2Z"
      }
    },
    {
      "cell_type": "code",
      "source": [
        "class BankAccount: #  BankAccount() #  BankAccount(object)\n",
        "    def __init__(self, acc_id, balance):\n",
        "        self.acc_id = acc_id\n",
        "        self.__balance = balance\n",
        "\n",
        "    # setter function to update values from outside\n",
        "    def setBalance(self,balance):\n",
        "        self.__balance = balance\n",
        "\n",
        "    # getter function\n",
        "    def getBalance(self):\n",
        "        return self.__balance\n",
        "ac1 = BankAccount(100, 10000)"
      ],
      "metadata": {
        "id": "ioHXAK4XgOjg"
      },
      "execution_count": 25,
      "outputs": []
    },
    {
      "cell_type": "code",
      "source": [
        "ac1.getBalance()"
      ],
      "metadata": {
        "colab": {
          "base_uri": "https://localhost:8080/"
        },
        "id": "HZDepxU3kO_5",
        "outputId": "1f7e65a5-1888-4ca5-ae4d-fc32da9713ab"
      },
      "execution_count": 26,
      "outputs": [
        {
          "output_type": "execute_result",
          "data": {
            "text/plain": [
              "10000"
            ]
          },
          "metadata": {},
          "execution_count": 26
        }
      ]
    },
    {
      "cell_type": "code",
      "source": [
        "ac1.balance"
      ],
      "metadata": {
        "colab": {
          "base_uri": "https://localhost:8080/",
          "height": 177
        },
        "id": "M2_f3XqVkqzg",
        "outputId": "e24bd65d-73ce-4fc7-fd50-62e8bfb4978c"
      },
      "execution_count": 27,
      "outputs": [
        {
          "output_type": "error",
          "ename": "AttributeError",
          "evalue": "ignored",
          "traceback": [
            "\u001b[0;31m---------------------------------------------------------------------------\u001b[0m",
            "\u001b[0;31mAttributeError\u001b[0m                            Traceback (most recent call last)",
            "\u001b[0;32m<ipython-input-27-1deef2fb494a>\u001b[0m in \u001b[0;36m<cell line: 1>\u001b[0;34m()\u001b[0m\n\u001b[0;32m----> 1\u001b[0;31m \u001b[0mac1\u001b[0m\u001b[0;34m.\u001b[0m\u001b[0mbalance\u001b[0m\u001b[0;34m\u001b[0m\u001b[0;34m\u001b[0m\u001b[0m\n\u001b[0m",
            "\u001b[0;31mAttributeError\u001b[0m: 'BankAccount' object has no attribute 'balance'"
          ]
        }
      ]
    },
    {
      "cell_type": "code",
      "source": [
        "ac1.__balance"
      ],
      "metadata": {
        "colab": {
          "base_uri": "https://localhost:8080/",
          "height": 177
        },
        "id": "PKVjwkxIlXnk",
        "outputId": "15b78da9-f718-422e-e25e-7d3e43657c82"
      },
      "execution_count": 28,
      "outputs": [
        {
          "output_type": "error",
          "ename": "AttributeError",
          "evalue": "ignored",
          "traceback": [
            "\u001b[0;31m---------------------------------------------------------------------------\u001b[0m",
            "\u001b[0;31mAttributeError\u001b[0m                            Traceback (most recent call last)",
            "\u001b[0;32m<ipython-input-28-5b7b0cd565eb>\u001b[0m in \u001b[0;36m<cell line: 1>\u001b[0;34m()\u001b[0m\n\u001b[0;32m----> 1\u001b[0;31m \u001b[0mac1\u001b[0m\u001b[0;34m.\u001b[0m\u001b[0m__balance\u001b[0m\u001b[0;34m\u001b[0m\u001b[0;34m\u001b[0m\u001b[0m\n\u001b[0m",
            "\u001b[0;31mAttributeError\u001b[0m: 'BankAccount' object has no attribute '__balance'"
          ]
        }
      ]
    },
    {
      "cell_type": "code",
      "source": [
        "ac1.balance = 90 # this creates an instance variable not impacting the orignal var\n",
        "ac1.__balance=50 # this creates an instance variable not impacting the orignal var"
      ],
      "metadata": {
        "id": "VvsknWCGkuKI"
      },
      "execution_count": 29,
      "outputs": []
    },
    {
      "cell_type": "code",
      "source": [
        "ac1.getBalance()"
      ],
      "metadata": {
        "colab": {
          "base_uri": "https://localhost:8080/"
        },
        "id": "L7GcSAdolhwE",
        "outputId": "73605f8c-6883-4294-f5ec-89309fba387d"
      },
      "execution_count": 30,
      "outputs": [
        {
          "output_type": "execute_result",
          "data": {
            "text/plain": [
              "10000"
            ]
          },
          "metadata": {},
          "execution_count": 30
        }
      ]
    },
    {
      "cell_type": "code",
      "source": [
        "ac1.setBalance(999)\n",
        "ac1.getBalance()"
      ],
      "metadata": {
        "colab": {
          "base_uri": "https://localhost:8080/"
        },
        "id": "mFP581cCmmzp",
        "outputId": "9a7f77f9-3552-4600-b46f-4569f7529114"
      },
      "execution_count": 31,
      "outputs": [
        {
          "output_type": "execute_result",
          "data": {
            "text/plain": [
              "999"
            ]
          },
          "metadata": {},
          "execution_count": 31
        }
      ]
    },
    {
      "cell_type": "code",
      "source": [
        "ac1.balance"
      ],
      "metadata": {
        "colab": {
          "base_uri": "https://localhost:8080/"
        },
        "id": "h7EU43nbk6Mu",
        "outputId": "cbe4c85b-850e-49ad-d999-3468dfe30001"
      },
      "execution_count": 32,
      "outputs": [
        {
          "output_type": "execute_result",
          "data": {
            "text/plain": [
              "90"
            ]
          },
          "metadata": {},
          "execution_count": 32
        }
      ]
    },
    {
      "cell_type": "code",
      "source": [
        "ac1.__balance"
      ],
      "metadata": {
        "colab": {
          "base_uri": "https://localhost:8080/"
        },
        "id": "SnONbvj1k8ZS",
        "outputId": "30fed0fd-047b-460a-cd39-59569c0e04ec"
      },
      "execution_count": 33,
      "outputs": [
        {
          "output_type": "execute_result",
          "data": {
            "text/plain": [
              "50"
            ]
          },
          "metadata": {},
          "execution_count": 33
        }
      ]
    },
    {
      "cell_type": "code",
      "source": [
        "ac1.getBalance()"
      ],
      "metadata": {
        "colab": {
          "base_uri": "https://localhost:8080/"
        },
        "id": "OpJt4OFhnNW9",
        "outputId": "df470d3d-cda0-4b9c-ed72-cac8dc17d38f"
      },
      "execution_count": 34,
      "outputs": [
        {
          "output_type": "execute_result",
          "data": {
            "text/plain": [
              "999"
            ]
          },
          "metadata": {},
          "execution_count": 34
        }
      ]
    },
    {
      "cell_type": "code",
      "source": [
        "### name mangling: _ClassName__VariableName\n",
        "ac1.__dict__"
      ],
      "metadata": {
        "colab": {
          "base_uri": "https://localhost:8080/"
        },
        "id": "KeYr4l7NnOoO",
        "outputId": "0c5b5197-64e2-45bf-bd9f-07efcc9db6c2"
      },
      "execution_count": 35,
      "outputs": [
        {
          "output_type": "execute_result",
          "data": {
            "text/plain": [
              "{'acc_id': 100, '_BankAccount__balance': 999, 'balance': 90, '__balance': 50}"
            ]
          },
          "metadata": {},
          "execution_count": 35
        }
      ]
    },
    {
      "cell_type": "code",
      "source": [
        "ac1._BankAccount__balance=0"
      ],
      "metadata": {
        "id": "jJsXjP2dnv1Q"
      },
      "execution_count": 36,
      "outputs": []
    },
    {
      "cell_type": "code",
      "source": [
        "ac1.getBalance()"
      ],
      "metadata": {
        "colab": {
          "base_uri": "https://localhost:8080/"
        },
        "id": "xv9a5QkUoDhY",
        "outputId": "26e53de7-f5f2-416b-c18e-adc680698f2c"
      },
      "execution_count": 37,
      "outputs": [
        {
          "output_type": "execute_result",
          "data": {
            "text/plain": [
              "0"
            ]
          },
          "metadata": {},
          "execution_count": 37
        }
      ]
    },
    {
      "cell_type": "code",
      "source": [
        "ac1.getBalance()"
      ],
      "metadata": {
        "colab": {
          "base_uri": "https://localhost:8080/"
        },
        "id": "Li0bBXEfoFeC",
        "outputId": "0f8845ba-c4ee-4e73-b3f1-035a12e59b46"
      },
      "execution_count": 38,
      "outputs": [
        {
          "output_type": "execute_result",
          "data": {
            "text/plain": [
              "0"
            ]
          },
          "metadata": {},
          "execution_count": 38
        }
      ]
    },
    {
      "cell_type": "code",
      "source": [
        "ac1.setBalance(1000)"
      ],
      "metadata": {
        "id": "O6s4uFo3pvub"
      },
      "execution_count": 39,
      "outputs": []
    },
    {
      "cell_type": "code",
      "source": [
        "print(56 + 75)\n",
        "print(\"56\" + \"75\")"
      ],
      "metadata": {
        "colab": {
          "base_uri": "https://localhost:8080/"
        },
        "id": "h9SXUW3Jp19-",
        "outputId": "45b9d737-7577-476a-f43e-41a3f20c418b"
      },
      "execution_count": 40,
      "outputs": [
        {
          "output_type": "stream",
          "name": "stdout",
          "text": [
            "131\n",
            "5675\n"
          ]
        }
      ]
    },
    {
      "cell_type": "markdown",
      "source": [
        "__add: you can actually modify/add + operators behaviour on your custom class"
      ],
      "metadata": {
        "id": "vqMW_ZRLrJLg"
      }
    },
    {
      "cell_type": "code",
      "source": [
        "class Phone:\n",
        "  def functionality(self):\n",
        "    print(\"Used for Calling People\")\n",
        "\n",
        "class Camera:\n",
        "  def functionality(self):\n",
        "    print(\"Used for Taking Pictures\")\n",
        "\n",
        "p1 = Phone()\n",
        "c1 = Camera()"
      ],
      "metadata": {
        "id": "0kYlcq5HrCHB"
      },
      "execution_count": 41,
      "outputs": []
    },
    {
      "cell_type": "code",
      "source": [
        "p1.functionality()"
      ],
      "metadata": {
        "colab": {
          "base_uri": "https://localhost:8080/"
        },
        "id": "AGPpQau0r0bt",
        "outputId": "34559b92-8e27-4858-e9e4-d86da5da75f9"
      },
      "execution_count": 42,
      "outputs": [
        {
          "output_type": "stream",
          "name": "stdout",
          "text": [
            "Used for Calling People\n"
          ]
        }
      ]
    },
    {
      "cell_type": "code",
      "source": [
        "c1.functionality()"
      ],
      "metadata": {
        "colab": {
          "base_uri": "https://localhost:8080/"
        },
        "id": "qEZsOYeJr3mP",
        "outputId": "a82e5fbc-d7b9-4069-a700-e3686a040153"
      },
      "execution_count": 43,
      "outputs": [
        {
          "output_type": "stream",
          "name": "stdout",
          "text": [
            "Used for Taking Pictures\n"
          ]
        }
      ]
    },
    {
      "cell_type": "markdown",
      "source": [
        "Inheritance"
      ],
      "metadata": {
        "id": "pFkLc33Ru2Gq"
      }
    },
    {
      "cell_type": "code",
      "source": [
        "class Parent:\n",
        "    def __init__(self):\n",
        "        print(\"I am Parent\")\n",
        "\n",
        "class Child(Parent): # child inherits from parent\n",
        "    def __init__(self):\n",
        "        print(\"I am Child\")"
      ],
      "metadata": {
        "id": "xIJx6rulr5iP"
      },
      "execution_count": 44,
      "outputs": []
    },
    {
      "cell_type": "code",
      "source": [
        "p1= Parent()"
      ],
      "metadata": {
        "colab": {
          "base_uri": "https://localhost:8080/"
        },
        "id": "_4oBWr6dvHL6",
        "outputId": "0f25830a-9e9a-4198-d1a4-4a290d41f3dc"
      },
      "execution_count": 45,
      "outputs": [
        {
          "output_type": "stream",
          "name": "stdout",
          "text": [
            "I am Parent\n"
          ]
        }
      ]
    },
    {
      "cell_type": "code",
      "source": [
        "c1 = Child()"
      ],
      "metadata": {
        "colab": {
          "base_uri": "https://localhost:8080/"
        },
        "id": "C-jUX5YAvJHR",
        "outputId": "3fe09691-5ef8-4563-fc1f-6eee861f0553"
      },
      "execution_count": 46,
      "outputs": [
        {
          "output_type": "stream",
          "name": "stdout",
          "text": [
            "I am Child\n"
          ]
        }
      ]
    },
    {
      "cell_type": "code",
      "source": [
        "class Parent:\n",
        "    A = 10\n",
        "    def __init__(self):\n",
        "        print(\"I am Parent\")\n",
        "\n",
        "class Child(Parent): # child inherits from parent\n",
        "    def __init__(self):\n",
        "        print(\"I am Child\")\n",
        "\n",
        "p1= Parent()\n",
        "c1 = Child()"
      ],
      "metadata": {
        "colab": {
          "base_uri": "https://localhost:8080/"
        },
        "id": "gqTbdFx4vSYw",
        "outputId": "de3f80dc-ff55-40b6-9cd6-7ed13adf51e1"
      },
      "execution_count": 53,
      "outputs": [
        {
          "output_type": "stream",
          "name": "stdout",
          "text": [
            "I am Parent\n",
            "I am Child\n"
          ]
        }
      ]
    },
    {
      "cell_type": "code",
      "source": [
        "p1.A"
      ],
      "metadata": {
        "colab": {
          "base_uri": "https://localhost:8080/"
        },
        "id": "FYzGcWZvvgaH",
        "outputId": "dcb8200a-b336-4b36-de44-6375bdbff784"
      },
      "execution_count": 54,
      "outputs": [
        {
          "output_type": "execute_result",
          "data": {
            "text/plain": [
              "10"
            ]
          },
          "metadata": {},
          "execution_count": 54
        }
      ]
    },
    {
      "cell_type": "code",
      "source": [
        "c1.A"
      ],
      "metadata": {
        "colab": {
          "base_uri": "https://localhost:8080/"
        },
        "id": "tBgI8xT-vheT",
        "outputId": "36f49366-4786-416d-9b85-9fdd748ff6b9"
      },
      "execution_count": 55,
      "outputs": [
        {
          "output_type": "execute_result",
          "data": {
            "text/plain": [
              "10"
            ]
          },
          "metadata": {},
          "execution_count": 55
        }
      ]
    },
    {
      "cell_type": "code",
      "source": [
        "class Parent:\n",
        "    A = 10\n",
        "    def __init__(self):\n",
        "        print(\"I am Parent\")\n",
        "\n",
        "class Child(Parent): # child inherits from parent\n",
        "    def __init__(self):\n",
        "        super().__init__() # Super Calls Immediate parents method\n",
        "        print(\"I am Child\")\n",
        "\n",
        "p1= Parent()"
      ],
      "metadata": {
        "colab": {
          "base_uri": "https://localhost:8080/"
        },
        "id": "2RhMhCJ4vnyT",
        "outputId": "ef921d45-f7c4-450a-a3c3-59de2300849b"
      },
      "execution_count": 57,
      "outputs": [
        {
          "output_type": "stream",
          "name": "stdout",
          "text": [
            "I am Parent\n"
          ]
        }
      ]
    },
    {
      "cell_type": "code",
      "source": [
        "c1 = Child()"
      ],
      "metadata": {
        "colab": {
          "base_uri": "https://localhost:8080/"
        },
        "id": "C1Yg6H_Wv4Ii",
        "outputId": "51b50b7a-63b9-4150-9ecd-256fccd3620f"
      },
      "execution_count": 58,
      "outputs": [
        {
          "output_type": "stream",
          "name": "stdout",
          "text": [
            "I am Parent\n",
            "I am Child\n"
          ]
        }
      ]
    },
    {
      "cell_type": "code",
      "source": [
        "class Parent:\n",
        "    A = 10\n",
        "    def __init__(self):\n",
        "        print(\"I am Parent\")\n",
        "\n",
        "    def Func(self):\n",
        "        print(\"Func Inside Parent\")\n",
        "\n",
        "class Child(Parent): # child inherits from parent\n",
        "    def __init__(self):\n",
        "        super().__init__() # Super Calls Immediate parents method\n",
        "        print(\"I am Child\")\n",
        "\n",
        "    def Func(self):\n",
        "        print(\"Func Inside Child\")\n",
        "\n",
        "c1= Child()"
      ],
      "metadata": {
        "colab": {
          "base_uri": "https://localhost:8080/"
        },
        "id": "y_LRAOO6v8DU",
        "outputId": "c1542d3a-6310-4724-ae67-a3de186d8005"
      },
      "execution_count": 63,
      "outputs": [
        {
          "output_type": "stream",
          "name": "stdout",
          "text": [
            "I am Parent\n",
            "I am Child\n"
          ]
        }
      ]
    },
    {
      "cell_type": "code",
      "source": [
        "c1.Func()"
      ],
      "metadata": {
        "colab": {
          "base_uri": "https://localhost:8080/"
        },
        "id": "rX1jhzczwR0t",
        "outputId": "dbffc707-c910-4fe2-97d0-3e608bc8d3e1"
      },
      "execution_count": 64,
      "outputs": [
        {
          "output_type": "stream",
          "name": "stdout",
          "text": [
            "Func Inside Child\n"
          ]
        }
      ]
    },
    {
      "cell_type": "markdown",
      "source": [
        "#MRO: Method Resolution Order: Tries to find method/variable inside Child Before going to Parent"
      ],
      "metadata": {
        "id": "LfKwEvYzwoOj"
      }
    },
    {
      "cell_type": "code",
      "source": [
        "class ScalerMember:\n",
        "    def __init__(self,name):\n",
        "        self.name=name\n",
        "\n",
        "class Learner(ScalerMember):\n",
        "    def __init__(self, name, batch, grade):\n",
        "        super().__init__(name) # ScalerMember.__init__(self,name)\n",
        "        self.batch=batch\n",
        "        self.grade = grade\n",
        "\n",
        "class Staff(ScalerMember):\n",
        "    def __init__(self, name, salary):\n",
        "        super().__init__(name) # ScalerMember.__init__(self,name)\n",
        "        self.salary=salary\n",
        "\n",
        "class Instructor(Staff):\n",
        "    def __init__(self, name, salary, subject):\n",
        "        super().__init__(name, salary)\n",
        "        self.subject=subject\n",
        "\n",
        "\n",
        "\n",
        "t1 = Instructor(\"Sachin\",10,\"Python Adv\")\n",
        "t1"
      ],
      "metadata": {
        "colab": {
          "base_uri": "https://localhost:8080/"
        },
        "id": "sqIN1DTHwns7",
        "outputId": "2cd9a7a8-d0ee-47b2-cf01-7b083bc7b320"
      },
      "execution_count": 71,
      "outputs": [
        {
          "output_type": "execute_result",
          "data": {
            "text/plain": [
              "<__main__.Instructor at 0x7bba28228400>"
            ]
          },
          "metadata": {},
          "execution_count": 71
        }
      ]
    },
    {
      "cell_type": "code",
      "source": [
        "t1.name, t1.salary, t1.subject"
      ],
      "metadata": {
        "colab": {
          "base_uri": "https://localhost:8080/"
        },
        "id": "3GqL4d8iwYF6",
        "outputId": "5f44d492-13b4-46c7-9173-f8849a91b378"
      },
      "execution_count": 72,
      "outputs": [
        {
          "output_type": "execute_result",
          "data": {
            "text/plain": [
              "('Sachin', 10, 'Python Adv')"
            ]
          },
          "metadata": {},
          "execution_count": 72
        }
      ]
    },
    {
      "cell_type": "code",
      "source": [
        "class A:\n",
        "    __var = 10\n",
        "\n",
        "class B:\n",
        "    var = 20\n",
        "\n",
        "class C(A,B):\n",
        "    pass\n",
        "c1= C()\n",
        "print(c1.var)"
      ],
      "metadata": {
        "colab": {
          "base_uri": "https://localhost:8080/"
        },
        "id": "n9tQzwSYxmqZ",
        "outputId": "604e0a4d-7c2d-4afa-8ec0-5d787ac8cba4"
      },
      "execution_count": 76,
      "outputs": [
        {
          "output_type": "stream",
          "name": "stdout",
          "text": [
            "20\n"
          ]
        }
      ]
    },
    {
      "cell_type": "code",
      "source": [
        "C.__mro__"
      ],
      "metadata": {
        "colab": {
          "base_uri": "https://localhost:8080/"
        },
        "id": "NyiQzTSy0guL",
        "outputId": "1ec0e4e8-20a8-4a69-e527-779d04fc44fc"
      },
      "execution_count": 80,
      "outputs": [
        {
          "output_type": "execute_result",
          "data": {
            "text/plain": [
              "(__main__.C, __main__.A, __main__.B, object)"
            ]
          },
          "metadata": {},
          "execution_count": 80
        }
      ]
    },
    {
      "cell_type": "code",
      "source": [
        "class A:\n",
        "    acc_id= 100\n",
        "    def __init__(self):\n",
        "      self.acc_id=A.acc_id # creates instance var using Class Variable\n",
        "      A.acc_id+=1 # updating with class name\n",
        "\n",
        "A() #object1\n",
        "\n",
        "obj1 = A() # object2\n",
        "\n",
        "if A(): # object 3\n",
        "    print(A.acc_id)"
      ],
      "metadata": {
        "colab": {
          "base_uri": "https://localhost:8080/"
        },
        "id": "9Ib4f4401HxV",
        "outputId": "ec7bb833-f7fc-48d1-fc38-898925133d27"
      },
      "execution_count": 92,
      "outputs": [
        {
          "output_type": "stream",
          "name": "stdout",
          "text": [
            "103\n"
          ]
        }
      ]
    },
    {
      "cell_type": "code",
      "source": [
        "obj1.acc_id"
      ],
      "metadata": {
        "colab": {
          "base_uri": "https://localhost:8080/"
        },
        "id": "H0Cd1Qav1-N5",
        "outputId": "dab66303-24f2-45df-a4e0-9255f91276ac"
      },
      "execution_count": 93,
      "outputs": [
        {
          "output_type": "execute_result",
          "data": {
            "text/plain": [
              "101"
            ]
          },
          "metadata": {},
          "execution_count": 93
        }
      ]
    },
    {
      "cell_type": "code",
      "source": [
        "class A:\n",
        "    var =10\n",
        "a1= A()\n",
        "print(a1.var)\n",
        "print(A.var)"
      ],
      "metadata": {
        "colab": {
          "base_uri": "https://localhost:8080/"
        },
        "id": "gJAxdaYU2Ojl",
        "outputId": "a6288975-1a49-4afc-d069-43b4a672e22e"
      },
      "execution_count": 84,
      "outputs": [
        {
          "output_type": "stream",
          "name": "stdout",
          "text": [
            "10\n",
            "10\n"
          ]
        }
      ]
    },
    {
      "cell_type": "code",
      "source": [
        "A.var = 100"
      ],
      "metadata": {
        "id": "tC0eMxWK2UP5"
      },
      "execution_count": 85,
      "outputs": []
    },
    {
      "cell_type": "code",
      "source": [
        "print(a1.var)"
      ],
      "metadata": {
        "colab": {
          "base_uri": "https://localhost:8080/"
        },
        "id": "v8iw9uWK2aPt",
        "outputId": "a6b48b19-28c6-45b8-d5ad-682b4cfbc8db"
      },
      "execution_count": 86,
      "outputs": [
        {
          "output_type": "stream",
          "name": "stdout",
          "text": [
            "100\n"
          ]
        }
      ]
    },
    {
      "cell_type": "code",
      "source": [
        "a1.var=-10"
      ],
      "metadata": {
        "id": "3ZCaHsyS2cjV"
      },
      "execution_count": 87,
      "outputs": []
    },
    {
      "cell_type": "code",
      "source": [
        "print(A.var)"
      ],
      "metadata": {
        "colab": {
          "base_uri": "https://localhost:8080/"
        },
        "id": "i9pMJPwJ2kAv",
        "outputId": "e9ba9163-e000-4d20-a8e6-92734fc09865"
      },
      "execution_count": 88,
      "outputs": [
        {
          "output_type": "stream",
          "name": "stdout",
          "text": [
            "100\n"
          ]
        }
      ]
    },
    {
      "cell_type": "code",
      "source": [
        "print(a1.var)"
      ],
      "metadata": {
        "colab": {
          "base_uri": "https://localhost:8080/"
        },
        "id": "Jo7PBsWM2mxQ",
        "outputId": "500305d8-9d43-41fe-8518-32fc80b897ab"
      },
      "execution_count": 89,
      "outputs": [
        {
          "output_type": "stream",
          "name": "stdout",
          "text": [
            "-10\n"
          ]
        }
      ]
    },
    {
      "cell_type": "code",
      "source": [
        "class A:\n",
        "    def func(self):\n",
        "        print(\"Inside A\")\n",
        "class B:\n",
        "    def func(self):\n",
        "        print(\"Inside B\")\n",
        "\n",
        "class C(A,B):\n",
        "    def func(self):\n",
        "        B.func(self) # super.func()\n",
        "        print(\"Inside C\")\n",
        "c1= C()\n",
        "c1.func()"
      ],
      "metadata": {
        "colab": {
          "base_uri": "https://localhost:8080/"
        },
        "id": "Yu8og1fx2qCj",
        "outputId": "cc0dd24f-88d1-408e-de6e-61e90e2b2540"
      },
      "execution_count": 99,
      "outputs": [
        {
          "output_type": "stream",
          "name": "stdout",
          "text": [
            "Inside B\n",
            "Inside C\n"
          ]
        }
      ]
    },
    {
      "cell_type": "code",
      "source": [],
      "metadata": {
        "id": "BHvr2MQV3sQ3"
      },
      "execution_count": null,
      "outputs": []
    }
  ]
}